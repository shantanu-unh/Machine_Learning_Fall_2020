{
 "cells": [
  {
   "cell_type": "code",
   "execution_count": 33,
   "metadata": {
    "id": "uqkPLG1PG9GW"
   },
   "outputs": [],
   "source": [
    "import pandas\n",
    "import sklearn\n",
    "import numpy\n",
    "\n",
    "# You will need these:\n",
    "from sklearn.model_selection import train_test_split\n",
    "from sklearn.neighbors import KNeighborsRegressor\n",
    "from sklearn.ensemble import RandomForestRegressor"
   ]
  },
  {
   "cell_type": "code",
   "execution_count": 34,
   "metadata": {
    "colab": {
     "base_uri": "https://localhost:8080/",
     "height": 51
    },
    "id": "4eanNhErG9Ge",
    "outputId": "96317ee7-e52c-4801-bfd3-bf372e320263"
   },
   "outputs": [
    {
     "name": "stdout",
     "output_type": "stream",
     "text": [
      "Archive:  archive.zip\n",
      "replace auto-mpg.csv? [y]es, [n]o, [A]ll, [N]one, [r]ename: n\n"
     ]
    }
   ],
   "source": [
    "###\n",
    "# Download the Kaggle dataset of automotive miles per gallon\n",
    "# https://www.kaggle.com/uciml/autompg-dataset/version/3\n",
    "###\n",
    "!unzip archive.zip"
   ]
  },
  {
   "cell_type": "markdown",
   "metadata": {
    "id": "WbqEAcgnG9Gm"
   },
   "source": [
    "### 1. Create a pandas DataFrame of the Kaggle Auto dataset with above URL"
   ]
  },
  {
   "cell_type": "code",
   "execution_count": 35,
   "metadata": {
    "id": "TvxMr3XrG9Gm"
   },
   "outputs": [],
   "source": [
    "df = pandas.read_csv('auto-mpg.csv')"
   ]
  },
  {
   "cell_type": "markdown",
   "metadata": {
    "id": "A70an0JxG9Gq"
   },
   "source": [
    "### 2. Calculate the standard deviation of the mpg column using the pandas built-in function"
   ]
  },
  {
   "cell_type": "code",
   "execution_count": 39,
   "metadata": {
    "colab": {
     "base_uri": "https://localhost:8080/",
     "height": 34
    },
    "id": "d-3h4CqOG9Gr",
    "outputId": "e30390bb-b01f-49d8-e964-2e46e0aeadf3"
   },
   "outputs": [
    {
     "data": {
      "text/plain": [
       "7.815984312565782"
      ]
     },
     "execution_count": 39,
     "metadata": {
      "tags": []
     },
     "output_type": "execute_result"
    }
   ],
   "source": [
    "df['mpg'].std()"
   ]
  },
  {
   "cell_type": "markdown",
   "metadata": {
    "id": "Tv38vB-UG9G2"
   },
   "source": [
    "### 3. Calculate the standard deviation of the mgp column using the numpy built-in function"
   ]
  },
  {
   "cell_type": "code",
   "execution_count": 40,
   "metadata": {
    "colab": {
     "base_uri": "https://localhost:8080/",
     "height": 34
    },
    "id": "2rgiX3iSG9G3",
    "outputId": "a58dfdaa-325d-40de-9fcf-3b865d7533f7"
   },
   "outputs": [
    {
     "data": {
      "text/plain": [
       "7.806159061274433"
      ]
     },
     "execution_count": 40,
     "metadata": {
      "tags": []
     },
     "output_type": "execute_result"
    }
   ],
   "source": [
    "numpy.std(df['mpg'])"
   ]
  },
  {
   "cell_type": "markdown",
   "metadata": {
    "id": "vnocOaCPG9G7"
   },
   "source": [
    "### 4. Are the answers to questions 2 and 3 the same?  Why or why not might this be the case?"
   ]
  },
  {
   "cell_type": "code",
   "execution_count": 6,
   "metadata": {
    "id": "Tu6ngArGG9G7"
   },
   "outputs": [],
   "source": [
    "# The answer of question number 2 gives Standard Deviation more than the numpy one"
   ]
  },
  {
   "cell_type": "markdown",
   "metadata": {
    "id": "lFv9vvBnG9G_"
   },
   "source": [
    "### 5. Split the dataframe into training and testing datasets."
   ]
  },
  {
   "cell_type": "code",
   "execution_count": 14,
   "metadata": {
    "id": "FS8eKAEDJaZ2"
   },
   "outputs": [],
   "source": [
    "for column in df.columns:\n",
    "    if df[column].dtype == type(object):\n",
    "        le = sklearn.preprocessing.LabelEncoder()\n",
    "        df[column] = le.fit_transform(df[column])"
   ]
  },
  {
   "cell_type": "code",
   "execution_count": 15,
   "metadata": {
    "id": "G3Nw9SMWG9HA"
   },
   "outputs": [],
   "source": [
    "x = df.drop('mpg', axis=1)\n",
    "y = df['mpg']"
   ]
  },
  {
   "cell_type": "code",
   "execution_count": 16,
   "metadata": {
    "id": "xsQpaMBvIFqC"
   },
   "outputs": [],
   "source": [
    "X_train, X_test, y_train, y_test = train_test_split(x, y)"
   ]
  },
  {
   "cell_type": "markdown",
   "metadata": {
    "id": "exSZkvjHG9HN"
   },
   "source": [
    "### 6. We covered nearest neighbor models in week 3.  \n",
    "\n",
    "#### A) Create a K-NN model predicting mpg from the other columns.\n",
    "\n",
    "#### B) What is the mean absolute error of your predictions on the test dataset."
   ]
  },
  {
   "cell_type": "code",
   "execution_count": 17,
   "metadata": {
    "colab": {
     "base_uri": "https://localhost:8080/",
     "height": 34
    },
    "id": "LctpKaDPG9HO",
    "outputId": "8d816e0c-0925-4337-9523-c62e506b5be2"
   },
   "outputs": [
    {
     "name": "stdout",
     "output_type": "stream",
     "text": [
      "Accuracy: 0.43\n"
     ]
    }
   ],
   "source": [
    "clf = KNeighborsRegressor(n_neighbors=1, p=1)\n",
    "clf.fit(X_train, y_train)\n",
    "print('Accuracy: {:.2f}'.format(clf.score(X_test, y_test)))"
   ]
  },
  {
   "cell_type": "code",
   "execution_count": 25,
   "metadata": {
    "id": "hShnwIb4KVhk"
   },
   "outputs": [],
   "source": [
    "res = clf.predict(X_test)"
   ]
  },
  {
   "cell_type": "code",
   "execution_count": 31,
   "metadata": {
    "colab": {
     "base_uri": "https://localhost:8080/",
     "height": 34
    },
    "id": "0wFuPGusJeh-",
    "outputId": "d67a442a-a584-426a-cd56-cfbd03926c3c"
   },
   "outputs": [
    {
     "name": "stdout",
     "output_type": "stream",
     "text": [
      "The mean Absolute Error for KNeighborsRegressor is 4.053999999999999\n"
     ]
    }
   ],
   "source": [
    "mserror = sklearn.metrics.mean_absolute_error(res, y_test)\n",
    "print(\"The mean Absolute Error for KNeighborsRegressor is\",mserror)"
   ]
  },
  {
   "cell_type": "markdown",
   "metadata": {
    "id": "WUZbtfZLG9HT"
   },
   "source": [
    "### 7. We covered Random Forests in week 5.  \n",
    "#### A) Create a a RF model predicting mpg from the other columns.\n",
    "\n",
    "#### B) What is the mean absolute error of your predictions on the test dataset."
   ]
  },
  {
   "cell_type": "code",
   "execution_count": 29,
   "metadata": {
    "colab": {
     "base_uri": "https://localhost:8080/",
     "height": 136
    },
    "id": "M10cQDWqG9HW",
    "outputId": "52463b13-bb5b-446e-8400-3cbed5e6a98a"
   },
   "outputs": [
    {
     "data": {
      "text/plain": [
       "RandomForestRegressor(bootstrap=True, ccp_alpha=0.0, criterion='mse',\n",
       "                      max_depth=None, max_features='auto', max_leaf_nodes=None,\n",
       "                      max_samples=None, min_impurity_decrease=0.0,\n",
       "                      min_impurity_split=None, min_samples_leaf=1,\n",
       "                      min_samples_split=2, min_weight_fraction_leaf=0.0,\n",
       "                      n_estimators=100, n_jobs=None, oob_score=False,\n",
       "                      random_state=None, verbose=0, warm_start=False)"
      ]
     },
     "execution_count": 29,
     "metadata": {
      "tags": []
     },
     "output_type": "execute_result"
    }
   ],
   "source": [
    "rf = RandomForestRegressor(n_estimators=100)\n",
    "rf.fit(X_train, y_train)"
   ]
  },
  {
   "cell_type": "code",
   "execution_count": 30,
   "metadata": {
    "colab": {
     "base_uri": "https://localhost:8080/",
     "height": 34
    },
    "id": "mFgskhJHLUc3",
    "outputId": "cc0bec59-4acd-4bdc-cbea-2ea7ca00927e"
   },
   "outputs": [
    {
     "data": {
      "text/plain": [
       "0.7965694116603437"
      ]
     },
     "execution_count": 30,
     "metadata": {
      "tags": []
     },
     "output_type": "execute_result"
    }
   ],
   "source": [
    "rf.score(X_test, y_test)"
   ]
  },
  {
   "cell_type": "code",
   "execution_count": 32,
   "metadata": {
    "colab": {
     "base_uri": "https://localhost:8080/",
     "height": 34
    },
    "id": "-oUx91IXLXFE",
    "outputId": "afce8930-9a5a-48c2-c3fa-9c5d426873fa"
   },
   "outputs": [
    {
     "name": "stdout",
     "output_type": "stream",
     "text": [
      "The mean Absolute Error for Random Forest is 4.053999999999999\n"
     ]
    }
   ],
   "source": [
    "res_rf = rf.predict(X_test)\n",
    "mserror_rf = sklearn.metrics.mean_absolute_error(res, y_test)\n",
    "print(\"The mean Absolute Error for Random Forest is\",mserror)"
   ]
  },
  {
   "cell_type": "markdown",
   "metadata": {
    "id": "S2-7UvRuG9Hb"
   },
   "source": [
    "### 8. Which model is more accurate when comparing mean absolute error ?"
   ]
  },
  {
   "cell_type": "code",
   "execution_count": 41,
   "metadata": {
    "id": "vZEzFyNNG9Hc"
   },
   "outputs": [],
   "source": [
    "# Both are same when we see the mean absolute error for this dataset"
   ]
  },
  {
   "cell_type": "code",
   "execution_count": null,
   "metadata": {
    "id": "cmn7DKZaG9Hf"
   },
   "outputs": [],
   "source": []
  }
 ],
 "metadata": {
  "colab": {
   "collapsed_sections": [],
   "name": "Shantanu_Week_8_Quiz.ipynb",
   "provenance": [],
   "toc_visible": true
  },
  "kernelspec": {
   "display_name": "Python 3",
   "language": "python",
   "name": "python3"
  },
  "language_info": {
   "codemirror_mode": {
    "name": "ipython",
    "version": 3
   },
   "file_extension": ".py",
   "mimetype": "text/x-python",
   "name": "python",
   "nbconvert_exporter": "python",
   "pygments_lexer": "ipython3",
   "version": "3.5.6"
  }
 },
 "nbformat": 4,
 "nbformat_minor": 1
}
