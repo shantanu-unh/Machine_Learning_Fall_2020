{
 "cells": [
  {
   "cell_type": "markdown",
   "metadata": {},
   "source": [
    "### LAB Item 1\n",
    "\n",
    "1. Run weather regression from 1/1/2012 --> 8/1/2019 to Natural Gas Consumption\n",
    "\n",
    "    https://www.eia.gov/dnav/ng/ng_cons_sum_dcu_nus_m.htm\n",
    "    \n",
    "2. Using SkLearn, regress to sum of: U.S. Natural Gas Residential Consumption (MMcf) + Natural Gas Deliveries to Commercial Consumers (Including Vehicle Fuel through 1996) in the U.S. (MMcf)\n",
    "\n",
    "3. What is R^2 ?\n",
    "\n",
    "4. Estimate October 2019!"
   ]
  },
  {
   "cell_type": "code",
   "execution_count": null,
   "metadata": {},
   "outputs": [],
   "source": []
  },
  {
   "cell_type": "code",
   "execution_count": null,
   "metadata": {},
   "outputs": [],
   "source": []
  },
  {
   "cell_type": "markdown",
   "metadata": {},
   "source": [
    "### LAB Item 2\n",
    "\n",
    "1. Run the same calculation as LAB1 using the python statsmodels package\n",
    "\n",
    "import statsmodels.api as sm\n",
    "\n",
    "mod = sm.OLS(Y, X)\n",
    "\n",
    "res = mod.fit()"
   ]
  },
  {
   "cell_type": "code",
   "execution_count": 5,
   "metadata": {},
   "outputs": [
    {
     "data": {
      "text/plain": [
       "'0.11.1'"
      ]
     },
     "execution_count": 5,
     "metadata": {},
     "output_type": "execute_result"
    }
   ],
   "source": [
    "import statsmodels.api as sm\n",
    "import statsmodels\n",
    "statsmodels.__version__"
   ]
  },
  {
   "cell_type": "code",
   "execution_count": null,
   "metadata": {},
   "outputs": [],
   "source": []
  },
  {
   "cell_type": "markdown",
   "metadata": {},
   "source": [
    "### LAB Item 3\n",
    "\n",
    "Return to previous dataset: Adult income\n",
    "https://www.kaggle.com/wenruliu/adult-income-dataset\n",
    "\n",
    "Build a logistic Regression targeting income above / below 50k...\n",
    "\n",
    "Review Example."
   ]
  },
  {
   "cell_type": "code",
   "execution_count": null,
   "metadata": {},
   "outputs": [],
   "source": []
  },
  {
   "cell_type": "code",
   "execution_count": null,
   "metadata": {},
   "outputs": [],
   "source": []
  },
  {
   "cell_type": "markdown",
   "metadata": {},
   "source": [
    "### LAB Item 4: Let's take a look at the sklearn California housing dataset from a few weeks ago\n",
    "\n",
    "... A)  review a multivariate regression\n",
    "\n",
    "... B) Compare the results from the multivariate linear regression to a random forest by building a RF.  You've built a random forest on this dataset before."
   ]
  },
  {
   "cell_type": "code",
   "execution_count": null,
   "metadata": {},
   "outputs": [],
   "source": []
  }
 ],
 "metadata": {
  "kernelspec": {
   "display_name": "Python 3",
   "language": "python",
   "name": "python3"
  },
  "language_info": {
   "codemirror_mode": {
    "name": "ipython",
    "version": 3
   },
   "file_extension": ".py",
   "mimetype": "text/x-python",
   "name": "python",
   "nbconvert_exporter": "python",
   "pygments_lexer": "ipython3",
   "version": "3.7.4"
  }
 },
 "nbformat": 4,
 "nbformat_minor": 2
}
