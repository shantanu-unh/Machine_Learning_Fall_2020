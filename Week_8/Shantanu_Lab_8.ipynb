{
 "cells": [
  {
   "cell_type": "markdown",
   "metadata": {},
   "source": [
    "### LAB Item 1\n",
    "\n",
    "1. Run weather regression from 1/1/2012 --> 8/1/2019 to Natural Gas Consumption\n",
    "\n",
    "    https://www.eia.gov/dnav/ng/ng_cons_sum_dcu_nus_m.htm\n",
    "    \n",
    "2. Using SkLearn, regress to sum of: U.S. Natural Gas Residential Consumption (MMcf) + Natural Gas Deliveries to Commercial Consumers (Including Vehicle Fuel through 1996) in the U.S. (MMcf)\n",
    "\n",
    "3. What is R^2 ?\n",
    "\n",
    "4. Estimate October 2019!"
   ]
  },
  {
   "cell_type": "code",
   "execution_count": null,
   "metadata": {},
   "outputs": [],
   "source": []
  },
  {
   "cell_type": "code",
   "execution_count": 13,
   "metadata": {},
   "outputs": [],
   "source": [
    "#1\n",
    "import numpy\n",
    "import pandas\n",
    "import sklearn\n",
    "from matplotlib import pyplot as plt\n",
    "%matplotlib inline\n",
    "from sklearn.linear_model import LinearRegression\n",
    "\n",
    "import plotly\n",
    "#import chart_studio.plotly as py\n",
    "# import cufflinks\n",
    "\n",
    "import plotly.graph_objects as go\n",
    "#from chart_studio.plotly import plot, iplot"
   ]
  },
  {
   "cell_type": "code",
   "execution_count": 8,
   "metadata": {},
   "outputs": [],
   "source": [
    "temp_df = pandas.read_excel('weather-natgas.xlsx', sheet_name='Weather')\n",
    "ng_df = pandas.read_excel('weather-natgas.xlsx', sheet_name='NatGas')\n"
   ]
  },
  {
   "cell_type": "code",
   "execution_count": 9,
   "metadata": {},
   "outputs": [
    {
     "data": {
      "text/html": [
       "<div>\n",
       "<style scoped>\n",
       "    .dataframe tbody tr th:only-of-type {\n",
       "        vertical-align: middle;\n",
       "    }\n",
       "\n",
       "    .dataframe tbody tr th {\n",
       "        vertical-align: top;\n",
       "    }\n",
       "\n",
       "    .dataframe thead th {\n",
       "        text-align: right;\n",
       "    }\n",
       "</style>\n",
       "<table border=\"1\" class=\"dataframe\">\n",
       "  <thead>\n",
       "    <tr style=\"text-align: right;\">\n",
       "      <th></th>\n",
       "      <th>themonth</th>\n",
       "      <th>hdd</th>\n",
       "      <th>cdd</th>\n",
       "      <th>temp_natl</th>\n",
       "    </tr>\n",
       "  </thead>\n",
       "  <tbody>\n",
       "    <tr>\n",
       "      <th>0</th>\n",
       "      <td>2017-01-01</td>\n",
       "      <td>23.648603</td>\n",
       "      <td>0.313590</td>\n",
       "      <td>41.664987</td>\n",
       "    </tr>\n",
       "    <tr>\n",
       "      <th>1</th>\n",
       "      <td>2017-02-01</td>\n",
       "      <td>18.392368</td>\n",
       "      <td>0.537725</td>\n",
       "      <td>47.145357</td>\n",
       "    </tr>\n",
       "    <tr>\n",
       "      <th>2</th>\n",
       "      <td>2017-03-01</td>\n",
       "      <td>16.762865</td>\n",
       "      <td>0.893394</td>\n",
       "      <td>49.130529</td>\n",
       "    </tr>\n",
       "  </tbody>\n",
       "</table>\n",
       "</div>"
      ],
      "text/plain": [
       "    themonth        hdd       cdd  temp_natl\n",
       "0 2017-01-01  23.648603  0.313590  41.664987\n",
       "1 2017-02-01  18.392368  0.537725  47.145357\n",
       "2 2017-03-01  16.762865  0.893394  49.130529"
      ]
     },
     "execution_count": 9,
     "metadata": {},
     "output_type": "execute_result"
    }
   ],
   "source": [
    "temp_df.head(3)"
   ]
  },
  {
   "cell_type": "code",
   "execution_count": 10,
   "metadata": {},
   "outputs": [
    {
     "data": {
      "text/html": [
       "<div>\n",
       "<style scoped>\n",
       "    .dataframe tbody tr th:only-of-type {\n",
       "        vertical-align: middle;\n",
       "    }\n",
       "\n",
       "    .dataframe tbody tr th {\n",
       "        vertical-align: top;\n",
       "    }\n",
       "\n",
       "    .dataframe thead th {\n",
       "        text-align: right;\n",
       "    }\n",
       "</style>\n",
       "<table border=\"1\" class=\"dataframe\">\n",
       "  <thead>\n",
       "    <tr style=\"text-align: right;\">\n",
       "      <th></th>\n",
       "      <th>Date</th>\n",
       "      <th>U.S. Natural Gas Total Consumption (MMcf)</th>\n",
       "      <th>U.S. Natural Gas Lease and Plant Fuel Consumption (MMcf)</th>\n",
       "      <th>U.S. Natural Gas Pipeline &amp; Distribution Use (MMcf)</th>\n",
       "      <th>Natural Gas Delivered to Consumers in the U.S. (MMcf)</th>\n",
       "      <th>U.S. Natural Gas Residential Consumption (MMcf)</th>\n",
       "      <th>Natural Gas Deliveries to Commercial Consumers (Including Vehicle Fuel through 1996) in the U.S. (MMcf)</th>\n",
       "      <th>U.S. Natural Gas Industrial Consumption (MMcf)</th>\n",
       "      <th>U.S. Natural Gas Vehicle Fuel Consumption (MMcf)</th>\n",
       "      <th>U.S. Natural Gas Deliveries to Electric Power Consumers (MMcf)</th>\n",
       "    </tr>\n",
       "  </thead>\n",
       "  <tbody>\n",
       "    <tr>\n",
       "      <th>0</th>\n",
       "      <td>2017-01-01</td>\n",
       "      <td>2916275</td>\n",
       "      <td>126894</td>\n",
       "      <td>78772</td>\n",
       "      <td>2710609</td>\n",
       "      <td>830726</td>\n",
       "      <td>479354</td>\n",
       "      <td>734762</td>\n",
       "      <td>6145</td>\n",
       "      <td>659623</td>\n",
       "    </tr>\n",
       "    <tr>\n",
       "      <th>1</th>\n",
       "      <td>2017-02-01</td>\n",
       "      <td>2341960</td>\n",
       "      <td>116217</td>\n",
       "      <td>62855</td>\n",
       "      <td>2162888</td>\n",
       "      <td>579341</td>\n",
       "      <td>359423</td>\n",
       "      <td>650301</td>\n",
       "      <td>5042</td>\n",
       "      <td>568781</td>\n",
       "    </tr>\n",
       "    <tr>\n",
       "      <th>2</th>\n",
       "      <td>2017-03-01</td>\n",
       "      <td>2524803</td>\n",
       "      <td>131579</td>\n",
       "      <td>67584</td>\n",
       "      <td>2325640</td>\n",
       "      <td>579810</td>\n",
       "      <td>371651</td>\n",
       "      <td>696846</td>\n",
       "      <td>5156</td>\n",
       "      <td>672176</td>\n",
       "    </tr>\n",
       "  </tbody>\n",
       "</table>\n",
       "</div>"
      ],
      "text/plain": [
       "        Date  U.S. Natural Gas Total Consumption (MMcf)  \\\n",
       "0 2017-01-01                                    2916275   \n",
       "1 2017-02-01                                    2341960   \n",
       "2 2017-03-01                                    2524803   \n",
       "\n",
       "   U.S. Natural Gas Lease and Plant Fuel Consumption (MMcf)  \\\n",
       "0                                             126894          \n",
       "1                                             116217          \n",
       "2                                             131579          \n",
       "\n",
       "   U.S. Natural Gas Pipeline & Distribution Use (MMcf)  \\\n",
       "0                                              78772     \n",
       "1                                              62855     \n",
       "2                                              67584     \n",
       "\n",
       "   Natural Gas Delivered to Consumers in the U.S. (MMcf)  \\\n",
       "0                                            2710609       \n",
       "1                                            2162888       \n",
       "2                                            2325640       \n",
       "\n",
       "   U.S. Natural Gas Residential Consumption (MMcf)  \\\n",
       "0                                           830726   \n",
       "1                                           579341   \n",
       "2                                           579810   \n",
       "\n",
       "   Natural Gas Deliveries to Commercial Consumers (Including Vehicle Fuel through 1996) in the U.S. (MMcf)  \\\n",
       "0                                             479354                                                         \n",
       "1                                             359423                                                         \n",
       "2                                             371651                                                         \n",
       "\n",
       "   U.S. Natural Gas Industrial Consumption (MMcf)  \\\n",
       "0                                          734762   \n",
       "1                                          650301   \n",
       "2                                          696846   \n",
       "\n",
       "   U.S. Natural Gas Vehicle Fuel Consumption (MMcf)  \\\n",
       "0                                              6145   \n",
       "1                                              5042   \n",
       "2                                              5156   \n",
       "\n",
       "   U.S. Natural Gas Deliveries to Electric Power Consumers (MMcf)  \n",
       "0                                             659623               \n",
       "1                                             568781               \n",
       "2                                             672176               "
      ]
     },
     "execution_count": 10,
     "metadata": {},
     "output_type": "execute_result"
    }
   ],
   "source": [
    "ng_df.head(3)"
   ]
  },
  {
   "cell_type": "code",
   "execution_count": 11,
   "metadata": {},
   "outputs": [],
   "source": [
    "temp_df['themonth'] = pandas.to_datetime(temp_df['themonth'])\n",
    "ng_df['Date'] = pandas.to_datetime(ng_df['Date'])"
   ]
  },
  {
   "cell_type": "code",
   "execution_count": 12,
   "metadata": {},
   "outputs": [
    {
     "data": {
      "text/html": [
       "<div>\n",
       "<style scoped>\n",
       "    .dataframe tbody tr th:only-of-type {\n",
       "        vertical-align: middle;\n",
       "    }\n",
       "\n",
       "    .dataframe tbody tr th {\n",
       "        vertical-align: top;\n",
       "    }\n",
       "\n",
       "    .dataframe thead th {\n",
       "        text-align: right;\n",
       "    }\n",
       "</style>\n",
       "<table border=\"1\" class=\"dataframe\">\n",
       "  <thead>\n",
       "    <tr style=\"text-align: right;\">\n",
       "      <th></th>\n",
       "      <th>themonth</th>\n",
       "      <th>hdd</th>\n",
       "      <th>cdd</th>\n",
       "      <th>temp_natl</th>\n",
       "      <th>Date</th>\n",
       "      <th>U.S. Natural Gas Total Consumption (MMcf)</th>\n",
       "      <th>U.S. Natural Gas Lease and Plant Fuel Consumption (MMcf)</th>\n",
       "      <th>U.S. Natural Gas Pipeline &amp; Distribution Use (MMcf)</th>\n",
       "      <th>Natural Gas Delivered to Consumers in the U.S. (MMcf)</th>\n",
       "      <th>U.S. Natural Gas Residential Consumption (MMcf)</th>\n",
       "      <th>Natural Gas Deliveries to Commercial Consumers (Including Vehicle Fuel through 1996) in the U.S. (MMcf)</th>\n",
       "      <th>U.S. Natural Gas Industrial Consumption (MMcf)</th>\n",
       "      <th>U.S. Natural Gas Vehicle Fuel Consumption (MMcf)</th>\n",
       "      <th>U.S. Natural Gas Deliveries to Electric Power Consumers (MMcf)</th>\n",
       "      <th>ones</th>\n",
       "    </tr>\n",
       "  </thead>\n",
       "  <tbody>\n",
       "    <tr>\n",
       "      <th>27</th>\n",
       "      <td>2019-04-01</td>\n",
       "      <td>8.673257</td>\n",
       "      <td>1.523303</td>\n",
       "      <td>57.850047</td>\n",
       "      <td>2019-04-01</td>\n",
       "      <td>2201582</td>\n",
       "      <td>149778</td>\n",
       "      <td>63166</td>\n",
       "      <td>1988639</td>\n",
       "      <td>327642</td>\n",
       "      <td>248512</td>\n",
       "      <td>672132</td>\n",
       "      <td>4489</td>\n",
       "      <td>735863</td>\n",
       "      <td>1</td>\n",
       "    </tr>\n",
       "    <tr>\n",
       "      <th>28</th>\n",
       "      <td>2019-05-01</td>\n",
       "      <td>4.221135</td>\n",
       "      <td>4.262452</td>\n",
       "      <td>65.041316</td>\n",
       "      <td>2019-05-01</td>\n",
       "      <td>2121523</td>\n",
       "      <td>154091</td>\n",
       "      <td>60869</td>\n",
       "      <td>1906564</td>\n",
       "      <td>211616</td>\n",
       "      <td>185746</td>\n",
       "      <td>673190</td>\n",
       "      <td>4639</td>\n",
       "      <td>831373</td>\n",
       "      <td>1</td>\n",
       "    </tr>\n",
       "    <tr>\n",
       "      <th>29</th>\n",
       "      <td>2019-06-01</td>\n",
       "      <td>0.668620</td>\n",
       "      <td>7.894777</td>\n",
       "      <td>72.226157</td>\n",
       "      <td>2019-06-01</td>\n",
       "      <td>2115736</td>\n",
       "      <td>151035</td>\n",
       "      <td>60703</td>\n",
       "      <td>1903999</td>\n",
       "      <td>128761</td>\n",
       "      <td>144783</td>\n",
       "      <td>632673</td>\n",
       "      <td>4489</td>\n",
       "      <td>993293</td>\n",
       "      <td>1</td>\n",
       "    </tr>\n",
       "    <tr>\n",
       "      <th>30</th>\n",
       "      <td>2019-07-01</td>\n",
       "      <td>0.041155</td>\n",
       "      <td>12.464210</td>\n",
       "      <td>77.423055</td>\n",
       "      <td>2019-07-01</td>\n",
       "      <td>2408122</td>\n",
       "      <td>156039</td>\n",
       "      <td>69091</td>\n",
       "      <td>2182991</td>\n",
       "      <td>113482</td>\n",
       "      <td>143987</td>\n",
       "      <td>647345</td>\n",
       "      <td>4639</td>\n",
       "      <td>1273538</td>\n",
       "      <td>1</td>\n",
       "    </tr>\n",
       "    <tr>\n",
       "      <th>31</th>\n",
       "      <td>2019-08-01</td>\n",
       "      <td>0.081061</td>\n",
       "      <td>11.162419</td>\n",
       "      <td>76.081358</td>\n",
       "      <td>2019-08-01</td>\n",
       "      <td>2430780</td>\n",
       "      <td>159871</td>\n",
       "      <td>69741</td>\n",
       "      <td>2201168</td>\n",
       "      <td>101598</td>\n",
       "      <td>142116</td>\n",
       "      <td>664326</td>\n",
       "      <td>4639</td>\n",
       "      <td>1288489</td>\n",
       "      <td>1</td>\n",
       "    </tr>\n",
       "  </tbody>\n",
       "</table>\n",
       "</div>"
      ],
      "text/plain": [
       "     themonth       hdd        cdd  temp_natl       Date  \\\n",
       "27 2019-04-01  8.673257   1.523303  57.850047 2019-04-01   \n",
       "28 2019-05-01  4.221135   4.262452  65.041316 2019-05-01   \n",
       "29 2019-06-01  0.668620   7.894777  72.226157 2019-06-01   \n",
       "30 2019-07-01  0.041155  12.464210  77.423055 2019-07-01   \n",
       "31 2019-08-01  0.081061  11.162419  76.081358 2019-08-01   \n",
       "\n",
       "    U.S. Natural Gas Total Consumption (MMcf)  \\\n",
       "27                                    2201582   \n",
       "28                                    2121523   \n",
       "29                                    2115736   \n",
       "30                                    2408122   \n",
       "31                                    2430780   \n",
       "\n",
       "    U.S. Natural Gas Lease and Plant Fuel Consumption (MMcf)  \\\n",
       "27                                             149778          \n",
       "28                                             154091          \n",
       "29                                             151035          \n",
       "30                                             156039          \n",
       "31                                             159871          \n",
       "\n",
       "    U.S. Natural Gas Pipeline & Distribution Use (MMcf)  \\\n",
       "27                                              63166     \n",
       "28                                              60869     \n",
       "29                                              60703     \n",
       "30                                              69091     \n",
       "31                                              69741     \n",
       "\n",
       "    Natural Gas Delivered to Consumers in the U.S. (MMcf)  \\\n",
       "27                                            1988639       \n",
       "28                                            1906564       \n",
       "29                                            1903999       \n",
       "30                                            2182991       \n",
       "31                                            2201168       \n",
       "\n",
       "    U.S. Natural Gas Residential Consumption (MMcf)  \\\n",
       "27                                           327642   \n",
       "28                                           211616   \n",
       "29                                           128761   \n",
       "30                                           113482   \n",
       "31                                           101598   \n",
       "\n",
       "    Natural Gas Deliveries to Commercial Consumers (Including Vehicle Fuel through 1996) in the U.S. (MMcf)  \\\n",
       "27                                             248512                                                         \n",
       "28                                             185746                                                         \n",
       "29                                             144783                                                         \n",
       "30                                             143987                                                         \n",
       "31                                             142116                                                         \n",
       "\n",
       "    U.S. Natural Gas Industrial Consumption (MMcf)  \\\n",
       "27                                          672132   \n",
       "28                                          673190   \n",
       "29                                          632673   \n",
       "30                                          647345   \n",
       "31                                          664326   \n",
       "\n",
       "    U.S. Natural Gas Vehicle Fuel Consumption (MMcf)  \\\n",
       "27                                              4489   \n",
       "28                                              4639   \n",
       "29                                              4489   \n",
       "30                                              4639   \n",
       "31                                              4639   \n",
       "\n",
       "    U.S. Natural Gas Deliveries to Electric Power Consumers (MMcf)  ones  \n",
       "27                                             735863                  1  \n",
       "28                                             831373                  1  \n",
       "29                                             993293                  1  \n",
       "30                                            1273538                  1  \n",
       "31                                            1288489                  1  "
      ]
     },
     "execution_count": 12,
     "metadata": {},
     "output_type": "execute_result"
    }
   ],
   "source": [
    "m_df = temp_df.merge(ng_df, left_on=['themonth'], right_on=['Date'])\n",
    "m_df['ones'] = 1\n",
    "m_df.tail()"
   ]
  },
  {
   "cell_type": "code",
   "execution_count": 107,
   "metadata": {},
   "outputs": [
    {
     "data": {
      "text/html": [
       "<div>\n",
       "<style scoped>\n",
       "    .dataframe tbody tr th:only-of-type {\n",
       "        vertical-align: middle;\n",
       "    }\n",
       "\n",
       "    .dataframe tbody tr th {\n",
       "        vertical-align: top;\n",
       "    }\n",
       "\n",
       "    .dataframe thead th {\n",
       "        text-align: right;\n",
       "    }\n",
       "</style>\n",
       "<table border=\"1\" class=\"dataframe\">\n",
       "  <thead>\n",
       "    <tr style=\"text-align: right;\">\n",
       "      <th></th>\n",
       "      <th>themonth</th>\n",
       "      <th>hdd</th>\n",
       "      <th>cdd</th>\n",
       "      <th>temp_natl</th>\n",
       "      <th>Date</th>\n",
       "      <th>U.S. Natural Gas Total Consumption (MMcf)</th>\n",
       "      <th>U.S. Natural Gas Lease and Plant Fuel Consumption (MMcf)</th>\n",
       "      <th>U.S. Natural Gas Pipeline &amp; Distribution Use (MMcf)</th>\n",
       "      <th>Natural Gas Delivered to Consumers in the U.S. (MMcf)</th>\n",
       "      <th>U.S. Natural Gas Residential Consumption (MMcf)</th>\n",
       "      <th>Natural Gas Deliveries to Commercial Consumers (Including Vehicle Fuel through 1996) in the U.S. (MMcf)</th>\n",
       "      <th>U.S. Natural Gas Industrial Consumption (MMcf)</th>\n",
       "      <th>U.S. Natural Gas Vehicle Fuel Consumption (MMcf)</th>\n",
       "      <th>U.S. Natural Gas Deliveries to Electric Power Consumers (MMcf)</th>\n",
       "      <th>ones</th>\n",
       "      <th>rescomm</th>\n",
       "    </tr>\n",
       "  </thead>\n",
       "  <tbody>\n",
       "    <tr>\n",
       "      <th>0</th>\n",
       "      <td>2017-01-01</td>\n",
       "      <td>23.648603</td>\n",
       "      <td>0.313590</td>\n",
       "      <td>41.664987</td>\n",
       "      <td>2017-01-01</td>\n",
       "      <td>2916275</td>\n",
       "      <td>126894</td>\n",
       "      <td>78772</td>\n",
       "      <td>2710609</td>\n",
       "      <td>830726</td>\n",
       "      <td>479354</td>\n",
       "      <td>734762</td>\n",
       "      <td>6145</td>\n",
       "      <td>659623</td>\n",
       "      <td>1</td>\n",
       "      <td>1310080</td>\n",
       "    </tr>\n",
       "    <tr>\n",
       "      <th>1</th>\n",
       "      <td>2017-02-01</td>\n",
       "      <td>18.392368</td>\n",
       "      <td>0.537725</td>\n",
       "      <td>47.145357</td>\n",
       "      <td>2017-02-01</td>\n",
       "      <td>2341960</td>\n",
       "      <td>116217</td>\n",
       "      <td>62855</td>\n",
       "      <td>2162888</td>\n",
       "      <td>579341</td>\n",
       "      <td>359423</td>\n",
       "      <td>650301</td>\n",
       "      <td>5042</td>\n",
       "      <td>568781</td>\n",
       "      <td>1</td>\n",
       "      <td>938764</td>\n",
       "    </tr>\n",
       "    <tr>\n",
       "      <th>2</th>\n",
       "      <td>2017-03-01</td>\n",
       "      <td>16.762865</td>\n",
       "      <td>0.893394</td>\n",
       "      <td>49.130529</td>\n",
       "      <td>2017-03-01</td>\n",
       "      <td>2524803</td>\n",
       "      <td>131579</td>\n",
       "      <td>67584</td>\n",
       "      <td>2325640</td>\n",
       "      <td>579810</td>\n",
       "      <td>371651</td>\n",
       "      <td>696846</td>\n",
       "      <td>5156</td>\n",
       "      <td>672176</td>\n",
       "      <td>1</td>\n",
       "      <td>951461</td>\n",
       "    </tr>\n",
       "  </tbody>\n",
       "</table>\n",
       "</div>"
      ],
      "text/plain": [
       "    themonth        hdd       cdd  temp_natl       Date  \\\n",
       "0 2017-01-01  23.648603  0.313590  41.664987 2017-01-01   \n",
       "1 2017-02-01  18.392368  0.537725  47.145357 2017-02-01   \n",
       "2 2017-03-01  16.762865  0.893394  49.130529 2017-03-01   \n",
       "\n",
       "   U.S. Natural Gas Total Consumption (MMcf)  \\\n",
       "0                                    2916275   \n",
       "1                                    2341960   \n",
       "2                                    2524803   \n",
       "\n",
       "   U.S. Natural Gas Lease and Plant Fuel Consumption (MMcf)  \\\n",
       "0                                             126894          \n",
       "1                                             116217          \n",
       "2                                             131579          \n",
       "\n",
       "   U.S. Natural Gas Pipeline & Distribution Use (MMcf)  \\\n",
       "0                                              78772     \n",
       "1                                              62855     \n",
       "2                                              67584     \n",
       "\n",
       "   Natural Gas Delivered to Consumers in the U.S. (MMcf)  \\\n",
       "0                                            2710609       \n",
       "1                                            2162888       \n",
       "2                                            2325640       \n",
       "\n",
       "   U.S. Natural Gas Residential Consumption (MMcf)  \\\n",
       "0                                           830726   \n",
       "1                                           579341   \n",
       "2                                           579810   \n",
       "\n",
       "   Natural Gas Deliveries to Commercial Consumers (Including Vehicle Fuel through 1996) in the U.S. (MMcf)  \\\n",
       "0                                             479354                                                         \n",
       "1                                             359423                                                         \n",
       "2                                             371651                                                         \n",
       "\n",
       "   U.S. Natural Gas Industrial Consumption (MMcf)  \\\n",
       "0                                          734762   \n",
       "1                                          650301   \n",
       "2                                          696846   \n",
       "\n",
       "   U.S. Natural Gas Vehicle Fuel Consumption (MMcf)  \\\n",
       "0                                              6145   \n",
       "1                                              5042   \n",
       "2                                              5156   \n",
       "\n",
       "   U.S. Natural Gas Deliveries to Electric Power Consumers (MMcf)  ones  \\\n",
       "0                                             659623                  1   \n",
       "1                                             568781                  1   \n",
       "2                                             672176                  1   \n",
       "\n",
       "   rescomm  \n",
       "0  1310080  \n",
       "1   938764  \n",
       "2   951461  "
      ]
     },
     "execution_count": 107,
     "metadata": {},
     "output_type": "execute_result"
    }
   ],
   "source": [
    "m_df['rescomm'] = m_df['Natural Gas Deliveries to Commercial Consumers (Including Vehicle Fuel through 1996) in the U.S. (MMcf)'] + m_df['U.S. Natural Gas Residential Consumption (MMcf)']\n",
    "m_df.head(3)"
   ]
  },
  {
   "cell_type": "code",
   "execution_count": 108,
   "metadata": {},
   "outputs": [],
   "source": [
    "x = m_df.drop('rescomm', axis=1)\n",
    "y = m_df['rescomm']"
   ]
  },
  {
   "cell_type": "code",
   "execution_count": 14,
   "metadata": {},
   "outputs": [
    {
     "data": {
      "text/plain": [
       "0.9402280087527911"
      ]
     },
     "execution_count": 14,
     "metadata": {},
     "output_type": "execute_result"
    }
   ],
   "source": [
    "# reg = LinearRegression().fit(m_df[['temp_natl']], m_df[['U.S. Natural Gas Residential Consumption (MMcf)']])\n",
    "# reg_pred = reg.predict(m_df[['temp_natl']])\n",
    "# reg.score(m_df[['temp_natl']], m_df[['U.S. Natural Gas Residential Consumption (MMcf)']])"
   ]
  },
  {
   "cell_type": "code",
   "execution_count": 110,
   "metadata": {},
   "outputs": [
    {
     "data": {
      "text/plain": [
       "0.9423994988358022"
      ]
     },
     "execution_count": 110,
     "metadata": {},
     "output_type": "execute_result"
    }
   ],
   "source": [
    "reg = LinearRegression().fit(m_df[['temp_natl']], y)\n",
    "reg_pred = reg.predict(m_df[['temp_natl']])\n",
    "reg.score(m_df[['temp_natl']], y)"
   ]
  },
  {
   "cell_type": "code",
   "execution_count": 117,
   "metadata": {},
   "outputs": [
    {
     "ename": "SyntaxError",
     "evalue": "invalid syntax (<ipython-input-117-916d98defa7e>, line 1)",
     "output_type": "error",
     "traceback": [
      "\u001b[1;36m  File \u001b[1;32m\"<ipython-input-117-916d98defa7e>\"\u001b[1;36m, line \u001b[1;32m1\u001b[0m\n\u001b[1;33m    m_df.(temp_natl)(m_df['themonth'].dt.month == 10)\u001b[0m\n\u001b[1;37m         ^\u001b[0m\n\u001b[1;31mSyntaxError\u001b[0m\u001b[1;31m:\u001b[0m invalid syntax\n"
     ]
    }
   ],
   "source": [
    "# m_df.(temp_natl)(m_df['themonth'].dt.month == 10)\n",
    "# tmp_value = "
   ]
  },
  {
   "cell_type": "code",
   "execution_count": 124,
   "metadata": {},
   "outputs": [],
   "source": [
    "# reg.predict(m_df['themonth'].dt.month == 10)\n",
    "# We can put the value directly\n",
    "\n",
    "pr = reg.predict([[59.718855]])"
   ]
  },
  {
   "cell_type": "code",
   "execution_count": 129,
   "metadata": {},
   "outputs": [
    {
     "name": "stdout",
     "output_type": "stream",
     "text": [
      "The Prediction for October 2019 is : 649106.595\n"
     ]
    }
   ],
   "source": [
    "print(\"The Prediction for October 2019 is :\",pr[0].round(3))"
   ]
  },
  {
   "cell_type": "code",
   "execution_count": 130,
   "metadata": {},
   "outputs": [],
   "source": [
    "# m_df.dtypes"
   ]
  },
  {
   "cell_type": "markdown",
   "metadata": {},
   "source": [
    "## Q3 R^2 is also called as coefficient of determination, is the proportion of the variance in the dependent variable that is predictable from the independent variable."
   ]
  },
  {
   "cell_type": "markdown",
   "metadata": {},
   "source": [
    "### LAB Item 2\n",
    "\n",
    "1. Run the same calculation as LAB1 using the python statsmodels package\n",
    "\n",
    "import statsmodels.api as sm\n",
    "\n",
    "mod = sm.OLS(Y, X)\n",
    "\n",
    "res = mod.fit()"
   ]
  },
  {
   "cell_type": "code",
   "execution_count": 102,
   "metadata": {},
   "outputs": [
    {
     "data": {
      "text/plain": [
       "'0.11.1'"
      ]
     },
     "execution_count": 102,
     "metadata": {},
     "output_type": "execute_result"
    }
   ],
   "source": [
    "import statsmodels.api as sm\n",
    "import statsmodels\n",
    "statsmodels.__version__"
   ]
  },
  {
   "cell_type": "code",
   "execution_count": 101,
   "metadata": {},
   "outputs": [],
   "source": [
    "# !pip install statsmodels"
   ]
  },
  {
   "cell_type": "code",
   "execution_count": 137,
   "metadata": {},
   "outputs": [],
   "source": [
    "m_df['ones'] = 1"
   ]
  },
  {
   "cell_type": "code",
   "execution_count": 140,
   "metadata": {},
   "outputs": [
    {
     "data": {
      "text/plain": [
       "temp_natl   -3.068242e+04\n",
       "ones         2.481425e+06\n",
       "dtype: float64"
      ]
     },
     "execution_count": 140,
     "metadata": {},
     "output_type": "execute_result"
    }
   ],
   "source": [
    "model = sm.OLS(y, m_df[['temp_natl', 'ones']])\n",
    "results = model.fit()\n",
    "results.params"
   ]
  },
  {
   "cell_type": "code",
   "execution_count": 141,
   "metadata": {},
   "outputs": [
    {
     "name": "stdout",
     "output_type": "stream",
     "text": [
      "                            OLS Regression Results                            \n",
      "==============================================================================\n",
      "Dep. Variable:                rescomm   R-squared:                       0.942\n",
      "Model:                            OLS   Adj. R-squared:                  0.940\n",
      "Method:                 Least Squares   F-statistic:                     490.8\n",
      "Date:                Mon, 12 Oct 2020   Prob (F-statistic):           3.79e-20\n",
      "Time:                        22:04:15   Log-Likelihood:                -415.32\n",
      "No. Observations:                  32   AIC:                             834.6\n",
      "Df Residuals:                      30   BIC:                             837.6\n",
      "Df Model:                           1                                         \n",
      "Covariance Type:            nonrobust                                         \n",
      "==============================================================================\n",
      "                 coef    std err          t      P>|t|      [0.025      0.975]\n",
      "------------------------------------------------------------------------------\n",
      "temp_natl  -3.068e+04   1384.920    -22.155      0.000   -3.35e+04   -2.79e+04\n",
      "ones        2.481e+06   8.36e+04     29.695      0.000    2.31e+06    2.65e+06\n",
      "==============================================================================\n",
      "Omnibus:                        2.699   Durbin-Watson:                   1.215\n",
      "Prob(Omnibus):                  0.259   Jarque-Bera (JB):                1.330\n",
      "Skew:                           0.002   Prob(JB):                        0.514\n",
      "Kurtosis:                       2.001   Cond. No.                         264.\n",
      "==============================================================================\n",
      "\n",
      "Warnings:\n",
      "[1] Standard Errors assume that the covariance matrix of the errors is correctly specified.\n"
     ]
    }
   ],
   "source": [
    "print(results.summary())"
   ]
  },
  {
   "cell_type": "code",
   "execution_count": 133,
   "metadata": {},
   "outputs": [],
   "source": [
    "# m_df['rescomm'] = m_df['Natural Gas Deliveries to Commercial Consumers (Including Vehicle Fuel through 1996) in the U.S. (MMcf)'] + m_df['U.S. Natural Gas Residential Consumption (MMcf)']\n",
    "# m_df.tail()"
   ]
  },
  {
   "cell_type": "code",
   "execution_count": null,
   "metadata": {},
   "outputs": [],
   "source": []
  },
  {
   "cell_type": "markdown",
   "metadata": {},
   "source": [
    "### LAB Item 3\n",
    "\n",
    "Return to previous dataset: Adult income\n",
    "https://www.kaggle.com/wenruliu/adult-income-dataset\n",
    "\n",
    "Build a logistic Regression targeting income above / below 50k...\n",
    "\n",
    "Review Example."
   ]
  },
  {
   "cell_type": "code",
   "execution_count": 26,
   "metadata": {},
   "outputs": [],
   "source": [
    "from sklearn.linear_model import LogisticRegression\n",
    "import pandas as pd\n",
    "import numpy as np\n",
    "from sklearn.model_selection import train_test_split"
   ]
  },
  {
   "cell_type": "code",
   "execution_count": 1,
   "metadata": {},
   "outputs": [
    {
     "ename": "NameError",
     "evalue": "name 'pd' is not defined",
     "output_type": "error",
     "traceback": [
      "\u001b[1;31m---------------------------------------------------------------------------\u001b[0m",
      "\u001b[1;31mNameError\u001b[0m                                 Traceback (most recent call last)",
      "\u001b[1;32m<ipython-input-1-e41aa4729924>\u001b[0m in \u001b[0;36m<module>\u001b[1;34m()\u001b[0m\n\u001b[0;32m      5\u001b[0m ]\n\u001b[0;32m      6\u001b[0m \u001b[1;33m\u001b[0m\u001b[0m\n\u001b[1;32m----> 7\u001b[1;33m \u001b[0mdf\u001b[0m \u001b[1;33m=\u001b[0m \u001b[0mpd\u001b[0m\u001b[1;33m.\u001b[0m\u001b[0mread_csv\u001b[0m\u001b[1;33m(\u001b[0m\u001b[1;34m'adult.csv'\u001b[0m\u001b[1;33m)\u001b[0m\u001b[1;33m\u001b[0m\u001b[0m\n\u001b[0m\u001b[0;32m      8\u001b[0m \u001b[0mdf\u001b[0m\u001b[1;33m.\u001b[0m\u001b[0mcolumns\u001b[0m\u001b[1;33m=\u001b[0m\u001b[0mcol_names\u001b[0m\u001b[1;33m\u001b[0m\u001b[0m\n\u001b[0;32m      9\u001b[0m \u001b[0mdf\u001b[0m\u001b[1;33m[\u001b[0m\u001b[1;34m'Income'\u001b[0m\u001b[1;33m]\u001b[0m \u001b[1;33m=\u001b[0m \u001b[0mdf\u001b[0m\u001b[1;33m[\u001b[0m\u001b[1;34m'Income'\u001b[0m\u001b[1;33m]\u001b[0m\u001b[1;33m.\u001b[0m\u001b[0mapply\u001b[0m\u001b[1;33m(\u001b[0m\u001b[1;32mlambda\u001b[0m \u001b[0mx\u001b[0m\u001b[1;33m:\u001b[0m \u001b[1;36m0\u001b[0m \u001b[1;32mif\u001b[0m \u001b[0mx\u001b[0m \u001b[1;33m==\u001b[0m \u001b[1;34m' <=50K'\u001b[0m \u001b[1;32melse\u001b[0m \u001b[1;36m1\u001b[0m\u001b[1;33m)\u001b[0m\u001b[1;33m\u001b[0m\u001b[0m\n",
      "\u001b[1;31mNameError\u001b[0m: name 'pd' is not defined"
     ]
    }
   ],
   "source": [
    "df_adult = pd.read_csv('adult.csv')\n",
    "df_adult.head(4)"
   ]
  },
  {
   "cell_type": "code",
   "execution_count": 23,
   "metadata": {},
   "outputs": [],
   "source": [
    "for column in df_adult.columns:\n",
    "    if df_adult[column].dtype == type(object):\n",
    "        le = sklearn.preprocessing.LabelEncoder()\n",
    "        df_adult[column] = le.fit_transform(df_adult[column])"
   ]
  },
  {
   "cell_type": "code",
   "execution_count": 24,
   "metadata": {},
   "outputs": [
    {
     "data": {
      "text/plain": [
       "array([0, 1], dtype=int64)"
      ]
     },
     "execution_count": 24,
     "metadata": {},
     "output_type": "execute_result"
    }
   ],
   "source": [
    "df_adult['income'].unique()"
   ]
  },
  {
   "cell_type": "code",
   "execution_count": 30,
   "metadata": {},
   "outputs": [],
   "source": [
    "x = df_adult.drop('income',axis=1)\n",
    "y = df_adult['income']\n",
    "\n"
   ]
  },
  {
   "cell_type": "code",
   "execution_count": 31,
   "metadata": {},
   "outputs": [],
   "source": [
    "X_train, X_test, y_train, y_test = train_test_split(x, y)"
   ]
  },
  {
   "cell_type": "code",
   "execution_count": 34,
   "metadata": {},
   "outputs": [
    {
     "data": {
      "text/plain": [
       "array([0, 0, 0, ..., 0, 0, 1])"
      ]
     },
     "execution_count": 34,
     "metadata": {},
     "output_type": "execute_result"
    }
   ],
   "source": [
    "clf = LogisticRegression(random_state=0)\n",
    "clf.fit(X_train, y_train)\n",
    "clf.predict(X_train)"
   ]
  },
  {
   "cell_type": "code",
   "execution_count": 35,
   "metadata": {},
   "outputs": [
    {
     "data": {
      "text/plain": [
       "0.7949389894357547"
      ]
     },
     "execution_count": 35,
     "metadata": {},
     "output_type": "execute_result"
    }
   ],
   "source": [
    "clf.score(X_test, y_test)"
   ]
  },
  {
   "cell_type": "markdown",
   "metadata": {},
   "source": [
    "### LAB Item 4: Let's take a look at the sklearn California housing dataset from a few weeks ago\n",
    "\n",
    "... A)  review a multivariate regression\n",
    "\n",
    "... B) Compare the results from the multivariate linear regression to a random forest by building a RF.  You've built a random forest on this dataset before."
   ]
  },
  {
   "cell_type": "code",
   "execution_count": 36,
   "metadata": {},
   "outputs": [],
   "source": [
    "from sklearn import linear_model"
   ]
  },
  {
   "cell_type": "code",
   "execution_count": 37,
   "metadata": {},
   "outputs": [
    {
     "data": {
      "text/html": [
       "<div>\n",
       "<style scoped>\n",
       "    .dataframe tbody tr th:only-of-type {\n",
       "        vertical-align: middle;\n",
       "    }\n",
       "\n",
       "    .dataframe tbody tr th {\n",
       "        vertical-align: top;\n",
       "    }\n",
       "\n",
       "    .dataframe thead th {\n",
       "        text-align: right;\n",
       "    }\n",
       "</style>\n",
       "<table border=\"1\" class=\"dataframe\">\n",
       "  <thead>\n",
       "    <tr style=\"text-align: right;\">\n",
       "      <th></th>\n",
       "      <th>longitude</th>\n",
       "      <th>latitude</th>\n",
       "      <th>housing_median_age</th>\n",
       "      <th>total_rooms</th>\n",
       "      <th>total_bedrooms</th>\n",
       "      <th>population</th>\n",
       "      <th>households</th>\n",
       "      <th>median_income</th>\n",
       "      <th>median_house_value</th>\n",
       "      <th>ocean_proximity</th>\n",
       "    </tr>\n",
       "  </thead>\n",
       "  <tbody>\n",
       "    <tr>\n",
       "      <th>0</th>\n",
       "      <td>-122.23</td>\n",
       "      <td>37.88</td>\n",
       "      <td>41.0</td>\n",
       "      <td>880.0</td>\n",
       "      <td>129.0</td>\n",
       "      <td>322.0</td>\n",
       "      <td>126.0</td>\n",
       "      <td>8.3252</td>\n",
       "      <td>452600.0</td>\n",
       "      <td>NEAR BAY</td>\n",
       "    </tr>\n",
       "    <tr>\n",
       "      <th>1</th>\n",
       "      <td>-122.22</td>\n",
       "      <td>37.86</td>\n",
       "      <td>21.0</td>\n",
       "      <td>7099.0</td>\n",
       "      <td>1106.0</td>\n",
       "      <td>2401.0</td>\n",
       "      <td>1138.0</td>\n",
       "      <td>8.3014</td>\n",
       "      <td>358500.0</td>\n",
       "      <td>NEAR BAY</td>\n",
       "    </tr>\n",
       "    <tr>\n",
       "      <th>2</th>\n",
       "      <td>-122.24</td>\n",
       "      <td>37.85</td>\n",
       "      <td>52.0</td>\n",
       "      <td>1467.0</td>\n",
       "      <td>190.0</td>\n",
       "      <td>496.0</td>\n",
       "      <td>177.0</td>\n",
       "      <td>7.2574</td>\n",
       "      <td>352100.0</td>\n",
       "      <td>NEAR BAY</td>\n",
       "    </tr>\n",
       "  </tbody>\n",
       "</table>\n",
       "</div>"
      ],
      "text/plain": [
       "   longitude  latitude  housing_median_age  total_rooms  total_bedrooms  \\\n",
       "0    -122.23     37.88                41.0        880.0           129.0   \n",
       "1    -122.22     37.86                21.0       7099.0          1106.0   \n",
       "2    -122.24     37.85                52.0       1467.0           190.0   \n",
       "\n",
       "   population  households  median_income  median_house_value ocean_proximity  \n",
       "0       322.0       126.0         8.3252            452600.0        NEAR BAY  \n",
       "1      2401.0      1138.0         8.3014            358500.0        NEAR BAY  \n",
       "2       496.0       177.0         7.2574            352100.0        NEAR BAY  "
      ]
     },
     "execution_count": 37,
     "metadata": {},
     "output_type": "execute_result"
    }
   ],
   "source": [
    "housing = pd.read_csv(\"housing.csv\")\n",
    "housing.head(3)"
   ]
  },
  {
   "cell_type": "code",
   "execution_count": 78,
   "metadata": {},
   "outputs": [],
   "source": [
    "housing = housing.dropna()"
   ]
  },
  {
   "cell_type": "code",
   "execution_count": 79,
   "metadata": {},
   "outputs": [],
   "source": [
    "for column in housing.columns:\n",
    "    if housing[column].dtype == type(object):\n",
    "        le = sklearn.preprocessing.LabelEncoder()\n",
    "        housing[column] = le.fit_transform(housing[column])"
   ]
  },
  {
   "cell_type": "code",
   "execution_count": null,
   "metadata": {},
   "outputs": [],
   "source": []
  },
  {
   "cell_type": "code",
   "execution_count": 80,
   "metadata": {},
   "outputs": [
    {
     "data": {
      "text/plain": [
       "longitude             float64\n",
       "latitude              float64\n",
       "housing_median_age    float64\n",
       "total_rooms           float64\n",
       "total_bedrooms        float64\n",
       "population            float64\n",
       "households            float64\n",
       "median_income         float64\n",
       "median_house_value    float64\n",
       "ocean_proximity         int32\n",
       "dtype: object"
      ]
     },
     "execution_count": 80,
     "metadata": {},
     "output_type": "execute_result"
    }
   ],
   "source": [
    "housing.dtypes"
   ]
  },
  {
   "cell_type": "code",
   "execution_count": 81,
   "metadata": {},
   "outputs": [],
   "source": [
    "x = housing.drop('median_income',axis=1)\n",
    "y = housing['median_income']\n"
   ]
  },
  {
   "cell_type": "code",
   "execution_count": 82,
   "metadata": {},
   "outputs": [],
   "source": [
    "X_train, X_test, y_train, y_test = train_test_split(x, y)"
   ]
  },
  {
   "cell_type": "code",
   "execution_count": 83,
   "metadata": {},
   "outputs": [
    {
     "data": {
      "text/plain": [
       "LinearRegression(copy_X=True, fit_intercept=True, n_jobs=None, normalize=False)"
      ]
     },
     "execution_count": 83,
     "metadata": {},
     "output_type": "execute_result"
    }
   ],
   "source": [
    "lin_reg = LinearRegression()\n",
    "lin_reg.fit(X_train, y_train)"
   ]
  },
  {
   "cell_type": "code",
   "execution_count": 86,
   "metadata": {},
   "outputs": [
    {
     "data": {
      "text/plain": [
       "array([4.67027381, 2.16295471, 2.93441463, ..., 7.33598729, 2.66590762,\n",
       "       2.62073529])"
      ]
     },
     "execution_count": 86,
     "metadata": {},
     "output_type": "execute_result"
    }
   ],
   "source": [
    "# model for future prediction\n",
    "y_pred = lin_reg.predict(X_test)\n",
    "y_pred"
   ]
  },
  {
   "cell_type": "code",
   "execution_count": 98,
   "metadata": {},
   "outputs": [
    {
     "name": "stdout",
     "output_type": "stream",
     "text": [
      "The Accuracy of Multivariate Regressor is 65.64563634372973 %\n"
     ]
    }
   ],
   "source": [
    "lin_reg.score(X_test, y_test)\n",
    "print(\"The Accuracy of Multivariate Regressor is\",lin_reg.score(X_test, y_test)*100,\"%\")"
   ]
  },
  {
   "cell_type": "code",
   "execution_count": 90,
   "metadata": {},
   "outputs": [
    {
     "name": "stdout",
     "output_type": "stream",
     "text": [
      "The mean Absolute Error for Multivariate regressor is 0.7730863416831459\n"
     ]
    }
   ],
   "source": [
    "res = lin_reg.predict(X_test)\n",
    "mserror = sklearn.metrics.mean_absolute_error(res, y_test)\n",
    "print(\"The mean Absolute Error for Multivariate regressor is\",mserror)"
   ]
  },
  {
   "cell_type": "markdown",
   "metadata": {},
   "source": [
    "## Now Building RF"
   ]
  },
  {
   "cell_type": "code",
   "execution_count": 92,
   "metadata": {},
   "outputs": [
    {
     "data": {
      "text/plain": [
       "RandomForestRegressor(bootstrap=True, ccp_alpha=0.0, criterion='mse',\n",
       "                      max_depth=None, max_features='auto', max_leaf_nodes=None,\n",
       "                      max_samples=None, min_impurity_decrease=0.0,\n",
       "                      min_impurity_split=None, min_samples_leaf=1,\n",
       "                      min_samples_split=2, min_weight_fraction_leaf=0.0,\n",
       "                      n_estimators=100, n_jobs=None, oob_score=False,\n",
       "                      random_state=None, verbose=0, warm_start=False)"
      ]
     },
     "execution_count": 92,
     "metadata": {},
     "output_type": "execute_result"
    }
   ],
   "source": [
    "from sklearn.ensemble import RandomForestRegressor\n",
    "\n",
    "rf = RandomForestRegressor(n_estimators=100)\n",
    "rf.fit(X_train, y_train)"
   ]
  },
  {
   "cell_type": "code",
   "execution_count": 93,
   "metadata": {},
   "outputs": [
    {
     "data": {
      "text/plain": [
       "0.7774768032356091"
      ]
     },
     "execution_count": 93,
     "metadata": {},
     "output_type": "execute_result"
    }
   ],
   "source": [
    "rf.score(X_test, y_test)"
   ]
  },
  {
   "cell_type": "code",
   "execution_count": 100,
   "metadata": {},
   "outputs": [
    {
     "name": "stdout",
     "output_type": "stream",
     "text": [
      "The mean Absolute Error for Random Forest is 77.3086341683146 %\n"
     ]
    }
   ],
   "source": [
    "mserror_rf = sklearn.metrics.mean_absolute_error(res, y_test)\n",
    "print(\"The mean Absolute Error for Random Forest is\",mserror*100,\"%\")"
   ]
  },
  {
   "cell_type": "markdown",
   "metadata": {},
   "source": [
    "According to the Score the Random Forest Regressor fits the model Better than the Multivariate Regressor"
   ]
  }
 ],
 "metadata": {
  "kernelspec": {
   "display_name": "Python 3",
   "language": "python",
   "name": "python3"
  },
  "language_info": {
   "codemirror_mode": {
    "name": "ipython",
    "version": 3
   },
   "file_extension": ".py",
   "mimetype": "text/x-python",
   "name": "python",
   "nbconvert_exporter": "python",
   "pygments_lexer": "ipython3",
   "version": "3.5.6"
  }
 },
 "nbformat": 4,
 "nbformat_minor": 2
}
