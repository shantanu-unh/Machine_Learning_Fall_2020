{
 "cells": [
  {
   "cell_type": "code",
   "execution_count": 2,
   "metadata": {},
   "outputs": [],
   "source": [
    "### You will need mlens package in addition to the libraries you are familiar with\n",
    "## pip install mlens"
   ]
  },
  {
   "cell_type": "markdown",
   "metadata": {},
   "source": [
    "### WEEK 10 LAB: \n",
    "1. LOOP THROUGH MODELS AS DONE IN THIS WEEK'S CLASS.\n"
   ]
  },
  {
   "cell_type": "code",
   "execution_count": 3,
   "metadata": {},
   "outputs": [],
   "source": [
    "# for clf, label in zip([LR, RF, KNC, DTC, ABC, BC, GBC, XGB],\n",
    "#                       ['Logistic Regression',\n",
    "#                        'Random Forest',\n",
    "#                        'KNeighbors',\n",
    "#                        'Decision Tree',\n",
    "#                        'Ada Boost',\n",
    "#                        'Bagging',\n",
    "#                        'Gradient Boosting',\n",
    "#                        'XGBoost']):"
   ]
  },
  {
   "cell_type": "code",
   "execution_count": null,
   "metadata": {},
   "outputs": [],
   "source": []
  },
  {
   "cell_type": "code",
   "execution_count": null,
   "metadata": {},
   "outputs": [],
   "source": []
  },
  {
   "cell_type": "markdown",
   "metadata": {},
   "source": [
    "2. BUILD A CUSTOM ENSEMBLE (SUPERLEARNER) WITH ANY THREE OF THE MODELS IN TWO LAYERS.  IS IT BETTER?\n"
   ]
  },
  {
   "cell_type": "code",
   "execution_count": null,
   "metadata": {},
   "outputs": [],
   "source": []
  },
  {
   "cell_type": "code",
   "execution_count": null,
   "metadata": {},
   "outputs": [],
   "source": []
  },
  {
   "cell_type": "markdown",
   "metadata": {},
   "source": [
    "3. NOW ADD A PREPROCESSING METHOD OF YOUR CHOICE TO THE DATA BEFORE SEDNING TO YOUR CUSTOM ENSEMBLE FROM #3.  SHOW BOTH RESULTS."
   ]
  },
  {
   "cell_type": "code",
   "execution_count": null,
   "metadata": {},
   "outputs": [],
   "source": []
  }
 ],
 "metadata": {
  "kernelspec": {
   "display_name": "Python 3",
   "language": "python",
   "name": "python3"
  },
  "language_info": {
   "codemirror_mode": {
    "name": "ipython",
    "version": 3
   },
   "file_extension": ".py",
   "mimetype": "text/x-python",
   "name": "python",
   "nbconvert_exporter": "python",
   "pygments_lexer": "ipython3",
   "version": "3.5.6"
  }
 },
 "nbformat": 4,
 "nbformat_minor": 2
}
