{
 "cells": [
  {
   "cell_type": "markdown",
   "metadata": {},
   "source": [
    "##### <h2 align=\"center\">Machine Learning</h2> \n",
    "<h3 align=\"center\">Travis Millburn<br>Fall 2020</h3> \n",
    "\n",
    "<center>\n",
    "<img src=\"../images/logo.png\" alt=\"drawing\" style=\"width: 300px;\"/>\n",
    "</center>\n",
    "\n",
    "<h3 align=\"center\">Week 12: Deep Learning (Continued)</h3> "
   ]
  },
  {
   "cell_type": "code",
   "execution_count": null,
   "metadata": {},
   "outputs": [],
   "source": []
  },
  {
   "cell_type": "markdown",
   "metadata": {},
   "source": [
    "### Outline\n",
    "1. Semester Projects\n",
    "2. Deep Learning Concepts Continuation\n",
    "3. Keras Example\n",
    "4. Lab"
   ]
  },
  {
   "cell_type": "markdown",
   "metadata": {},
   "source": [
    "### Projects\n",
    "\n",
    "Requirements: \n",
    "1. Must be python, delivered in Jupyter notebook.\n",
    "2. Must be supervised learning problem.\n",
    "\n",
    "Rubric:\n",
    "1. Data selection interesting/challenging?\n",
    "2. Method interesting/challenging/thorough?\n",
    "3. Validation thorough, done properly?\n",
    "4. Report - well-written/understandable, explains pros/cons of method, what happened & why (can use jupyter completely if use markdown & latex).\n",
    "\n",
    "Note: some related tasks will go into participation or homework grade.\n",
    "\n",
    "Project Proposal due 11/16.  Next week."
   ]
  },
  {
   "cell_type": "code",
   "execution_count": null,
   "metadata": {},
   "outputs": [],
   "source": []
  },
  {
   "cell_type": "markdown",
   "metadata": {},
   "source": [
    "\"Birds inspired us to fly, burdock plants inspired Velcro, and nature has inspired countless more inventions. It seems only logical, then, to look at the brain’s architecture for inspiration on how to build an intelligent machine.\"\n",
    "\n",
    "Hands-On Machine Learning ...  \n",
    "Aurélien Géron"
   ]
  },
  {
   "cell_type": "code",
   "execution_count": null,
   "metadata": {},
   "outputs": [],
   "source": []
  },
  {
   "cell_type": "markdown",
   "metadata": {},
   "source": [
    "### Gradient Descent\n",
    "Gradient Descent is a generic optimization algorithm capable of finding optimal solutions to a wide range of problems. The general idea of Gradient Descent is to tweak parameters iteratively in order to minimize a cost function."
   ]
  },
  {
   "cell_type": "markdown",
   "metadata": {},
   "source": [
    "<center>\n",
    "<img src=\"../images/gradient_descent_2.png\" alt=\"drawing\" style=\"width: 900px;\"/>\n",
    "</center>"
   ]
  },
  {
   "cell_type": "markdown",
   "metadata": {},
   "source": [
    "<center>\n",
    "<img src=\"../images/steps_too_small.png\" alt=\"drawing\" style=\"width: 900px;\"/>\n",
    "</center>"
   ]
  },
  {
   "cell_type": "markdown",
   "metadata": {},
   "source": [
    "<center>\n",
    "<img src=\"../images/steps_too_big.png\" alt=\"drawing\" style=\"width: 900px;\"/>\n",
    "</center>"
   ]
  },
  {
   "cell_type": "code",
   "execution_count": null,
   "metadata": {},
   "outputs": [],
   "source": []
  },
  {
   "cell_type": "code",
   "execution_count": null,
   "metadata": {},
   "outputs": [],
   "source": []
  },
  {
   "cell_type": "code",
   "execution_count": 2,
   "metadata": {},
   "outputs": [
    {
     "data": {
      "text/html": [
       "<div>\n",
       "<style scoped>\n",
       "    .dataframe tbody tr th:only-of-type {\n",
       "        vertical-align: middle;\n",
       "    }\n",
       "\n",
       "    .dataframe tbody tr th {\n",
       "        vertical-align: top;\n",
       "    }\n",
       "\n",
       "    .dataframe thead th {\n",
       "        text-align: right;\n",
       "    }\n",
       "</style>\n",
       "<table border=\"1\" class=\"dataframe\">\n",
       "  <thead>\n",
       "    <tr style=\"text-align: right;\">\n",
       "      <th></th>\n",
       "      <th>Age</th>\n",
       "      <th>WorkClass</th>\n",
       "      <th>fnlwgt</th>\n",
       "      <th>Education</th>\n",
       "      <th>EducationNum</th>\n",
       "      <th>MaritalStatus</th>\n",
       "      <th>Occupation</th>\n",
       "      <th>Relationship</th>\n",
       "      <th>Race</th>\n",
       "      <th>Gender</th>\n",
       "      <th>CapitalGain</th>\n",
       "      <th>CapitalLoss</th>\n",
       "      <th>HoursPerWeek</th>\n",
       "      <th>NativeCountry</th>\n",
       "      <th>Income</th>\n",
       "    </tr>\n",
       "  </thead>\n",
       "  <tbody>\n",
       "    <tr>\n",
       "      <th>32555</th>\n",
       "      <td>27</td>\n",
       "      <td>4</td>\n",
       "      <td>257302</td>\n",
       "      <td>7</td>\n",
       "      <td>12</td>\n",
       "      <td>2</td>\n",
       "      <td>13</td>\n",
       "      <td>5</td>\n",
       "      <td>4</td>\n",
       "      <td>0</td>\n",
       "      <td>0</td>\n",
       "      <td>0</td>\n",
       "      <td>38</td>\n",
       "      <td>39</td>\n",
       "      <td>0</td>\n",
       "    </tr>\n",
       "    <tr>\n",
       "      <th>32556</th>\n",
       "      <td>40</td>\n",
       "      <td>4</td>\n",
       "      <td>154374</td>\n",
       "      <td>11</td>\n",
       "      <td>9</td>\n",
       "      <td>2</td>\n",
       "      <td>7</td>\n",
       "      <td>0</td>\n",
       "      <td>4</td>\n",
       "      <td>1</td>\n",
       "      <td>0</td>\n",
       "      <td>0</td>\n",
       "      <td>40</td>\n",
       "      <td>39</td>\n",
       "      <td>1</td>\n",
       "    </tr>\n",
       "    <tr>\n",
       "      <th>32557</th>\n",
       "      <td>58</td>\n",
       "      <td>4</td>\n",
       "      <td>151910</td>\n",
       "      <td>11</td>\n",
       "      <td>9</td>\n",
       "      <td>6</td>\n",
       "      <td>1</td>\n",
       "      <td>4</td>\n",
       "      <td>4</td>\n",
       "      <td>0</td>\n",
       "      <td>0</td>\n",
       "      <td>0</td>\n",
       "      <td>40</td>\n",
       "      <td>39</td>\n",
       "      <td>0</td>\n",
       "    </tr>\n",
       "    <tr>\n",
       "      <th>32558</th>\n",
       "      <td>22</td>\n",
       "      <td>4</td>\n",
       "      <td>201490</td>\n",
       "      <td>11</td>\n",
       "      <td>9</td>\n",
       "      <td>4</td>\n",
       "      <td>1</td>\n",
       "      <td>3</td>\n",
       "      <td>4</td>\n",
       "      <td>1</td>\n",
       "      <td>0</td>\n",
       "      <td>0</td>\n",
       "      <td>20</td>\n",
       "      <td>39</td>\n",
       "      <td>0</td>\n",
       "    </tr>\n",
       "    <tr>\n",
       "      <th>32559</th>\n",
       "      <td>52</td>\n",
       "      <td>5</td>\n",
       "      <td>287927</td>\n",
       "      <td>11</td>\n",
       "      <td>9</td>\n",
       "      <td>2</td>\n",
       "      <td>4</td>\n",
       "      <td>5</td>\n",
       "      <td>4</td>\n",
       "      <td>0</td>\n",
       "      <td>15024</td>\n",
       "      <td>0</td>\n",
       "      <td>40</td>\n",
       "      <td>39</td>\n",
       "      <td>1</td>\n",
       "    </tr>\n",
       "  </tbody>\n",
       "</table>\n",
       "</div>"
      ],
      "text/plain": [
       "       Age  WorkClass  fnlwgt  Education  EducationNum  MaritalStatus  \\\n",
       "32555   27          4  257302          7            12              2   \n",
       "32556   40          4  154374         11             9              2   \n",
       "32557   58          4  151910         11             9              6   \n",
       "32558   22          4  201490         11             9              4   \n",
       "32559   52          5  287927         11             9              2   \n",
       "\n",
       "       Occupation  Relationship  Race  Gender  CapitalGain  CapitalLoss  \\\n",
       "32555          13             5     4       0            0            0   \n",
       "32556           7             0     4       1            0            0   \n",
       "32557           1             4     4       0            0            0   \n",
       "32558           1             3     4       1            0            0   \n",
       "32559           4             5     4       0        15024            0   \n",
       "\n",
       "       HoursPerWeek  NativeCountry  Income  \n",
       "32555            38             39       0  \n",
       "32556            40             39       1  \n",
       "32557            40             39       0  \n",
       "32558            20             39       0  \n",
       "32559            40             39       1  "
      ]
     },
     "execution_count": 2,
     "metadata": {},
     "output_type": "execute_result"
    }
   ],
   "source": [
    "import pandas\n",
    "from sklearn.svm import SVC\n",
    "import sklearn\n",
    "from sklearn import preprocessing\n",
    "\n",
    "from sklearn.model_selection import train_test_split\n",
    "\n",
    "col_names = [\n",
    "    \"Age\", \"WorkClass\", \"fnlwgt\", \"Education\", \"EducationNum\",\n",
    "    \"MaritalStatus\", \"Occupation\", \"Relationship\", \"Race\", \"Gender\",\n",
    "    \"CapitalGain\", \"CapitalLoss\", \"HoursPerWeek\", \"NativeCountry\", \"Income\"\n",
    "]\n",
    "\n",
    "df = pandas.read_csv('C:\\\\Users\\\\tmillburn\\\\Deep Basin Capital LP\\\\DBC-Dev - Documents\\\\notebooks\\\\Census Data\\\\adult.data')\n",
    "df.columns=col_names\n",
    "df['Income'] = df['Income'].apply(lambda x: 0 if x == ' <=50K' else 1)\n",
    "\n",
    "for column in df.columns:\n",
    "    if df[column].dtype == type(object):\n",
    "        le = sklearn.preprocessing.LabelEncoder()\n",
    "        df[column] = le.fit_transform(df[column])\n",
    "df.tail()"
   ]
  },
  {
   "cell_type": "code",
   "execution_count": 3,
   "metadata": {},
   "outputs": [],
   "source": [
    "# X = df.drop(columns='Income')"
   ]
  },
  {
   "cell_type": "code",
   "execution_count": 4,
   "metadata": {},
   "outputs": [],
   "source": [
    "# type(X)"
   ]
  },
  {
   "cell_type": "code",
   "execution_count": 5,
   "metadata": {},
   "outputs": [],
   "source": [
    "# pandas.DataFrame(preprocessing.StandardScaler().fit_transform(X))"
   ]
  },
  {
   "cell_type": "code",
   "execution_count": 6,
   "metadata": {},
   "outputs": [],
   "source": [
    "X = df.drop(columns='Income')\n",
    "X = pandas.DataFrame(preprocessing.StandardScaler().fit_transform(X), columns=X.columns)\n",
    "y = df['Income']\n",
    "X_train, X_test, y_train, y_test = train_test_split(X, y, test_size=0.20, random_state=555, stratify=y)"
   ]
  },
  {
   "cell_type": "code",
   "execution_count": 7,
   "metadata": {},
   "outputs": [],
   "source": [
    "import tensorflow as tf"
   ]
  },
  {
   "cell_type": "code",
   "execution_count": 8,
   "metadata": {},
   "outputs": [],
   "source": [
    "import numpy as np\n",
    "nn_X_train = np.reshape(X_train.values, (X_train.shape[0], X_train.shape[1], 1))\n",
    "nn_X_test = np.reshape(X_test.values, (X_test.shape[0], X_test.shape[1], 1))"
   ]
  },
  {
   "cell_type": "code",
   "execution_count": 9,
   "metadata": {},
   "outputs": [],
   "source": [
    "# create model\n",
    "mdl_k = tf.keras.Sequential([tf.keras.layers.Input(shape=(nn_X_train.shape[1], nn_X_train.shape[2]))])\n",
    "mdl_k.add(tf.keras.layers.Dense(12, input_dim=3, activation='relu', kernel_initializer=\"he_normal\"))\n",
    "# mdl_k.add(tf.keras.layers.Dense(8, activation='relu'))\n",
    "\n",
    "mdl_k.add(tf.keras.layers.LSTM(64))\n",
    "#mdl_k.add(tf.keras.layers.LeakyReLU(alpha=0.2))\n",
    "mdl_k.add(tf.keras.layers.Dense(1, activation='relu'))"
   ]
  },
  {
   "cell_type": "code",
   "execution_count": 10,
   "metadata": {},
   "outputs": [],
   "source": [
    "# Compile model\n",
    "mdl_k.compile(loss='mse', optimizer=tf.keras.optimizers.Adam(learning_rate=1e-3), metrics=['accuracy'])"
   ]
  },
  {
   "cell_type": "code",
   "execution_count": 11,
   "metadata": {},
   "outputs": [
    {
     "name": "stdout",
     "output_type": "stream",
     "text": [
      "Model: \"sequential\"\n",
      "_________________________________________________________________\n",
      "Layer (type)                 Output Shape              Param #   \n",
      "=================================================================\n",
      "dense (Dense)                (None, 14, 12)            24        \n",
      "_________________________________________________________________\n",
      "lstm (LSTM)                  (None, 64)                19712     \n",
      "_________________________________________________________________\n",
      "dense_1 (Dense)              (None, 1)                 65        \n",
      "=================================================================\n",
      "Total params: 19,801\n",
      "Trainable params: 19,801\n",
      "Non-trainable params: 0\n",
      "_________________________________________________________________\n"
     ]
    }
   ],
   "source": [
    "mdl_k.summary()"
   ]
  },
  {
   "cell_type": "code",
   "execution_count": 12,
   "metadata": {},
   "outputs": [],
   "source": [
    "val_dataset = tf.data.Dataset.from_tensor_slices((nn_X_test, y_test)).batch(batch_size=128)"
   ]
  },
  {
   "cell_type": "code",
   "execution_count": 13,
   "metadata": {},
   "outputs": [
    {
     "name": "stdout",
     "output_type": "stream",
     "text": [
      "Epoch 1/50\n",
      "204/204 [==============================] - 3s 14ms/step - loss: 0.1487 - accuracy: 0.7867 - val_loss: 0.1316 - val_accuracy: 0.8065\n",
      "Epoch 2/50\n",
      "204/204 [==============================] - 2s 10ms/step - loss: 0.1271 - accuracy: 0.8148 - val_loss: 0.1237 - val_accuracy: 0.8197\n",
      "Epoch 3/50\n",
      "204/204 [==============================] - 2s 8ms/step - loss: 0.1218 - accuracy: 0.8224 - val_loss: 0.1190 - val_accuracy: 0.8300\n",
      "Epoch 4/50\n",
      "204/204 [==============================] - 2s 8ms/step - loss: 0.1167 - accuracy: 0.8324 - val_loss: 0.1171 - val_accuracy: 0.8318\n",
      "Epoch 5/50\n",
      "204/204 [==============================] - 2s 8ms/step - loss: 0.1135 - accuracy: 0.8408 - val_loss: 0.1143 - val_accuracy: 0.8351\n",
      "Epoch 6/50\n",
      "204/204 [==============================] - 2s 9ms/step - loss: 0.1121 - accuracy: 0.8422 - val_loss: 0.1102 - val_accuracy: 0.8418\n",
      "Epoch 7/50\n",
      "204/204 [==============================] - 2s 9ms/step - loss: 0.1096 - accuracy: 0.8454 - val_loss: 0.1108 - val_accuracy: 0.8426\n",
      "Epoch 8/50\n",
      "204/204 [==============================] - 2s 9ms/step - loss: 0.1083 - accuracy: 0.8471 - val_loss: 0.1081 - val_accuracy: 0.8449\n",
      "Epoch 9/50\n",
      "204/204 [==============================] - 2s 8ms/step - loss: 0.1063 - accuracy: 0.8509 - val_loss: 0.1075 - val_accuracy: 0.8438\n",
      "Epoch 10/50\n",
      "204/204 [==============================] - 2s 9ms/step - loss: 0.1060 - accuracy: 0.8523 - val_loss: 0.1077 - val_accuracy: 0.8426\n",
      "Epoch 11/50\n",
      "204/204 [==============================] - 2s 8ms/step - loss: 0.1052 - accuracy: 0.8518 - val_loss: 0.1064 - val_accuracy: 0.8466\n",
      "Epoch 12/50\n",
      "204/204 [==============================] - 2s 8ms/step - loss: 0.1043 - accuracy: 0.8519 - val_loss: 0.1058 - val_accuracy: 0.8481\n",
      "Epoch 13/50\n",
      "204/204 [==============================] - 2s 9ms/step - loss: 0.1037 - accuracy: 0.8529 - val_loss: 0.1047 - val_accuracy: 0.8457\n",
      "Epoch 14/50\n",
      "204/204 [==============================] - 2s 9ms/step - loss: 0.1032 - accuracy: 0.8533 - val_loss: 0.1047 - val_accuracy: 0.8483\n",
      "Epoch 15/50\n",
      "204/204 [==============================] - 2s 9ms/step - loss: 0.1031 - accuracy: 0.8533 - val_loss: 0.1055 - val_accuracy: 0.8463\n",
      "Epoch 16/50\n",
      "204/204 [==============================] - 2s 8ms/step - loss: 0.1018 - accuracy: 0.8544 - val_loss: 0.1063 - val_accuracy: 0.8518\n",
      "Epoch 17/50\n",
      "204/204 [==============================] - 2s 8ms/step - loss: 0.1015 - accuracy: 0.8553 - val_loss: 0.1049 - val_accuracy: 0.8457\n",
      "Epoch 18/50\n",
      "204/204 [==============================] - 2s 8ms/step - loss: 0.1016 - accuracy: 0.8551 - val_loss: 0.1044 - val_accuracy: 0.8484\n",
      "Epoch 19/50\n",
      "204/204 [==============================] - 2s 8ms/step - loss: 0.1016 - accuracy: 0.8553 - val_loss: 0.1048 - val_accuracy: 0.8495\n",
      "Epoch 20/50\n",
      "204/204 [==============================] - 2s 8ms/step - loss: 0.1009 - accuracy: 0.8552 - val_loss: 0.1042 - val_accuracy: 0.8492\n",
      "Epoch 21/50\n",
      "204/204 [==============================] - 2s 8ms/step - loss: 0.1005 - accuracy: 0.8558 - val_loss: 0.1035 - val_accuracy: 0.8515\n",
      "Epoch 22/50\n",
      "204/204 [==============================] - 2s 8ms/step - loss: 0.0998 - accuracy: 0.8559 - val_loss: 0.1044 - val_accuracy: 0.8478\n",
      "Epoch 23/50\n",
      "204/204 [==============================] - 2s 8ms/step - loss: 0.0997 - accuracy: 0.8575 - val_loss: 0.1025 - val_accuracy: 0.8533\n",
      "Epoch 24/50\n",
      "204/204 [==============================] - 2s 8ms/step - loss: 0.0993 - accuracy: 0.8575 - val_loss: 0.1044 - val_accuracy: 0.8503\n",
      "Epoch 25/50\n",
      "204/204 [==============================] - 2s 8ms/step - loss: 0.0995 - accuracy: 0.8560 - val_loss: 0.1045 - val_accuracy: 0.8474\n",
      "Epoch 26/50\n",
      "204/204 [==============================] - 2s 8ms/step - loss: 0.0988 - accuracy: 0.8571 - val_loss: 0.1030 - val_accuracy: 0.8529\n",
      "Epoch 27/50\n",
      "204/204 [==============================] - 2s 8ms/step - loss: 0.0985 - accuracy: 0.8590 - val_loss: 0.1038 - val_accuracy: 0.8501\n",
      "Epoch 28/50\n",
      "204/204 [==============================] - 2s 8ms/step - loss: 0.0978 - accuracy: 0.8602 - val_loss: 0.1043 - val_accuracy: 0.8524\n",
      "Epoch 29/50\n",
      "204/204 [==============================] - 2s 8ms/step - loss: 0.0976 - accuracy: 0.8601 - val_loss: 0.1040 - val_accuracy: 0.8523\n",
      "Epoch 30/50\n",
      "204/204 [==============================] - 2s 8ms/step - loss: 0.0975 - accuracy: 0.8599 - val_loss: 0.1039 - val_accuracy: 0.8500\n",
      "Epoch 31/50\n",
      "204/204 [==============================] - 2s 8ms/step - loss: 0.0969 - accuracy: 0.8600 - val_loss: 0.1040 - val_accuracy: 0.8486\n",
      "Epoch 32/50\n",
      "204/204 [==============================] - 2s 9ms/step - loss: 0.0971 - accuracy: 0.8608 - val_loss: 0.1050 - val_accuracy: 0.8501\n",
      "Epoch 33/50\n",
      "204/204 [==============================] - 2s 9ms/step - loss: 0.0965 - accuracy: 0.8615 - val_loss: 0.1032 - val_accuracy: 0.8517\n",
      "Epoch 34/50\n",
      "204/204 [==============================] - 2s 9ms/step - loss: 0.0958 - accuracy: 0.8633 - val_loss: 0.1031 - val_accuracy: 0.8544\n",
      "Epoch 35/50\n",
      "204/204 [==============================] - 2s 9ms/step - loss: 0.0955 - accuracy: 0.8635 - val_loss: 0.1038 - val_accuracy: 0.8515\n",
      "Epoch 36/50\n",
      "204/204 [==============================] - 2s 9ms/step - loss: 0.0949 - accuracy: 0.8631 - val_loss: 0.1058 - val_accuracy: 0.8501\n",
      "Epoch 37/50\n",
      "204/204 [==============================] - 2s 8ms/step - loss: 0.0951 - accuracy: 0.8633 - val_loss: 0.1035 - val_accuracy: 0.8518\n",
      "Epoch 38/50\n",
      "204/204 [==============================] - 2s 9ms/step - loss: 0.0947 - accuracy: 0.8649 - val_loss: 0.1037 - val_accuracy: 0.8535\n",
      "Epoch 39/50\n",
      "204/204 [==============================] - 2s 8ms/step - loss: 0.0945 - accuracy: 0.8645 - val_loss: 0.1046 - val_accuracy: 0.8481\n",
      "Epoch 40/50\n",
      "204/204 [==============================] - 2s 8ms/step - loss: 0.0945 - accuracy: 0.8648 - val_loss: 0.1049 - val_accuracy: 0.8494\n",
      "Epoch 41/50\n",
      "204/204 [==============================] - 2s 8ms/step - loss: 0.0935 - accuracy: 0.8657 - val_loss: 0.1060 - val_accuracy: 0.8492\n",
      "Epoch 42/50\n",
      "204/204 [==============================] - 2s 8ms/step - loss: 0.0928 - accuracy: 0.8666 - val_loss: 0.1044 - val_accuracy: 0.8514\n",
      "Epoch 43/50\n",
      "204/204 [==============================] - 2s 8ms/step - loss: 0.0926 - accuracy: 0.8667 - val_loss: 0.1056 - val_accuracy: 0.8497\n",
      "Epoch 44/50\n",
      "204/204 [==============================] - 2s 8ms/step - loss: 0.0922 - accuracy: 0.8678 - val_loss: 0.1065 - val_accuracy: 0.8475\n",
      "Epoch 45/50\n",
      "204/204 [==============================] - 2s 8ms/step - loss: 0.0921 - accuracy: 0.8690 - val_loss: 0.1059 - val_accuracy: 0.8490\n",
      "Epoch 46/50\n",
      "204/204 [==============================] - 2s 8ms/step - loss: 0.0912 - accuracy: 0.8705 - val_loss: 0.1055 - val_accuracy: 0.8500\n",
      "Epoch 47/50\n",
      "204/204 [==============================] - 2s 9ms/step - loss: 0.0912 - accuracy: 0.8702 - val_loss: 0.1059 - val_accuracy: 0.8474\n",
      "Epoch 48/50\n",
      "204/204 [==============================] - 2s 9ms/step - loss: 0.0903 - accuracy: 0.8719 - val_loss: 0.1055 - val_accuracy: 0.8510\n",
      "Epoch 49/50\n",
      "204/204 [==============================] - 2s 9ms/step - loss: 0.0894 - accuracy: 0.8740 - val_loss: 0.1084 - val_accuracy: 0.8435\n",
      "Epoch 50/50\n",
      "204/204 [==============================] - 2s 9ms/step - loss: 0.0891 - accuracy: 0.8728 - val_loss: 0.1063 - val_accuracy: 0.8481\n"
     ]
    }
   ],
   "source": [
    "history = mdl_k.fit(\n",
    "    nn_X_train,\n",
    "    y_train,\n",
    "    epochs=50,\n",
    "    batch_size=128,\n",
    "    # validation_data=(nn_X_test, y_test),\n",
    "    validation_data=val_dataset,\n",
    "    #validation_split=0.1,\n",
    "#     callbacks=[\n",
    "#         tf.keras.callbacks.EarlyStopping(monitor=\"val_loss\", patience=5, mode=\"min\", verbose=2)\n",
    "#     ],\n",
    "    use_multiprocessing=True\n",
    ")"
   ]
  },
  {
   "cell_type": "code",
   "execution_count": 14,
   "metadata": {},
   "outputs": [
    {
     "data": {
      "image/png": "[encoded data removed]",
      "text/plain": [
       "<Figure size 432x288 with 1 Axes>"
      ]
     },
     "metadata": {
      "needs_background": "light"
     },
     "output_type": "display_data"
    }
   ],
   "source": [
    "import matplotlib.pyplot as plt\n",
    "%matplotlib inline\n",
    "# summarize history for accuracy\n",
    "plt.plot(history.history['accuracy'])\n",
    "plt.plot(history.history['val_accuracy'])\n",
    "plt.title('model accuracy')\n",
    "plt.ylabel('accuracy')\n",
    "plt.xlabel('epoch')\n",
    "plt.legend(['train', 'test'], loc='upper left')\n",
    "plt.show()"
   ]
  },
  {
   "cell_type": "code",
   "execution_count": 15,
   "metadata": {},
   "outputs": [],
   "source": [
    "# We see a bit of overfitting above."
   ]
  },
  {
   "cell_type": "code",
   "execution_count": null,
   "metadata": {},
   "outputs": [],
   "source": []
  }
 ],
 "metadata": {
  "kernelspec": {
   "display_name": "Python 3",
   "language": "python",
   "name": "python3"
  },
  "language_info": {
   "codemirror_mode": {
    "name": "ipython",
    "version": 3
   },
   "file_extension": ".py",
   "mimetype": "text/x-python",
   "name": "python",
   "nbconvert_exporter": "python",
   "pygments_lexer": "ipython3",
   "version": "3.8.5"
  }
 },
 "nbformat": 4,
 "nbformat_minor": 2
}
