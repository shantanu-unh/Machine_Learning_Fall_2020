{
 "cells": [
  {
   "cell_type": "markdown",
   "metadata": {},
   "source": [
    "### Build a Sequential Neural Network using the familiar Census Data"
   ]
  },
  {
   "cell_type": "code",
   "execution_count": 1,
   "metadata": {},
   "outputs": [],
   "source": [
    "# From last week\n",
    "\n",
    "import tensorflow as tf\n",
    "import keras\n",
    "import numpy as np\n",
    "import pandas as pd"
   ]
  },
  {
   "cell_type": "code",
   "execution_count": 2,
   "metadata": {},
   "outputs": [
    {
     "name": "stdout",
     "output_type": "stream",
     "text": [
      "[PhysicalDevice(name='/physical_device:GPU:0', device_type='GPU')]\n"
     ]
    }
   ],
   "source": [
    "gpus = tf.config.experimental.list_physical_devices('GPU')\n",
    "print(gpus)\n",
    "# tf.config.experimental.set_memory_growth(gpus[0], True)"
   ]
  },
  {
   "cell_type": "markdown",
   "metadata": {},
   "source": [
    "### 1. Import the now (very) familiar US Census Income Data"
   ]
  },
  {
   "cell_type": "code",
   "execution_count": 3,
   "metadata": {},
   "outputs": [
    {
     "data": {
      "text/html": [
       "<div>\n",
       "<style scoped>\n",
       "    .dataframe tbody tr th:only-of-type {\n",
       "        vertical-align: middle;\n",
       "    }\n",
       "\n",
       "    .dataframe tbody tr th {\n",
       "        vertical-align: top;\n",
       "    }\n",
       "\n",
       "    .dataframe thead th {\n",
       "        text-align: right;\n",
       "    }\n",
       "</style>\n",
       "<table border=\"1\" class=\"dataframe\">\n",
       "  <thead>\n",
       "    <tr style=\"text-align: right;\">\n",
       "      <th></th>\n",
       "      <th>Age</th>\n",
       "      <th>WorkClass</th>\n",
       "      <th>fnlwgt</th>\n",
       "      <th>Education</th>\n",
       "      <th>EducationNum</th>\n",
       "      <th>MaritalStatus</th>\n",
       "      <th>Occupation</th>\n",
       "      <th>Relationship</th>\n",
       "      <th>Race</th>\n",
       "      <th>Gender</th>\n",
       "      <th>CapitalGain</th>\n",
       "      <th>CapitalLoss</th>\n",
       "      <th>HoursPerWeek</th>\n",
       "      <th>NativeCountry</th>\n",
       "      <th>Income</th>\n",
       "    </tr>\n",
       "  </thead>\n",
       "  <tbody>\n",
       "    <tr>\n",
       "      <th>48837</th>\n",
       "      <td>27</td>\n",
       "      <td>4</td>\n",
       "      <td>257302</td>\n",
       "      <td>7</td>\n",
       "      <td>12</td>\n",
       "      <td>2</td>\n",
       "      <td>13</td>\n",
       "      <td>5</td>\n",
       "      <td>4</td>\n",
       "      <td>0</td>\n",
       "      <td>0</td>\n",
       "      <td>0</td>\n",
       "      <td>38</td>\n",
       "      <td>39</td>\n",
       "      <td>0</td>\n",
       "    </tr>\n",
       "    <tr>\n",
       "      <th>48838</th>\n",
       "      <td>40</td>\n",
       "      <td>4</td>\n",
       "      <td>154374</td>\n",
       "      <td>11</td>\n",
       "      <td>9</td>\n",
       "      <td>2</td>\n",
       "      <td>7</td>\n",
       "      <td>0</td>\n",
       "      <td>4</td>\n",
       "      <td>1</td>\n",
       "      <td>0</td>\n",
       "      <td>0</td>\n",
       "      <td>40</td>\n",
       "      <td>39</td>\n",
       "      <td>1</td>\n",
       "    </tr>\n",
       "    <tr>\n",
       "      <th>48839</th>\n",
       "      <td>58</td>\n",
       "      <td>4</td>\n",
       "      <td>151910</td>\n",
       "      <td>11</td>\n",
       "      <td>9</td>\n",
       "      <td>6</td>\n",
       "      <td>1</td>\n",
       "      <td>4</td>\n",
       "      <td>4</td>\n",
       "      <td>0</td>\n",
       "      <td>0</td>\n",
       "      <td>0</td>\n",
       "      <td>40</td>\n",
       "      <td>39</td>\n",
       "      <td>0</td>\n",
       "    </tr>\n",
       "    <tr>\n",
       "      <th>48840</th>\n",
       "      <td>22</td>\n",
       "      <td>4</td>\n",
       "      <td>201490</td>\n",
       "      <td>11</td>\n",
       "      <td>9</td>\n",
       "      <td>4</td>\n",
       "      <td>1</td>\n",
       "      <td>3</td>\n",
       "      <td>4</td>\n",
       "      <td>1</td>\n",
       "      <td>0</td>\n",
       "      <td>0</td>\n",
       "      <td>20</td>\n",
       "      <td>39</td>\n",
       "      <td>0</td>\n",
       "    </tr>\n",
       "    <tr>\n",
       "      <th>48841</th>\n",
       "      <td>52</td>\n",
       "      <td>5</td>\n",
       "      <td>287927</td>\n",
       "      <td>11</td>\n",
       "      <td>9</td>\n",
       "      <td>2</td>\n",
       "      <td>4</td>\n",
       "      <td>5</td>\n",
       "      <td>4</td>\n",
       "      <td>0</td>\n",
       "      <td>15024</td>\n",
       "      <td>0</td>\n",
       "      <td>40</td>\n",
       "      <td>39</td>\n",
       "      <td>1</td>\n",
       "    </tr>\n",
       "  </tbody>\n",
       "</table>\n",
       "</div>"
      ],
      "text/plain": [
       "       Age  WorkClass  fnlwgt  Education  EducationNum  MaritalStatus  \\\n",
       "48837   27          4  257302          7            12              2   \n",
       "48838   40          4  154374         11             9              2   \n",
       "48839   58          4  151910         11             9              6   \n",
       "48840   22          4  201490         11             9              4   \n",
       "48841   52          5  287927         11             9              2   \n",
       "\n",
       "       Occupation  Relationship  Race  Gender  CapitalGain  CapitalLoss  \\\n",
       "48837          13             5     4       0            0            0   \n",
       "48838           7             0     4       1            0            0   \n",
       "48839           1             4     4       0            0            0   \n",
       "48840           1             3     4       1            0            0   \n",
       "48841           4             5     4       0        15024            0   \n",
       "\n",
       "       HoursPerWeek  NativeCountry  Income  \n",
       "48837            38             39       0  \n",
       "48838            40             39       1  \n",
       "48839            40             39       0  \n",
       "48840            20             39       0  \n",
       "48841            40             39       1  "
      ]
     },
     "execution_count": 3,
     "metadata": {},
     "output_type": "execute_result"
    }
   ],
   "source": [
    "import pandas\n",
    "from sklearn.svm import SVC\n",
    "import sklearn\n",
    "from sklearn import preprocessing\n",
    "\n",
    "from sklearn.model_selection import train_test_split\n",
    "\n",
    "col_names = [\n",
    "    \"Age\", \"WorkClass\", \"fnlwgt\", \"Education\", \"EducationNum\",\n",
    "    \"MaritalStatus\", \"Occupation\", \"Relationship\", \"Race\", \"Gender\",\n",
    "    \"CapitalGain\", \"CapitalLoss\", \"HoursPerWeek\", \"NativeCountry\", \"Income\"\n",
    "]\n",
    "\n",
    "df = pandas.read_csv('census_data.csv')\n",
    "df.columns=col_names\n",
    "# df['Income'] = df['Income'].apply(lambda x: 0 if x == ' <=50K' else 1)\n",
    "\n",
    "for column in df.columns:\n",
    "    if df[column].dtype == type(object):\n",
    "        le = sklearn.preprocessing.LabelEncoder()\n",
    "        df[column] = le.fit_transform(df[column])\n",
    "df.tail()"
   ]
  },
  {
   "cell_type": "markdown",
   "metadata": {},
   "source": [
    "### 2. Split the data and use preprocessing StandardScaler on the data"
   ]
  },
  {
   "cell_type": "code",
   "execution_count": 4,
   "metadata": {},
   "outputs": [],
   "source": [
    "X = df.drop(columns='Income')\n",
    "X = pandas.DataFrame(preprocessing.StandardScaler().fit_transform(X), columns=X.columns)\n",
    "y = df['Income']\n",
    "X_train, X_test, y_train, y_test = train_test_split(X, y, test_size=0.20, random_state=555, stratify=y)"
   ]
  },
  {
   "cell_type": "code",
   "execution_count": null,
   "metadata": {},
   "outputs": [],
   "source": []
  },
  {
   "cell_type": "markdown",
   "metadata": {},
   "source": [
    "### 3. Use the Tensorflow and Keras libraries from last week to build a NN.\n",
    "\n",
    "*Use today's class notes as a guild.  Try using different activation functions"
   ]
  },
  {
   "cell_type": "code",
   "execution_count": 5,
   "metadata": {},
   "outputs": [],
   "source": [
    "nn_X_train = np.reshape(X_train.values, (X_train.shape[0], X_train.shape[1], 1))\n",
    "nn_X_test = np.reshape(X_test.values, (X_test.shape[0], X_test.shape[1], 1))"
   ]
  },
  {
   "cell_type": "code",
   "execution_count": null,
   "metadata": {},
   "outputs": [],
   "source": [
    "# mdl_k = tf.keras.Sequential([tf.keras.layers.Input(shape=(nn_X_train.shape[1], nn_X_train.shape[2]))])"
   ]
  },
  {
   "cell_type": "code",
   "execution_count": 6,
   "metadata": {},
   "outputs": [],
   "source": [
    "# create model\n",
    "mdl_k = tf.keras.Sequential([tf.keras.layers.Input(shape=(nn_X_train.shape[1], nn_X_train.shape[2]))])\n",
    "mdl_k.add(tf.keras.layers.Dense(12, input_dim=3, activation='softmax', kernel_initializer=\"he_normal\"))\n",
    "# mdl_k.add(tf.keras.layers.Dense(8, activation='relu'))\n",
    "\n",
    "mdl_k.add(tf.keras.layers.LSTM(64))\n",
    "#mdl_k.add(tf.keras.layers.LeakyReLU(alpha=0.2))\n",
    "mdl_k.add(tf.keras.layers.Dense(1, activation='elu'))"
   ]
  },
  {
   "cell_type": "code",
   "execution_count": 7,
   "metadata": {
    "scrolled": true
   },
   "outputs": [],
   "source": [
    "# Compile model\n",
    "mdl_k.compile(loss='mse', optimizer=tf.keras.optimizers.Adam(learning_rate=1e-3), metrics=['accuracy'])"
   ]
  },
  {
   "cell_type": "code",
   "execution_count": 8,
   "metadata": {},
   "outputs": [
    {
     "name": "stdout",
     "output_type": "stream",
     "text": [
      "Model: \"sequential\"\n",
      "_________________________________________________________________\n",
      "Layer (type)                 Output Shape              Param #   \n",
      "=================================================================\n",
      "dense (Dense)                (None, 14, 12)            24        \n",
      "_________________________________________________________________\n",
      "lstm (LSTM)                  (None, 64)                19712     \n",
      "_________________________________________________________________\n",
      "dense_1 (Dense)              (None, 1)                 65        \n",
      "=================================================================\n",
      "Total params: 19,801\n",
      "Trainable params: 19,801\n",
      "Non-trainable params: 0\n",
      "_________________________________________________________________\n"
     ]
    }
   ],
   "source": [
    "mdl_k.summary()"
   ]
  },
  {
   "cell_type": "code",
   "execution_count": 9,
   "metadata": {},
   "outputs": [],
   "source": [
    "val_dataset = tf.data.Dataset.from_tensor_slices((nn_X_test, y_test)).batch(batch_size=128)"
   ]
  },
  {
   "cell_type": "code",
   "execution_count": 10,
   "metadata": {},
   "outputs": [
    {
     "name": "stdout",
     "output_type": "stream",
     "text": [
      "Epoch 1/50\n",
      "306/306 [==============================] - 5s 17ms/step - loss: 0.1539 - accuracy: 0.7796 - val_loss: 0.1471 - val_accuracy: 0.7881\n",
      "Epoch 2/50\n",
      "306/306 [==============================] - 4s 13ms/step - loss: 0.1378 - accuracy: 0.8004 - val_loss: 0.1325 - val_accuracy: 0.8082\n",
      "Epoch 3/50\n",
      "306/306 [==============================] - 4s 13ms/step - loss: 0.1307 - accuracy: 0.8104 - val_loss: 0.1309 - val_accuracy: 0.8064\n",
      "Epoch 4/50\n",
      "306/306 [==============================] - 4s 13ms/step - loss: 0.1239 - accuracy: 0.8219 - val_loss: 0.1239 - val_accuracy: 0.8174\n",
      "Epoch 5/50\n",
      "306/306 [==============================] - 4s 13ms/step - loss: 0.1217 - accuracy: 0.8235 - val_loss: 0.1193 - val_accuracy: 0.8252\n",
      "Epoch 6/50\n",
      "306/306 [==============================] - 4s 13ms/step - loss: 0.1198 - accuracy: 0.8278 - val_loss: 0.1168 - val_accuracy: 0.8287\n",
      "Epoch 7/50\n",
      "306/306 [==============================] - 4s 12ms/step - loss: 0.1184 - accuracy: 0.8305 - val_loss: 0.1212 - val_accuracy: 0.8236\n",
      "Epoch 8/50\n",
      "306/306 [==============================] - 4s 12ms/step - loss: 0.1176 - accuracy: 0.8316 - val_loss: 0.1166 - val_accuracy: 0.8338\n",
      "Epoch 9/50\n",
      "306/306 [==============================] - 4s 12ms/step - loss: 0.1157 - accuracy: 0.8341 - val_loss: 0.1141 - val_accuracy: 0.8361\n",
      "Epoch 10/50\n",
      "306/306 [==============================] - 4s 14ms/step - loss: 0.1154 - accuracy: 0.8349 - val_loss: 0.1168 - val_accuracy: 0.8311\n",
      "Epoch 11/50\n",
      "306/306 [==============================] - 4s 13ms/step - loss: 0.1148 - accuracy: 0.8358 - val_loss: 0.1126 - val_accuracy: 0.8366\n",
      "Epoch 12/50\n",
      "306/306 [==============================] - 4s 13ms/step - loss: 0.1136 - accuracy: 0.8382 - val_loss: 0.1124 - val_accuracy: 0.8363\n",
      "Epoch 13/50\n",
      "306/306 [==============================] - 4s 13ms/step - loss: 0.1128 - accuracy: 0.8385 - val_loss: 0.1147 - val_accuracy: 0.8331\n",
      "Epoch 14/50\n",
      "306/306 [==============================] - 4s 13ms/step - loss: 0.1123 - accuracy: 0.8376 - val_loss: 0.1109 - val_accuracy: 0.8385\n",
      "Epoch 15/50\n",
      "306/306 [==============================] - 4s 13ms/step - loss: 0.1115 - accuracy: 0.8403 - val_loss: 0.1119 - val_accuracy: 0.8394\n",
      "Epoch 16/50\n",
      "306/306 [==============================] - 4s 13ms/step - loss: 0.1119 - accuracy: 0.8397 - val_loss: 0.1089 - val_accuracy: 0.8450\n",
      "Epoch 17/50\n",
      "306/306 [==============================] - 4s 13ms/step - loss: 0.1111 - accuracy: 0.8419 - val_loss: 0.1082 - val_accuracy: 0.8443\n",
      "Epoch 18/50\n",
      "306/306 [==============================] - 4s 12ms/step - loss: 0.1100 - accuracy: 0.8442 - val_loss: 0.1080 - val_accuracy: 0.8451\n",
      "Epoch 19/50\n",
      "306/306 [==============================] - 5s 16ms/step - loss: 0.1097 - accuracy: 0.8430 - val_loss: 0.1087 - val_accuracy: 0.8458\n",
      "Epoch 20/50\n",
      "306/306 [==============================] - 4s 12ms/step - loss: 0.1088 - accuracy: 0.8446 - val_loss: 0.1075 - val_accuracy: 0.8458\n",
      "Epoch 21/50\n",
      "306/306 [==============================] - 4s 12ms/step - loss: 0.1081 - accuracy: 0.8447 - val_loss: 0.1069 - val_accuracy: 0.8461\n",
      "Epoch 22/50\n",
      "306/306 [==============================] - 5s 15ms/step - loss: 0.1077 - accuracy: 0.8461 - val_loss: 0.1073 - val_accuracy: 0.8439\n",
      "Epoch 23/50\n",
      "306/306 [==============================] - 4s 12ms/step - loss: 0.1070 - accuracy: 0.8493 - val_loss: 0.1054 - val_accuracy: 0.8484\n",
      "Epoch 24/50\n",
      "306/306 [==============================] - 4s 13ms/step - loss: 0.1063 - accuracy: 0.8490 - val_loss: 0.1048 - val_accuracy: 0.8475\n",
      "Epoch 25/50\n",
      "306/306 [==============================] - 4s 15ms/step - loss: 0.1061 - accuracy: 0.8488 - val_loss: 0.1063 - val_accuracy: 0.8481\n",
      "Epoch 26/50\n",
      "306/306 [==============================] - 4s 13ms/step - loss: 0.1051 - accuracy: 0.8498 - val_loss: 0.1024 - val_accuracy: 0.8523\n",
      "Epoch 27/50\n",
      "306/306 [==============================] - 4s 14ms/step - loss: 0.1047 - accuracy: 0.8503 - val_loss: 0.1023 - val_accuracy: 0.8525\n",
      "Epoch 28/50\n",
      "306/306 [==============================] - 4s 12ms/step - loss: 0.1045 - accuracy: 0.8500 - val_loss: 0.1053 - val_accuracy: 0.8471\n",
      "Epoch 29/50\n",
      "306/306 [==============================] - 4s 13ms/step - loss: 0.1041 - accuracy: 0.8512 - val_loss: 0.1014 - val_accuracy: 0.8516\n",
      "Epoch 30/50\n",
      "306/306 [==============================] - 4s 12ms/step - loss: 0.1036 - accuracy: 0.8525 - val_loss: 0.1022 - val_accuracy: 0.8534\n",
      "Epoch 31/50\n",
      "306/306 [==============================] - 5s 17ms/step - loss: 0.1032 - accuracy: 0.8510 - val_loss: 0.1089 - val_accuracy: 0.8425\n",
      "Epoch 32/50\n",
      "306/306 [==============================] - 4s 13ms/step - loss: 0.1030 - accuracy: 0.8517 - val_loss: 0.1028 - val_accuracy: 0.8524\n",
      "Epoch 33/50\n",
      "306/306 [==============================] - 3s 11ms/step - loss: 0.1026 - accuracy: 0.8523 - val_loss: 0.1004 - val_accuracy: 0.8549\n",
      "Epoch 34/50\n",
      "306/306 [==============================] - 3s 11ms/step - loss: 0.1021 - accuracy: 0.8530 - val_loss: 0.1012 - val_accuracy: 0.8529\n",
      "Epoch 35/50\n",
      "306/306 [==============================] - 4s 12ms/step - loss: 0.1018 - accuracy: 0.8531 - val_loss: 0.0996 - val_accuracy: 0.8560\n",
      "Epoch 36/50\n",
      "306/306 [==============================] - 4s 13ms/step - loss: 0.1017 - accuracy: 0.8532 - val_loss: 0.1003 - val_accuracy: 0.8547\n",
      "Epoch 37/50\n",
      "306/306 [==============================] - 3s 11ms/step - loss: 0.1017 - accuracy: 0.8532 - val_loss: 0.1013 - val_accuracy: 0.8543\n",
      "Epoch 38/50\n",
      "306/306 [==============================] - 3s 11ms/step - loss: 0.1019 - accuracy: 0.8528 - val_loss: 0.1004 - val_accuracy: 0.8554\n",
      "Epoch 39/50\n",
      "306/306 [==============================] - 4s 14ms/step - loss: 0.1011 - accuracy: 0.8531 - val_loss: 0.0994 - val_accuracy: 0.8567\n",
      "Epoch 40/50\n",
      "306/306 [==============================] - 5s 15ms/step - loss: 0.1014 - accuracy: 0.8542 - val_loss: 0.0999 - val_accuracy: 0.8536\n",
      "Epoch 41/50\n",
      "306/306 [==============================] - 5s 18ms/step - loss: 0.1011 - accuracy: 0.8542 - val_loss: 0.1009 - val_accuracy: 0.8531\n",
      "Epoch 42/50\n",
      "306/306 [==============================] - 5s 16ms/step - loss: 0.1008 - accuracy: 0.8539 - val_loss: 0.1027 - val_accuracy: 0.8478\n",
      "Epoch 43/50\n",
      "306/306 [==============================] - 6s 18ms/step - loss: 0.1008 - accuracy: 0.8550 - val_loss: 0.1004 - val_accuracy: 0.8562\n",
      "Epoch 44/50\n",
      "306/306 [==============================] - 7s 22ms/step - loss: 0.1008 - accuracy: 0.8545 - val_loss: 0.1004 - val_accuracy: 0.8547\n",
      "Epoch 45/50\n",
      "306/306 [==============================] - 5s 17ms/step - loss: 0.1007 - accuracy: 0.8537 - val_loss: 0.1022 - val_accuracy: 0.8520\n",
      "Epoch 46/50\n",
      "306/306 [==============================] - 5s 15ms/step - loss: 0.1002 - accuracy: 0.8556 - val_loss: 0.0998 - val_accuracy: 0.8528\n",
      "Epoch 47/50\n",
      "306/306 [==============================] - 4s 13ms/step - loss: 0.1006 - accuracy: 0.8551 - val_loss: 0.1007 - val_accuracy: 0.8532\n",
      "Epoch 48/50\n",
      "306/306 [==============================] - 4s 12ms/step - loss: 0.1000 - accuracy: 0.8562 - val_loss: 0.0995 - val_accuracy: 0.8553\n",
      "Epoch 49/50\n",
      "306/306 [==============================] - 4s 13ms/step - loss: 0.0999 - accuracy: 0.8544 - val_loss: 0.1001 - val_accuracy: 0.8532\n",
      "Epoch 50/50\n",
      "306/306 [==============================] - 4s 13ms/step - loss: 0.0998 - accuracy: 0.8564 - val_loss: 0.1007 - val_accuracy: 0.8540\n"
     ]
    }
   ],
   "source": [
    "history = mdl_k.fit(\n",
    "    nn_X_train,\n",
    "    y_train,\n",
    "    epochs=50,\n",
    "    batch_size=128,\n",
    "    # validation_data=(nn_X_test, y_test),\n",
    "    validation_data=val_dataset,\n",
    "    #validation_split=0.1,\n",
    "#     callbacks=[\n",
    "#         tf.keras.callbacks.EarlyStopping(monitor=\"val_loss\", patience=5, mode=\"min\", verbose=2)\n",
    "#     ],\n",
    "    use_multiprocessing=True\n",
    ")"
   ]
  },
  {
   "cell_type": "code",
   "execution_count": 11,
   "metadata": {},
   "outputs": [
    {
     "data": {
      "image/png": "[encoded data removed]",
      "text/plain": [
       "<Figure size 432x288 with 1 Axes>"
      ]
     },
     "metadata": {
      "needs_background": "light"
     },
     "output_type": "display_data"
    }
   ],
   "source": [
    "import matplotlib.pyplot as plt\n",
    "%matplotlib inline\n",
    "# summarize history for accuracy\n",
    "plt.plot(history.history['accuracy'])\n",
    "plt.plot(history.history['val_accuracy'])\n",
    "plt.title('model accuracy')\n",
    "plt.ylabel('accuracy')\n",
    "plt.xlabel('epoch')\n",
    "plt.legend(['train', 'test'], loc='upper left')\n",
    "plt.show()"
   ]
  },
  {
   "cell_type": "code",
   "execution_count": null,
   "metadata": {},
   "outputs": [],
   "source": [
    "# Got the Perfect Model without overfitting"
   ]
  },
  {
   "cell_type": "markdown",
   "metadata": {},
   "source": [
    "### 4. Build an xgBoost model on this data.  Were you able to build a NN with greater accuracy than xgBoost ?"
   ]
  },
  {
   "cell_type": "code",
   "execution_count": 12,
   "metadata": {},
   "outputs": [],
   "source": [
    "import xgboost as xgb\n",
    "from xgboost.sklearn import XGBClassifier\n",
    "from sklearn.metrics import accuracy_score\n",
    "from sklearn.model_selection import GridSearchCV\n",
    "from sklearn.model_selection import train_test_split, StratifiedKFold"
   ]
  },
  {
   "cell_type": "code",
   "execution_count": 13,
   "metadata": {},
   "outputs": [],
   "source": [
    "\n",
    "xg_params = {\n",
    "    'eta': [0.01, 0.025, 0.05, 0.075, 0.25, 0.3, 0.5],\n",
    "    'max_depth': [3, 5, 6, 7, 9],\n",
    "    'tree_method': ['gpu_hist'],\n",
    "    'predictor': ['gpu_predictor']\n",
    "}"
   ]
  },
  {
   "cell_type": "code",
   "execution_count": 14,
   "metadata": {},
   "outputs": [
    {
     "name": "stdout",
     "output_type": "stream",
     "text": [
      "Fitting 5 folds for each of 35 candidates, totalling 175 fits\n"
     ]
    },
    {
     "name": "stderr",
     "output_type": "stream",
     "text": [
      "[Parallel(n_jobs=-1)]: Using backend LokyBackend with 4 concurrent workers.\n",
      "[Parallel(n_jobs=-1)]: Done   5 tasks      | elapsed:   36.2s\n",
      "[Parallel(n_jobs=-1)]: Done  10 tasks      | elapsed:   42.5s\n",
      "[Parallel(n_jobs=-1)]: Done  17 tasks      | elapsed:   55.9s\n",
      "[Parallel(n_jobs=-1)]: Done  24 tasks      | elapsed:  1.3min\n",
      "[Parallel(n_jobs=-1)]: Done  33 tasks      | elapsed:  1.5min\n",
      "[Parallel(n_jobs=-1)]: Done  42 tasks      | elapsed:  1.8min\n",
      "[Parallel(n_jobs=-1)]: Done  53 tasks      | elapsed:  2.2min\n",
      "[Parallel(n_jobs=-1)]: Done  64 tasks      | elapsed:  2.5min\n",
      "[Parallel(n_jobs=-1)]: Done  77 tasks      | elapsed:  3.0min\n",
      "[Parallel(n_jobs=-1)]: Done  90 tasks      | elapsed:  3.3min\n",
      "[Parallel(n_jobs=-1)]: Done 105 tasks      | elapsed:  3.9min\n",
      "[Parallel(n_jobs=-1)]: Done 120 tasks      | elapsed:  4.2min\n",
      "[Parallel(n_jobs=-1)]: Done 137 tasks      | elapsed:  4.6min\n",
      "[Parallel(n_jobs=-1)]: Done 154 tasks      | elapsed:  5.1min\n",
      "[Parallel(n_jobs=-1)]: Done 175 out of 175 | elapsed:  5.7min finished\n"
     ]
    },
    {
     "data": {
      "text/plain": [
       "GridSearchCV(cv=5,\n",
       "             estimator=XGBClassifier(base_score=None, booster=None,\n",
       "                                     colsample_bylevel=None,\n",
       "                                     colsample_bynode=None,\n",
       "                                     colsample_bytree=None, gamma=None,\n",
       "                                     gpu_id=None, importance_type='gain',\n",
       "                                     interaction_constraints=None,\n",
       "                                     learning_rate=None, max_delta_step=None,\n",
       "                                     max_depth=None, min_child_weight=None,\n",
       "                                     missing=nan, monotone_constraints=None,\n",
       "                                     n_estimators=100, n_jobs...\n",
       "                                     num_parallel_tree=None, random_state=None,\n",
       "                                     reg_alpha=None, reg_lambda=None,\n",
       "                                     scale_pos_weight=None, seed=555,\n",
       "                                     subsample=None, tree_method=None,\n",
       "                                     validate_parameters=None, verbosity=None),\n",
       "             n_jobs=-1,\n",
       "             param_grid={'eta': [0.01, 0.025, 0.05, 0.075, 0.25, 0.3, 0.5],\n",
       "                         'max_depth': [3, 5, 6, 7, 9],\n",
       "                         'predictor': ['gpu_predictor'],\n",
       "                         'tree_method': ['gpu_hist']},\n",
       "             scoring='roc_auc', verbose=10)"
      ]
     },
     "execution_count": 14,
     "metadata": {},
     "output_type": "execute_result"
    }
   ],
   "source": [
    "clf_XGB = XGBClassifier(n_estimators = 100, objective= 'binary:logistic', seed=555)\n",
    "grid2 = GridSearchCV(clf_XGB, xg_params, scoring=\"roc_auc\", cv=5, verbose=10, n_jobs=-1)\n",
    "grid2.fit(X_train, y_train)"
   ]
  },
  {
   "cell_type": "code",
   "execution_count": null,
   "metadata": {},
   "outputs": [],
   "source": [
    "results = sklearn.model_selection.cross_val_score(grid2.best_estimator_, X_train,y_train, cv=5)\n",
    "print (\"Accuracy - Train CV: \", results.mean())\n",
    "\n",
    "tr = grid2.best_estimator_.predict(X_train), y_train.tolist()\n",
    "te = grid2.best_estimator_.predict(X_test), y_test.tolist()\n",
    "# print(te)\n",
    "\n",
    "print (\"Accuracy - Train : \", sklearn.metrics.accuracy_score(grid2.best_estimator_.predict(X_train), y_train))\n",
    "print (\"Accuracy - Test : \", sklearn.metrics.accuracy_score(grid2.best_estimator_.predict(X_test), y_test))"
   ]
  },
  {
   "cell_type": "code",
   "execution_count": null,
   "metadata": {},
   "outputs": [],
   "source": [
    "# We can see from above that XGboost gives more aaccuracy than our Neural Network"
   ]
  }
 ],
 "metadata": {
  "kernelspec": {
   "display_name": "Python 3",
   "language": "python",
   "name": "python3"
  },
  "language_info": {
   "codemirror_mode": {
    "name": "ipython",
    "version": 3
   },
   "file_extension": ".py",
   "mimetype": "text/x-python",
   "name": "python",
   "nbconvert_exporter": "python",
   "pygments_lexer": "ipython3",
   "version": "3.8.5"
  }
 },
 "nbformat": 4,
 "nbformat_minor": 4
}
