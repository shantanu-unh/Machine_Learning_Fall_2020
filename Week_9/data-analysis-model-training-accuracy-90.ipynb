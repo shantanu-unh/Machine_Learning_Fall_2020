{
 "cells": [
  {
   "cell_type": "markdown",
   "metadata": {},
   "source": [
    "# Meaning of column headings\n",
    "1. <font color='red'><strong>Age</strong></font> is the age of candidate.\n",
    "1. <font color='red'><strong>Sex</strong></font> has numeric values. 1 denotes male and 0 denotes female.\n",
    "1. <font color='red'><strong>Chest Pain</strong></font> pain has values between 0-3. The types of angina that are described in the research paper. The higher the number, the lesser are the odds of heart attack.\n",
    "1. <font color='red'><strong>Resting blood pressure</strong></font> is normal pressure with no exercise.\n",
    "1. <font color='red'><strong>Cholesterol</strong></font> means the blockage for blood supply in the blood vessels.\n",
    "1. <font color='red'><strong>Fasting Blood Pressure</strong></font> is blood sugar taken after a long gap between a meal and the test. Typically, it's taken before any meal in the morning.\n",
    "1. <font color='red'><strong>Rest ECG</strong></font> results means ECG values taken while person is on rest which means no exercise and normal functioning of heart is happening.\n",
    "1. The <font color='red'><strong>Maximum Heart Rate</strong></font> achieved.\n",
    "1. <font color='red'><strong>Exercise induced angina</strong></font> is chest pain while exercising or doing any physical activity.\n",
    "1. <font color='red'><strong>ST Depression</strong></font> is the difference between value of ECG at rest and after exercise.\n",
    "1. <font color='red'><strong>ST Slope</strong></font> is the tangent to the depression value.\n",
    "1. The <font color='red'><strong>number of major blood vessels</strong></font> supplying blood to heart blocked.\n",
    "1. The <font color='red'><strong>Types of thalassemia</strong></font>. \n",
    "1. <font color='red'><strong>Heart attack prediction</strong></font> where 1 denotes Heart attack occured and 0 where it din't take occur."
   ]
  },
  {
   "cell_type": "code",
   "execution_count": 5,
   "metadata": {
    "_cell_guid": "b1076dfc-b9ad-4769-8c92-a6c4dae69d19",
    "_uuid": "8f2839f25d086af736a60e9eeb907d3b93b6e0e5"
   },
   "outputs": [],
   "source": [
    "#Loading The Libraries\n",
    "\n",
    "#For uploading and accessing the data\n",
    "import pandas as pd\n",
    "import numpy as np\n",
    "\n",
    "#For visualizations\n",
    "import matplotlib.pyplot as plt\n",
    "import seaborn as sns\n",
    "\n",
    "import warnings\n",
    "warnings.filterwarnings(\"ignore\")"
   ]
  },
  {
   "cell_type": "code",
   "execution_count": 6,
   "metadata": {
    "_cell_guid": "79c7e3d0-c299-4dcb-8224-4455121ee9b0",
    "_uuid": "d629ff2d2480ee46fbb7e2d37f6b5fab8052498a"
   },
   "outputs": [],
   "source": [
    "df = pd.read_csv(\"heart.csv\")"
   ]
  },
  {
   "cell_type": "code",
   "execution_count": 7,
   "metadata": {},
   "outputs": [
    {
     "data": {
      "text/html": [
       "<div>\n",
       "<style scoped>\n",
       "    .dataframe tbody tr th:only-of-type {\n",
       "        vertical-align: middle;\n",
       "    }\n",
       "\n",
       "    .dataframe tbody tr th {\n",
       "        vertical-align: top;\n",
       "    }\n",
       "\n",
       "    .dataframe thead th {\n",
       "        text-align: right;\n",
       "    }\n",
       "</style>\n",
       "<table border=\"1\" class=\"dataframe\">\n",
       "  <thead>\n",
       "    <tr style=\"text-align: right;\">\n",
       "      <th></th>\n",
       "      <th>age</th>\n",
       "      <th>sex</th>\n",
       "      <th>cp</th>\n",
       "      <th>trestbps</th>\n",
       "      <th>chol</th>\n",
       "      <th>fbs</th>\n",
       "      <th>restecg</th>\n",
       "      <th>thalach</th>\n",
       "      <th>exang</th>\n",
       "      <th>oldpeak</th>\n",
       "      <th>slope</th>\n",
       "      <th>ca</th>\n",
       "      <th>thal</th>\n",
       "      <th>target</th>\n",
       "    </tr>\n",
       "  </thead>\n",
       "  <tbody>\n",
       "    <tr>\n",
       "      <th>0</th>\n",
       "      <td>63</td>\n",
       "      <td>1</td>\n",
       "      <td>3</td>\n",
       "      <td>145</td>\n",
       "      <td>233</td>\n",
       "      <td>1</td>\n",
       "      <td>0</td>\n",
       "      <td>150</td>\n",
       "      <td>0</td>\n",
       "      <td>2.3</td>\n",
       "      <td>0</td>\n",
       "      <td>0</td>\n",
       "      <td>1</td>\n",
       "      <td>1</td>\n",
       "    </tr>\n",
       "    <tr>\n",
       "      <th>1</th>\n",
       "      <td>37</td>\n",
       "      <td>1</td>\n",
       "      <td>2</td>\n",
       "      <td>130</td>\n",
       "      <td>250</td>\n",
       "      <td>0</td>\n",
       "      <td>1</td>\n",
       "      <td>187</td>\n",
       "      <td>0</td>\n",
       "      <td>3.5</td>\n",
       "      <td>0</td>\n",
       "      <td>0</td>\n",
       "      <td>2</td>\n",
       "      <td>1</td>\n",
       "    </tr>\n",
       "    <tr>\n",
       "      <th>2</th>\n",
       "      <td>41</td>\n",
       "      <td>0</td>\n",
       "      <td>1</td>\n",
       "      <td>130</td>\n",
       "      <td>204</td>\n",
       "      <td>0</td>\n",
       "      <td>0</td>\n",
       "      <td>172</td>\n",
       "      <td>0</td>\n",
       "      <td>1.4</td>\n",
       "      <td>2</td>\n",
       "      <td>0</td>\n",
       "      <td>2</td>\n",
       "      <td>1</td>\n",
       "    </tr>\n",
       "    <tr>\n",
       "      <th>3</th>\n",
       "      <td>56</td>\n",
       "      <td>1</td>\n",
       "      <td>1</td>\n",
       "      <td>120</td>\n",
       "      <td>236</td>\n",
       "      <td>0</td>\n",
       "      <td>1</td>\n",
       "      <td>178</td>\n",
       "      <td>0</td>\n",
       "      <td>0.8</td>\n",
       "      <td>2</td>\n",
       "      <td>0</td>\n",
       "      <td>2</td>\n",
       "      <td>1</td>\n",
       "    </tr>\n",
       "    <tr>\n",
       "      <th>4</th>\n",
       "      <td>57</td>\n",
       "      <td>0</td>\n",
       "      <td>0</td>\n",
       "      <td>120</td>\n",
       "      <td>354</td>\n",
       "      <td>0</td>\n",
       "      <td>1</td>\n",
       "      <td>163</td>\n",
       "      <td>1</td>\n",
       "      <td>0.6</td>\n",
       "      <td>2</td>\n",
       "      <td>0</td>\n",
       "      <td>2</td>\n",
       "      <td>1</td>\n",
       "    </tr>\n",
       "  </tbody>\n",
       "</table>\n",
       "</div>"
      ],
      "text/plain": [
       "   age  sex  cp  trestbps  chol  fbs  restecg  thalach  exang  oldpeak  slope  \\\n",
       "0   63    1   3       145   233    1        0      150      0      2.3      0   \n",
       "1   37    1   2       130   250    0        1      187      0      3.5      0   \n",
       "2   41    0   1       130   204    0        0      172      0      1.4      2   \n",
       "3   56    1   1       120   236    0        1      178      0      0.8      2   \n",
       "4   57    0   0       120   354    0        1      163      1      0.6      2   \n",
       "\n",
       "   ca  thal  target  \n",
       "0   0     1       1  \n",
       "1   0     2       1  \n",
       "2   0     2       1  \n",
       "3   0     2       1  \n",
       "4   0     2       1  "
      ]
     },
     "execution_count": 7,
     "metadata": {},
     "output_type": "execute_result"
    }
   ],
   "source": [
    "df.head()"
   ]
  },
  {
   "cell_type": "code",
   "execution_count": 8,
   "metadata": {},
   "outputs": [
    {
     "data": {
      "text/plain": [
       "(303, 14)"
      ]
     },
     "execution_count": 8,
     "metadata": {},
     "output_type": "execute_result"
    }
   ],
   "source": [
    "df.shape"
   ]
  },
  {
   "cell_type": "code",
   "execution_count": 9,
   "metadata": {},
   "outputs": [],
   "source": [
    "df.rename(columns ={'age':'Age','sex':'Sex','cp':'Chest_pain','trestbps':'Resting_blood_pressure','chol':'Cholesterol','fbs':'Fasting_blood_sugar',\n",
    "                    'restecg':'ECG_results','thalach':'Maximum_heart_rate','exang':'Exercise_induced_angina','oldpeak':'ST_depression','ca':'Major_vessels',\n",
    "                   'thal':'Thalassemia_types','target':'Heart_attack','slope':'ST_slope'}, inplace = True)"
   ]
  },
  {
   "cell_type": "markdown",
   "metadata": {},
   "source": [
    "Renaming the column headers for better understanding of visualizations."
   ]
  },
  {
   "cell_type": "code",
   "execution_count": 10,
   "metadata": {},
   "outputs": [
    {
     "data": {
      "text/html": [
       "<div>\n",
       "<style scoped>\n",
       "    .dataframe tbody tr th:only-of-type {\n",
       "        vertical-align: middle;\n",
       "    }\n",
       "\n",
       "    .dataframe tbody tr th {\n",
       "        vertical-align: top;\n",
       "    }\n",
       "\n",
       "    .dataframe thead th {\n",
       "        text-align: right;\n",
       "    }\n",
       "</style>\n",
       "<table border=\"1\" class=\"dataframe\">\n",
       "  <thead>\n",
       "    <tr style=\"text-align: right;\">\n",
       "      <th></th>\n",
       "      <th>Age</th>\n",
       "      <th>Sex</th>\n",
       "      <th>Chest_pain</th>\n",
       "      <th>Resting_blood_pressure</th>\n",
       "      <th>Cholesterol</th>\n",
       "      <th>Fasting_blood_sugar</th>\n",
       "      <th>ECG_results</th>\n",
       "      <th>Maximum_heart_rate</th>\n",
       "      <th>Exercise_induced_angina</th>\n",
       "      <th>ST_depression</th>\n",
       "      <th>ST_slope</th>\n",
       "      <th>Major_vessels</th>\n",
       "      <th>Thalassemia_types</th>\n",
       "      <th>Heart_attack</th>\n",
       "    </tr>\n",
       "  </thead>\n",
       "  <tbody>\n",
       "    <tr>\n",
       "      <th>0</th>\n",
       "      <td>63</td>\n",
       "      <td>1</td>\n",
       "      <td>3</td>\n",
       "      <td>145</td>\n",
       "      <td>233</td>\n",
       "      <td>1</td>\n",
       "      <td>0</td>\n",
       "      <td>150</td>\n",
       "      <td>0</td>\n",
       "      <td>2.3</td>\n",
       "      <td>0</td>\n",
       "      <td>0</td>\n",
       "      <td>1</td>\n",
       "      <td>1</td>\n",
       "    </tr>\n",
       "    <tr>\n",
       "      <th>1</th>\n",
       "      <td>37</td>\n",
       "      <td>1</td>\n",
       "      <td>2</td>\n",
       "      <td>130</td>\n",
       "      <td>250</td>\n",
       "      <td>0</td>\n",
       "      <td>1</td>\n",
       "      <td>187</td>\n",
       "      <td>0</td>\n",
       "      <td>3.5</td>\n",
       "      <td>0</td>\n",
       "      <td>0</td>\n",
       "      <td>2</td>\n",
       "      <td>1</td>\n",
       "    </tr>\n",
       "    <tr>\n",
       "      <th>2</th>\n",
       "      <td>41</td>\n",
       "      <td>0</td>\n",
       "      <td>1</td>\n",
       "      <td>130</td>\n",
       "      <td>204</td>\n",
       "      <td>0</td>\n",
       "      <td>0</td>\n",
       "      <td>172</td>\n",
       "      <td>0</td>\n",
       "      <td>1.4</td>\n",
       "      <td>2</td>\n",
       "      <td>0</td>\n",
       "      <td>2</td>\n",
       "      <td>1</td>\n",
       "    </tr>\n",
       "    <tr>\n",
       "      <th>3</th>\n",
       "      <td>56</td>\n",
       "      <td>1</td>\n",
       "      <td>1</td>\n",
       "      <td>120</td>\n",
       "      <td>236</td>\n",
       "      <td>0</td>\n",
       "      <td>1</td>\n",
       "      <td>178</td>\n",
       "      <td>0</td>\n",
       "      <td>0.8</td>\n",
       "      <td>2</td>\n",
       "      <td>0</td>\n",
       "      <td>2</td>\n",
       "      <td>1</td>\n",
       "    </tr>\n",
       "    <tr>\n",
       "      <th>4</th>\n",
       "      <td>57</td>\n",
       "      <td>0</td>\n",
       "      <td>0</td>\n",
       "      <td>120</td>\n",
       "      <td>354</td>\n",
       "      <td>0</td>\n",
       "      <td>1</td>\n",
       "      <td>163</td>\n",
       "      <td>1</td>\n",
       "      <td>0.6</td>\n",
       "      <td>2</td>\n",
       "      <td>0</td>\n",
       "      <td>2</td>\n",
       "      <td>1</td>\n",
       "    </tr>\n",
       "  </tbody>\n",
       "</table>\n",
       "</div>"
      ],
      "text/plain": [
       "   Age  Sex  Chest_pain  Resting_blood_pressure  Cholesterol  \\\n",
       "0   63    1           3                     145          233   \n",
       "1   37    1           2                     130          250   \n",
       "2   41    0           1                     130          204   \n",
       "3   56    1           1                     120          236   \n",
       "4   57    0           0                     120          354   \n",
       "\n",
       "   Fasting_blood_sugar  ECG_results  Maximum_heart_rate  \\\n",
       "0                    1            0                 150   \n",
       "1                    0            1                 187   \n",
       "2                    0            0                 172   \n",
       "3                    0            1                 178   \n",
       "4                    0            1                 163   \n",
       "\n",
       "   Exercise_induced_angina  ST_depression  ST_slope  Major_vessels  \\\n",
       "0                        0            2.3         0              0   \n",
       "1                        0            3.5         0              0   \n",
       "2                        0            1.4         2              0   \n",
       "3                        0            0.8         2              0   \n",
       "4                        1            0.6         2              0   \n",
       "\n",
       "   Thalassemia_types  Heart_attack  \n",
       "0                  1             1  \n",
       "1                  2             1  \n",
       "2                  2             1  \n",
       "3                  2             1  \n",
       "4                  2             1  "
      ]
     },
     "execution_count": 10,
     "metadata": {},
     "output_type": "execute_result"
    }
   ],
   "source": [
    "df2 = df.copy()\n",
    "df1 = df.copy()\n",
    "df.head()\n",
    "#1 = Male and 0 = Female in 'Sex' column."
   ]
  },
  {
   "cell_type": "code",
   "execution_count": 11,
   "metadata": {},
   "outputs": [
    {
     "data": {
      "text/plain": [
       "Age                        0\n",
       "Sex                        0\n",
       "Chest_pain                 0\n",
       "Resting_blood_pressure     0\n",
       "Cholesterol                0\n",
       "Fasting_blood_sugar        0\n",
       "ECG_results                0\n",
       "Maximum_heart_rate         0\n",
       "Exercise_induced_angina    0\n",
       "ST_depression              0\n",
       "ST_slope                   0\n",
       "Major_vessels              0\n",
       "Thalassemia_types          0\n",
       "Heart_attack               0\n",
       "dtype: int64"
      ]
     },
     "execution_count": 11,
     "metadata": {},
     "output_type": "execute_result"
    }
   ],
   "source": [
    "df.isnull().sum()"
   ]
  },
  {
   "cell_type": "markdown",
   "metadata": {},
   "source": [
    "No empty values in the dataset."
   ]
  },
  {
   "cell_type": "code",
   "execution_count": 12,
   "metadata": {},
   "outputs": [],
   "source": [
    "df1['Sex'].replace({1:'Male',0:'Female'},inplace = True)\n",
    "df1['Heart_attack'].replace({1:'Heart_attack - Yes',0:'Heart_attack - No'},inplace = True)"
   ]
  },
  {
   "cell_type": "markdown",
   "metadata": {},
   "source": [
    "Replacing the values for Sex and Heart_Attack colummns as these will make the understanding of visualizations better instead of numeric values."
   ]
  },
  {
   "cell_type": "markdown",
   "metadata": {},
   "source": [
    "# Analysis of data by GroupBy and Cmap"
   ]
  },
  {
   "cell_type": "code",
   "execution_count": null,
   "metadata": {},
   "outputs": [],
   "source": [
    "s= df1.groupby(['Sex','Age'])['Heart_attack'].count().reset_index().sort_values(by='Heart_attack',ascending=False)\n",
    "s.head(20).style.background_gradient(cmap='Purples')"
   ]
  },
  {
   "cell_type": "markdown",
   "metadata": {},
   "source": [
    "This shows the total number of heart attacks that have occured for a particular age in case of males and females. In the top 20 count of heart attack, males have witnessed more heart attacks for their ages."
   ]
  },
  {
   "cell_type": "code",
   "execution_count": null,
   "metadata": {},
   "outputs": [],
   "source": [
    "s= df1.groupby(['Sex','Chest_pain'])['Heart_attack'].count().reset_index().sort_values(by='Heart_attack',ascending=False)\n",
    "s.head(10).style.background_gradient(cmap='Blues')"
   ]
  },
  {
   "cell_type": "markdown",
   "metadata": {},
   "source": [
    "The Males having chest pain type 0 suffered the most heart attacks and type 2 the second highest. This trend is same for females."
   ]
  },
  {
   "cell_type": "code",
   "execution_count": null,
   "metadata": {},
   "outputs": [],
   "source": [
    "s= df1.groupby(['Sex','Resting_blood_pressure'])['Heart_attack'].count().reset_index().sort_values(by='Heart_attack',ascending=False)\n",
    "s.head(10).style.background_gradient(cmap='Greens')"
   ]
  },
  {
   "cell_type": "markdown",
   "metadata": {},
   "source": [
    "The resting blood pressure and the cases of heart attack for such pressure in case of males and females."
   ]
  },
  {
   "cell_type": "code",
   "execution_count": null,
   "metadata": {},
   "outputs": [],
   "source": [
    "s= df1.groupby(['Sex','Cholesterol'])['Heart_attack'].count().reset_index().sort_values(by='Heart_attack',ascending=False)\n",
    "s.head(10).style.background_gradient(cmap='Reds')"
   ]
  },
  {
   "cell_type": "markdown",
   "metadata": {},
   "source": [
    "Generally males having high cholesterol had higher cases of heart attacks than females at the same Cholesterol."
   ]
  },
  {
   "cell_type": "code",
   "execution_count": null,
   "metadata": {},
   "outputs": [],
   "source": [
    "s= df1.groupby(['Sex','Fasting_blood_sugar'])['Heart_attack'].count().reset_index().sort_values(by='Heart_attack',ascending=False)\n",
    "s.head(10).style.background_gradient(cmap='Reds')"
   ]
  },
  {
   "cell_type": "markdown",
   "metadata": {},
   "source": [
    "This shows relation of Fasting blood sugar with heart attack in case of Male and Females."
   ]
  },
  {
   "cell_type": "code",
   "execution_count": null,
   "metadata": {},
   "outputs": [],
   "source": [
    "s= df1.groupby(['Sex','ECG_results'])['Heart_attack'].count().reset_index().sort_values(by='Heart_attack',ascending=False)\n",
    "s.head(10).style.background_gradient(cmap='Greys')"
   ]
  },
  {
   "cell_type": "markdown",
   "metadata": {},
   "source": [
    "This shows the lower the ECG Results, the more cases of heart attack occurred."
   ]
  },
  {
   "cell_type": "code",
   "execution_count": null,
   "metadata": {},
   "outputs": [],
   "source": [
    "s= df1.groupby(['Sex','Maximum_heart_rate'])['Heart_attack'].count().reset_index().sort_values(by='Heart_attack',ascending=False)\n",
    "s.head(10).style.background_gradient(cmap='Oranges')"
   ]
  },
  {
   "cell_type": "markdown",
   "metadata": {},
   "source": [
    "The maximum heart rate varied for heart attack and were higher for males resulting in heart attack"
   ]
  },
  {
   "cell_type": "code",
   "execution_count": null,
   "metadata": {},
   "outputs": [],
   "source": [
    "s= df1.groupby(['Sex','Exercise_induced_angina'])['Heart_attack'].count().reset_index().sort_values(by='Heart_attack',ascending=False)\n",
    "s.head(10).style.background_gradient(cmap='Purples')"
   ]
  },
  {
   "cell_type": "markdown",
   "metadata": {},
   "source": [
    "Exercise induced chest pain was higher in males and more resulted in Heart attacks."
   ]
  },
  {
   "cell_type": "code",
   "execution_count": null,
   "metadata": {},
   "outputs": [],
   "source": [
    "s= df1.groupby(['Sex','ST_depression'])['Heart_attack'].count().reset_index().sort_values(by='Heart_attack',ascending=False)\n",
    "s.head(10).style.background_gradient(cmap='Blues')"
   ]
  },
  {
   "cell_type": "markdown",
   "metadata": {},
   "source": [
    "The lower the depression, the higher the cases were for heart attack."
   ]
  },
  {
   "cell_type": "code",
   "execution_count": null,
   "metadata": {},
   "outputs": [],
   "source": [
    "s= df1.groupby(['Sex','ST_slope'])['Heart_attack'].count().reset_index().sort_values(by='Heart_attack',ascending=False)\n",
    "s.head(10).style.background_gradient(cmap='Greens')"
   ]
  },
  {
   "cell_type": "markdown",
   "metadata": {},
   "source": [
    "The higher the slope value, the higher were the cases for Heart attack."
   ]
  },
  {
   "cell_type": "code",
   "execution_count": null,
   "metadata": {},
   "outputs": [],
   "source": [
    "s= df1.groupby(['Sex','Major_vessels'])['Heart_attack'].count().reset_index().sort_values(by='Heart_attack',ascending=False)\n",
    "s.head(10).style.background_gradient(cmap='Reds')"
   ]
  },
  {
   "cell_type": "markdown",
   "metadata": {},
   "source": [
    "The lower the number of vessels blocked, the higher were the heart attack cases. This means that 0 represents that all 4 major blood vessels were blocked and 4 represented all vessels were free for flow."
   ]
  },
  {
   "cell_type": "code",
   "execution_count": null,
   "metadata": {},
   "outputs": [],
   "source": [
    "s= df1.groupby(['Sex','Thalassemia_types'])['Heart_attack'].count().reset_index().sort_values(by='Heart_attack',ascending=False)\n",
    "s.head(10).style.background_gradient(cmap='Greys')"
   ]
  },
  {
   "cell_type": "markdown",
   "metadata": {},
   "source": [
    "The higher the Thalassemia type, the higher were the cases of heart attack."
   ]
  },
  {
   "cell_type": "code",
   "execution_count": null,
   "metadata": {},
   "outputs": [],
   "source": [
    "df2.drop(['Sex','Fasting_blood_sugar','Heart_attack','Chest_pain','ECG_results','Exercise_induced_angina','ST_slope','ST_depression','Major_vessels','Thalassemia_types'],axis = 'columns',inplace = True)\n",
    "plt.figure(figsize=(10,5))\n",
    "sns.heatmap(df2.corr(), annot=True, linewidth=0.5, cmap='coolwarm')"
   ]
  },
  {
   "cell_type": "markdown",
   "metadata": {},
   "source": [
    "# Univariate Data Analysis"
   ]
  },
  {
   "cell_type": "markdown",
   "metadata": {},
   "source": [
    "I have dropped categorical variables for heart attack heatmap and only continuous variables are shown.\n",
    "\n",
    "1. This shows age has some dependency on Resting Blood Pressure and Cholesterol. There is almost no dependecy of Maximum heart rate on Age.\n",
    "1. Resting blood pressure and Cholesterol also has a low dependency. Maximum heart rate and Resting blood pressure has almost no dependency."
   ]
  },
  {
   "cell_type": "markdown",
   "metadata": {},
   "source": [
    "<h1><font color='turquoise'><strong></strong></font></h1>"
   ]
  },
  {
   "cell_type": "code",
   "execution_count": null,
   "metadata": {},
   "outputs": [],
   "source": [
    "sns.set(rc={'figure.figsize':(20,5)})\n",
    "df['Age'].plot.hist(bins = 15, color = 'skyblue')"
   ]
  },
  {
   "cell_type": "markdown",
   "metadata": {},
   "source": [
    "The span of Ages that were taken for the case study."
   ]
  },
  {
   "cell_type": "code",
   "execution_count": null,
   "metadata": {},
   "outputs": [],
   "source": [
    "df['Resting_blood_pressure'].plot.hist(bins = 15, color = 'green')"
   ]
  },
  {
   "cell_type": "markdown",
   "metadata": {},
   "source": [
    "The span of Resting Blood pressure in the case study and they have an average value of 120-140."
   ]
  },
  {
   "cell_type": "code",
   "execution_count": null,
   "metadata": {},
   "outputs": [],
   "source": [
    "df['Cholesterol'].plot.hist(bins = 10, color = 'lightgrey')"
   ]
  },
  {
   "cell_type": "markdown",
   "metadata": {},
   "source": [
    "The cholesterol lies between 200 and 300."
   ]
  },
  {
   "cell_type": "code",
   "execution_count": null,
   "metadata": {},
   "outputs": [],
   "source": [
    "df['Maximum_heart_rate'].plot.hist(bins = 20, color = 'lightcoral')"
   ]
  },
  {
   "cell_type": "markdown",
   "metadata": {},
   "source": [
    "The maximum heart rate recorded for the patients. The span is showed and it had the maximum average at 160."
   ]
  },
  {
   "cell_type": "markdown",
   "metadata": {},
   "source": [
    "# Bivariate Data Analysis"
   ]
  },
  {
   "cell_type": "code",
   "execution_count": null,
   "metadata": {},
   "outputs": [],
   "source": [
    "sns.countplot(x = 'Age',hue = 'Chest_pain', data = df, color = 'green')"
   ]
  },
  {
   "cell_type": "markdown",
   "metadata": {},
   "source": [
    "The dependence of Chest pain on Age."
   ]
  },
  {
   "cell_type": "code",
   "execution_count": null,
   "metadata": {},
   "outputs": [],
   "source": [
    "sns.countplot(x = 'Age',hue = 'Fasting_blood_sugar', data = df,palette=\"Set3\")"
   ]
  },
  {
   "cell_type": "markdown",
   "metadata": {},
   "source": [
    "The dependence of result of Fasting blood sugar on age."
   ]
  },
  {
   "cell_type": "code",
   "execution_count": null,
   "metadata": {},
   "outputs": [],
   "source": [
    "sns.countplot(x = 'Age',hue = 'ECG_results', data = df,palette=\"Set2\")"
   ]
  },
  {
   "cell_type": "markdown",
   "metadata": {},
   "source": [
    "The dependence of result of ECG on age."
   ]
  },
  {
   "cell_type": "code",
   "execution_count": null,
   "metadata": {},
   "outputs": [],
   "source": [
    "sns.countplot(x = 'Age',hue = 'Exercise_induced_angina', data = df,palette=\"Set1\")"
   ]
  },
  {
   "cell_type": "markdown",
   "metadata": {},
   "source": [
    "The dependence of result of Exercise Induced Angina on age."
   ]
  },
  {
   "cell_type": "code",
   "execution_count": null,
   "metadata": {},
   "outputs": [],
   "source": [
    "sns.countplot(x = 'Age',hue = 'ST_slope', data = df, color = \"black\")"
   ]
  },
  {
   "cell_type": "markdown",
   "metadata": {},
   "source": [
    "The dependence of result of ST Slope on age."
   ]
  },
  {
   "cell_type": "code",
   "execution_count": null,
   "metadata": {},
   "outputs": [],
   "source": [
    "sns.countplot(x = 'Age',hue = 'Major_vessels', data = df, palette='Set1')"
   ]
  },
  {
   "cell_type": "markdown",
   "metadata": {},
   "source": [
    "The dependence of result of Major vessels being blocked with age."
   ]
  },
  {
   "cell_type": "code",
   "execution_count": null,
   "metadata": {},
   "outputs": [],
   "source": [
    "sns.countplot(x = 'Age',hue = 'Thalassemia_types', data = df)"
   ]
  },
  {
   "cell_type": "markdown",
   "metadata": {},
   "source": [
    "The dependence of result of Thalassemia on age."
   ]
  },
  {
   "cell_type": "code",
   "execution_count": null,
   "metadata": {},
   "outputs": [],
   "source": [
    "sns.countplot(x = 'Age',hue = 'Heart_attack', data = df1, palette = 'Set2')"
   ]
  },
  {
   "cell_type": "markdown",
   "metadata": {},
   "source": [
    "The dependence of Heart Attack on Age."
   ]
  },
  {
   "cell_type": "code",
   "execution_count": null,
   "metadata": {},
   "outputs": [],
   "source": [
    "sns.relplot(x ='Age', y ='Chest_pain', col = 'Sex', data = df1, color = 'red', height = 5)"
   ]
  },
  {
   "cell_type": "markdown",
   "metadata": {},
   "source": [
    "Relationship between Chest Pain, Age and Sex."
   ]
  },
  {
   "cell_type": "code",
   "execution_count": null,
   "metadata": {},
   "outputs": [],
   "source": [
    "sns.relplot(x ='Age', y ='Resting_blood_pressure', col = 'Sex', data = df1, color = 'green')"
   ]
  },
  {
   "cell_type": "markdown",
   "metadata": {},
   "source": [
    "Relationship between Rising Blood Pressure, Age and Sex."
   ]
  },
  {
   "cell_type": "code",
   "execution_count": null,
   "metadata": {},
   "outputs": [],
   "source": [
    "sns.relplot(x ='Age', y ='Cholesterol', col = 'Sex', data = df1, color = 'black')"
   ]
  },
  {
   "cell_type": "markdown",
   "metadata": {},
   "source": [
    "Relationship between Cholesterol, Age and Sex."
   ]
  },
  {
   "cell_type": "code",
   "execution_count": null,
   "metadata": {},
   "outputs": [],
   "source": [
    "sns.relplot(x ='Age', y ='Fasting_blood_sugar', col = 'Sex', data = df1, color = 'grey')"
   ]
  },
  {
   "cell_type": "markdown",
   "metadata": {},
   "source": [
    "Relationship between Fasting Blood Sugar, Age and Sex."
   ]
  },
  {
   "cell_type": "code",
   "execution_count": null,
   "metadata": {},
   "outputs": [],
   "source": [
    "sns.relplot(x ='Age', y ='ECG_results', col = 'Sex', data = df1, color = 'lightcoral')"
   ]
  },
  {
   "cell_type": "markdown",
   "metadata": {},
   "source": [
    "Relationship between ECG Results, Age and Sex."
   ]
  },
  {
   "cell_type": "code",
   "execution_count": null,
   "metadata": {},
   "outputs": [],
   "source": [
    "sns.relplot(x ='Age', y ='Maximum_heart_rate', col = 'Sex', data = df1, color = 'turquoise')"
   ]
  },
  {
   "cell_type": "markdown",
   "metadata": {},
   "source": [
    "Relationship between Maximum Heart Rate, Age and Sex."
   ]
  },
  {
   "cell_type": "code",
   "execution_count": null,
   "metadata": {},
   "outputs": [],
   "source": [
    "sns.jointplot(x =df['Age'], y =df1['Exercise_induced_angina'], data = df1, color = 'green')"
   ]
  },
  {
   "cell_type": "markdown",
   "metadata": {},
   "source": [
    "Relationship between Exercise Induced Angina and Age. The Age peaks at about 60 and Exercise Induced Angina problem is more at value 0."
   ]
  },
  {
   "cell_type": "code",
   "execution_count": null,
   "metadata": {},
   "outputs": [],
   "source": [
    "sns.relplot(x ='Age', y ='ST_depression', col = 'Sex', data = df1, color = 'crimson')"
   ]
  },
  {
   "cell_type": "markdown",
   "metadata": {},
   "source": [
    "Relationship between ST_depression, Age and Sex."
   ]
  },
  {
   "cell_type": "code",
   "execution_count": null,
   "metadata": {},
   "outputs": [],
   "source": [
    "sns.relplot(x ='Age', y ='Major_vessels', col = 'Sex', data = df1, color = 'orange')"
   ]
  },
  {
   "cell_type": "markdown",
   "metadata": {},
   "source": [
    "Relationship between Major_vessels, Age and Sex."
   ]
  },
  {
   "cell_type": "code",
   "execution_count": null,
   "metadata": {},
   "outputs": [],
   "source": [
    "sns.relplot(x ='Age', y ='Thalassemia_types', col = 'Sex', data = df1, color = 'teal')"
   ]
  },
  {
   "cell_type": "markdown",
   "metadata": {},
   "source": [
    "Relationship between Thalassemia type, Age and Sex."
   ]
  },
  {
   "cell_type": "markdown",
   "metadata": {},
   "source": [
    "![Explanation of Box Plot](https://www.simplypsychology.org/boxplot.jpg)\n",
    "\n",
    "Max means the maximum value of records for the boxplot.\n",
    "\n",
    "Upper Quartile encompasses the 75% of the population in the box plot.\n",
    "\n",
    "Lower Quartile encompasses the 25% of the population in the box plot.\n",
    "\n",
    "Inter Quartile encompasses the 25-75% of the population in the box plot. \n",
    "\n",
    "\n",
    "Median represents the middle value of the population of the category.\n",
    "\n",
    "Min represents the minimum value from where records start for boxplot."
   ]
  },
  {
   "cell_type": "code",
   "execution_count": null,
   "metadata": {},
   "outputs": [],
   "source": [
    "sns.catplot(x ='Age', y ='Heart_attack', col = 'Sex', data = df1, color = 'crimson', kind = 'box')"
   ]
  },
  {
   "cell_type": "markdown",
   "metadata": {},
   "source": [
    "Relationship between Heart Attack, Age and Sex."
   ]
  },
  {
   "cell_type": "code",
   "execution_count": null,
   "metadata": {},
   "outputs": [],
   "source": [
    "sns.relplot(x = 'Age', y = 'Resting_blood_pressure', kind = 'line', data=df,aspect = 1,height = 7, color = 'green')"
   ]
  },
  {
   "cell_type": "markdown",
   "metadata": {},
   "source": [
    "The shaded lines above and below the dark green lines specifies that multiple values are present on that instance. They all have regarded and their mean is taken for plotting."
   ]
  },
  {
   "cell_type": "code",
   "execution_count": null,
   "metadata": {},
   "outputs": [],
   "source": [
    "sns.relplot(x = 'Age', y = 'Cholesterol', kind = 'line', data=df,aspect = 1,height = 7, color = 'orange')"
   ]
  },
  {
   "cell_type": "code",
   "execution_count": null,
   "metadata": {},
   "outputs": [],
   "source": [
    "sns.relplot(x = 'Age', y = 'Maximum_heart_rate', kind = 'line', data=df,aspect = 1,height = 7, color = 'teal')"
   ]
  },
  {
   "cell_type": "code",
   "execution_count": null,
   "metadata": {},
   "outputs": [],
   "source": [
    "sns.set(style=\"ticks\", color_codes=True)\n",
    "sns.pairplot(df)"
   ]
  },
  {
   "cell_type": "markdown",
   "metadata": {},
   "source": [
    "This shows overall relationship between all the columns in the DataFrame."
   ]
  },
  {
   "cell_type": "markdown",
   "metadata": {},
   "source": [
    "<h2><font color='green'>The overall graphical analysis shows that females tend to suffer less from heart attack and that men have a higher chances of getting struck by a heart attack.<br>\n",
    "Men don't have a defined age span that they are safe from heart attack. Men below 30 also suffered from heart attack which wasn't the case with women. This shows men have to be more careful with their health conditions and situations.\n",
    "</font></h2>\n",
    "\n",
    "<h4><font color='orange'>Age was not such a huge critera for suffering from heart attack and rest of the parameters had very little relation amongst themselves. The tests taken showed various results where the patterns showed that the heart attack conditions could have been diagonsed a bit earlier.<br>\n",
    "If you go for some tests and the results are not good, then better proceedings need to be taken to avoid heart attack. Otherwise, there is no avoiding a heart attack.\n",
    "    </font></h4>"
   ]
  },
  {
   "cell_type": "markdown",
   "metadata": {},
   "source": [
    "# Model Selection and Training"
   ]
  },
  {
   "cell_type": "code",
   "execution_count": 13,
   "metadata": {},
   "outputs": [
    {
     "ename": "ImportError",
     "evalue": "No module named 'scikitplot'",
     "output_type": "error",
     "traceback": [
      "\u001b[1;31m---------------------------------------------------------------------------\u001b[0m",
      "\u001b[1;31mImportError\u001b[0m                               Traceback (most recent call last)",
      "\u001b[1;32m<ipython-input-13-1243a549a2c4>\u001b[0m in \u001b[0;36m<module>\u001b[1;34m()\u001b[0m\n\u001b[0;32m     16\u001b[0m \u001b[1;32mfrom\u001b[0m \u001b[0mpandas\u001b[0m \u001b[1;32mimport\u001b[0m \u001b[0mDataFrame\u001b[0m\u001b[1;33m\u001b[0m\u001b[0m\n\u001b[0;32m     17\u001b[0m \u001b[1;32mfrom\u001b[0m \u001b[0msklearn\u001b[0m\u001b[1;33m.\u001b[0m\u001b[0mmetrics\u001b[0m \u001b[1;32mimport\u001b[0m \u001b[0maccuracy_score\u001b[0m\u001b[1;33m,\u001b[0m\u001b[0mconfusion_matrix\u001b[0m\u001b[1;33m\u001b[0m\u001b[0m\n\u001b[1;32m---> 18\u001b[1;33m \u001b[1;32mimport\u001b[0m \u001b[0mscikitplot\u001b[0m \u001b[1;32mas\u001b[0m \u001b[0mskplt\u001b[0m\u001b[1;33m\u001b[0m\u001b[0m\n\u001b[0m\u001b[0;32m     19\u001b[0m \u001b[1;32mfrom\u001b[0m \u001b[0msklearn\u001b[0m \u001b[1;32mimport\u001b[0m \u001b[0mmetrics\u001b[0m\u001b[1;33m\u001b[0m\u001b[0m\n",
      "\u001b[1;31mImportError\u001b[0m: No module named 'scikitplot'"
     ]
    }
   ],
   "source": [
    "#Libraries for model selection\n",
    "from sklearn.linear_model import LogisticRegression\n",
    "from sklearn.svm import LinearSVC\n",
    "from sklearn.naive_bayes import GaussianNB\n",
    "from sklearn.naive_bayes import MultinomialNB\n",
    "from sklearn.tree import DecisionTreeClassifier\n",
    "from sklearn.ensemble import RandomForestClassifier\n",
    "from sklearn.ensemble import GradientBoostingClassifier\n",
    "from sklearn.neighbors import KNeighborsClassifier\n",
    "\n",
    "#Libraries for various model parameter selection.\n",
    "from sklearn.model_selection import train_test_split\n",
    "from sklearn.model_selection import GridSearchCV\n",
    "from sklearn.preprocessing import MinMaxScaler\n",
    "from sklearn.preprocessing import StandardScaler\n",
    "from pandas import DataFrame\n",
    "from sklearn.metrics import accuracy_score,confusion_matrix\n",
    "import scikitplot as skplt\n",
    "from sklearn import metrics"
   ]
  },
  {
   "cell_type": "code",
   "execution_count": 14,
   "metadata": {},
   "outputs": [],
   "source": [
    "dummy1 = pd.get_dummies(df.Chest_pain)\n",
    "dummy2 = pd.get_dummies(df.Thalassemia_types)\n",
    "dummy3 = pd.get_dummies(df.ECG_results)\n",
    "dummy4 = pd.get_dummies(df.ST_slope)\n",
    "dummy5 = pd.get_dummies(df.Major_vessels)\n",
    "merge = pd.concat([df,dummy1,dummy2,dummy3,dummy4,dummy5],axis = 'columns')"
   ]
  },
  {
   "cell_type": "markdown",
   "metadata": {},
   "source": [
    "I have created dummy variables for categorical data to increase the accuracy."
   ]
  },
  {
   "cell_type": "code",
   "execution_count": 15,
   "metadata": {},
   "outputs": [
    {
     "data": {
      "text/html": [
       "<div>\n",
       "<style scoped>\n",
       "    .dataframe tbody tr th:only-of-type {\n",
       "        vertical-align: middle;\n",
       "    }\n",
       "\n",
       "    .dataframe tbody tr th {\n",
       "        vertical-align: top;\n",
       "    }\n",
       "\n",
       "    .dataframe thead th {\n",
       "        text-align: right;\n",
       "    }\n",
       "</style>\n",
       "<table border=\"1\" class=\"dataframe\">\n",
       "  <thead>\n",
       "    <tr style=\"text-align: right;\">\n",
       "      <th></th>\n",
       "      <th>Age</th>\n",
       "      <th>Sex</th>\n",
       "      <th>Resting_blood_pressure</th>\n",
       "      <th>Cholesterol</th>\n",
       "      <th>Fasting_blood_sugar</th>\n",
       "      <th>Maximum_heart_rate</th>\n",
       "      <th>Exercise_induced_angina</th>\n",
       "      <th>ST_depression</th>\n",
       "      <th>Heart_attack</th>\n",
       "      <th>0</th>\n",
       "      <th>...</th>\n",
       "      <th>1</th>\n",
       "      <th>2</th>\n",
       "      <th>0</th>\n",
       "      <th>1</th>\n",
       "      <th>2</th>\n",
       "      <th>0</th>\n",
       "      <th>1</th>\n",
       "      <th>2</th>\n",
       "      <th>3</th>\n",
       "      <th>4</th>\n",
       "    </tr>\n",
       "  </thead>\n",
       "  <tbody>\n",
       "    <tr>\n",
       "      <th>0</th>\n",
       "      <td>63</td>\n",
       "      <td>1</td>\n",
       "      <td>145</td>\n",
       "      <td>233</td>\n",
       "      <td>1</td>\n",
       "      <td>150</td>\n",
       "      <td>0</td>\n",
       "      <td>2.3</td>\n",
       "      <td>1</td>\n",
       "      <td>0</td>\n",
       "      <td>...</td>\n",
       "      <td>0</td>\n",
       "      <td>0</td>\n",
       "      <td>1</td>\n",
       "      <td>0</td>\n",
       "      <td>0</td>\n",
       "      <td>1</td>\n",
       "      <td>0</td>\n",
       "      <td>0</td>\n",
       "      <td>0</td>\n",
       "      <td>0</td>\n",
       "    </tr>\n",
       "    <tr>\n",
       "      <th>1</th>\n",
       "      <td>37</td>\n",
       "      <td>1</td>\n",
       "      <td>130</td>\n",
       "      <td>250</td>\n",
       "      <td>0</td>\n",
       "      <td>187</td>\n",
       "      <td>0</td>\n",
       "      <td>3.5</td>\n",
       "      <td>1</td>\n",
       "      <td>0</td>\n",
       "      <td>...</td>\n",
       "      <td>1</td>\n",
       "      <td>0</td>\n",
       "      <td>1</td>\n",
       "      <td>0</td>\n",
       "      <td>0</td>\n",
       "      <td>1</td>\n",
       "      <td>0</td>\n",
       "      <td>0</td>\n",
       "      <td>0</td>\n",
       "      <td>0</td>\n",
       "    </tr>\n",
       "    <tr>\n",
       "      <th>2</th>\n",
       "      <td>41</td>\n",
       "      <td>0</td>\n",
       "      <td>130</td>\n",
       "      <td>204</td>\n",
       "      <td>0</td>\n",
       "      <td>172</td>\n",
       "      <td>0</td>\n",
       "      <td>1.4</td>\n",
       "      <td>1</td>\n",
       "      <td>0</td>\n",
       "      <td>...</td>\n",
       "      <td>0</td>\n",
       "      <td>0</td>\n",
       "      <td>0</td>\n",
       "      <td>0</td>\n",
       "      <td>1</td>\n",
       "      <td>1</td>\n",
       "      <td>0</td>\n",
       "      <td>0</td>\n",
       "      <td>0</td>\n",
       "      <td>0</td>\n",
       "    </tr>\n",
       "    <tr>\n",
       "      <th>3</th>\n",
       "      <td>56</td>\n",
       "      <td>1</td>\n",
       "      <td>120</td>\n",
       "      <td>236</td>\n",
       "      <td>0</td>\n",
       "      <td>178</td>\n",
       "      <td>0</td>\n",
       "      <td>0.8</td>\n",
       "      <td>1</td>\n",
       "      <td>0</td>\n",
       "      <td>...</td>\n",
       "      <td>1</td>\n",
       "      <td>0</td>\n",
       "      <td>0</td>\n",
       "      <td>0</td>\n",
       "      <td>1</td>\n",
       "      <td>1</td>\n",
       "      <td>0</td>\n",
       "      <td>0</td>\n",
       "      <td>0</td>\n",
       "      <td>0</td>\n",
       "    </tr>\n",
       "    <tr>\n",
       "      <th>4</th>\n",
       "      <td>57</td>\n",
       "      <td>0</td>\n",
       "      <td>120</td>\n",
       "      <td>354</td>\n",
       "      <td>0</td>\n",
       "      <td>163</td>\n",
       "      <td>1</td>\n",
       "      <td>0.6</td>\n",
       "      <td>1</td>\n",
       "      <td>1</td>\n",
       "      <td>...</td>\n",
       "      <td>1</td>\n",
       "      <td>0</td>\n",
       "      <td>0</td>\n",
       "      <td>0</td>\n",
       "      <td>1</td>\n",
       "      <td>1</td>\n",
       "      <td>0</td>\n",
       "      <td>0</td>\n",
       "      <td>0</td>\n",
       "      <td>0</td>\n",
       "    </tr>\n",
       "  </tbody>\n",
       "</table>\n",
       "<p>5 rows × 28 columns</p>\n",
       "</div>"
      ],
      "text/plain": [
       "   Age  Sex  Resting_blood_pressure  Cholesterol  Fasting_blood_sugar  \\\n",
       "0   63    1                     145          233                    1   \n",
       "1   37    1                     130          250                    0   \n",
       "2   41    0                     130          204                    0   \n",
       "3   56    1                     120          236                    0   \n",
       "4   57    0                     120          354                    0   \n",
       "\n",
       "   Maximum_heart_rate  Exercise_induced_angina  ST_depression  Heart_attack  \\\n",
       "0                 150                        0            2.3             1   \n",
       "1                 187                        0            3.5             1   \n",
       "2                 172                        0            1.4             1   \n",
       "3                 178                        0            0.8             1   \n",
       "4                 163                        1            0.6             1   \n",
       "\n",
       "   0  ...  1  2  0  1  2  0  1  2  3  4  \n",
       "0  0  ...  0  0  1  0  0  1  0  0  0  0  \n",
       "1  0  ...  1  0  1  0  0  1  0  0  0  0  \n",
       "2  0  ...  0  0  0  0  1  1  0  0  0  0  \n",
       "3  0  ...  1  0  0  0  1  1  0  0  0  0  \n",
       "4  1  ...  1  0  0  0  1  1  0  0  0  0  \n",
       "\n",
       "[5 rows x 28 columns]"
      ]
     },
     "execution_count": 15,
     "metadata": {},
     "output_type": "execute_result"
    }
   ],
   "source": [
    "final = merge.drop(['Chest_pain','Thalassemia_types','ECG_results','ST_slope','Major_vessels'],axis = 1)\n",
    "final.head()"
   ]
  },
  {
   "cell_type": "code",
   "execution_count": 16,
   "metadata": {},
   "outputs": [],
   "source": [
    "x = final.drop(['Heart_attack'], axis = 1)\n",
    "y = final['Heart_attack']"
   ]
  },
  {
   "cell_type": "code",
   "execution_count": 17,
   "metadata": {},
   "outputs": [],
   "source": [
    "x_train, x_test, y_train, y_test = train_test_split(x,y,test_size = 0.20, random_state = 5)"
   ]
  },
  {
   "cell_type": "code",
   "execution_count": 18,
   "metadata": {},
   "outputs": [],
   "source": [
    "feature_scaler = MinMaxScaler()\n",
    "x_train = feature_scaler.fit_transform(x_train)\n",
    "x_test = feature_scaler.transform(x_test)"
   ]
  },
  {
   "cell_type": "markdown",
   "metadata": {},
   "source": [
    "Scaled the data for better result."
   ]
  },
  {
   "cell_type": "code",
   "execution_count": 19,
   "metadata": {},
   "outputs": [],
   "source": [
    "accuracy = []"
   ]
  },
  {
   "cell_type": "markdown",
   "metadata": {},
   "source": [
    "List which will store the accuracy value for all models used."
   ]
  },
  {
   "cell_type": "markdown",
   "metadata": {},
   "source": [
    "# Logistic Regression"
   ]
  },
  {
   "cell_type": "code",
   "execution_count": 20,
   "metadata": {},
   "outputs": [
    {
     "data": {
      "text/plain": [
       "{'C': 0.1}"
      ]
     },
     "execution_count": 20,
     "metadata": {},
     "output_type": "execute_result"
    }
   ],
   "source": [
    "C = [0.01,0.1, 1, 5, 10]\n",
    "\n",
    "Log = LogisticRegression()\n",
    "\n",
    "parameters = {'C': [.1 ,2, 5, 10, 15, 20]}\n",
    "\n",
    "log_regressor = GridSearchCV(Log, parameters, scoring='neg_mean_squared_error' ,cv =5)\n",
    "log_regressor.fit(x_train, y_train)\n",
    "log_regressor.best_params_"
   ]
  },
  {
   "cell_type": "code",
   "execution_count": 21,
   "metadata": {},
   "outputs": [
    {
     "name": "stdout",
     "output_type": "stream",
     "text": [
      "Logistic Regression Accuracy --> 88.52459016393442\n"
     ]
    }
   ],
   "source": [
    "model1 = LogisticRegression(C=0.1)\n",
    "model1.fit(x_train,y_train)\n",
    "accuracy1 = model1.score(x_test,y_test)\n",
    "accuracy.append(accuracy1)\n",
    "print('Logistic Regression Accuracy -->',((accuracy1)*100))"
   ]
  },
  {
   "cell_type": "code",
   "execution_count": 22,
   "metadata": {},
   "outputs": [
    {
     "ename": "NameError",
     "evalue": "name 'skplt' is not defined",
     "output_type": "error",
     "traceback": [
      "\u001b[1;31m---------------------------------------------------------------------------\u001b[0m",
      "\u001b[1;31mNameError\u001b[0m                                 Traceback (most recent call last)",
      "\u001b[1;32m<ipython-input-22-10c6acd4ce45>\u001b[0m in \u001b[0;36m<module>\u001b[1;34m()\u001b[0m\n\u001b[0;32m      1\u001b[0m \u001b[0mpred1\u001b[0m \u001b[1;33m=\u001b[0m \u001b[0mmodel1\u001b[0m\u001b[1;33m.\u001b[0m\u001b[0mpredict\u001b[0m\u001b[1;33m(\u001b[0m\u001b[0mx_test\u001b[0m\u001b[1;33m)\u001b[0m\u001b[1;33m\u001b[0m\u001b[0m\n\u001b[0;32m      2\u001b[0m \u001b[0mmatrix1\u001b[0m \u001b[1;33m=\u001b[0m \u001b[1;33m(\u001b[0m\u001b[0my_test\u001b[0m\u001b[1;33m,\u001b[0m\u001b[0mpred1\u001b[0m\u001b[1;33m)\u001b[0m\u001b[1;33m\u001b[0m\u001b[0m\n\u001b[1;32m----> 3\u001b[1;33m \u001b[0mskplt\u001b[0m\u001b[1;33m.\u001b[0m\u001b[0mmetrics\u001b[0m\u001b[1;33m.\u001b[0m\u001b[0mplot_confusion_matrix\u001b[0m\u001b[1;33m(\u001b[0m\u001b[0my_test\u001b[0m\u001b[1;33m,\u001b[0m \u001b[0mpred1\u001b[0m\u001b[1;33m,\u001b[0m\u001b[0mfigsize\u001b[0m\u001b[1;33m=\u001b[0m\u001b[1;33m(\u001b[0m\u001b[1;36m10\u001b[0m\u001b[1;33m,\u001b[0m\u001b[1;36m5\u001b[0m\u001b[1;33m)\u001b[0m\u001b[1;33m)\u001b[0m\u001b[1;33m\u001b[0m\u001b[0m\n\u001b[0m",
      "\u001b[1;31mNameError\u001b[0m: name 'skplt' is not defined"
     ]
    }
   ],
   "source": [
    "pred1 = model1.predict(x_test)\n",
    "matrix1 = (y_test,pred1)\n",
    "skplt.metrics.plot_confusion_matrix(y_test, pred1,figsize=(10,5))"
   ]
  },
  {
   "cell_type": "markdown",
   "metadata": {},
   "source": [
    "This shows there were problem in only 7 values, otherwise all the values were predicted right."
   ]
  },
  {
   "cell_type": "markdown",
   "metadata": {},
   "source": [
    "# Decision Trees"
   ]
  },
  {
   "cell_type": "code",
   "execution_count": 23,
   "metadata": {},
   "outputs": [
    {
     "data": {
      "text/plain": [
       "{'criterion': 'gini'}"
      ]
     },
     "execution_count": 23,
     "metadata": {},
     "output_type": "execute_result"
    }
   ],
   "source": [
    "criterion = ['gini','entropy']\n",
    "splitter = ['best','random']\n",
    "\n",
    "Tree = DecisionTreeClassifier()\n",
    "\n",
    "parameters = {'criterion': ['gini','entropy']}\n",
    "\n",
    "tree_classifier = GridSearchCV(Tree, parameters, scoring='neg_mean_squared_error' ,cv =5)\n",
    "tree_classifier.fit(x_train, y_train)\n",
    "tree_classifier.best_params_"
   ]
  },
  {
   "cell_type": "code",
   "execution_count": 24,
   "metadata": {},
   "outputs": [
    {
     "name": "stdout",
     "output_type": "stream",
     "text": [
      "Decision Tree Accuracy --> 85.24590163934425\n"
     ]
    }
   ],
   "source": [
    "model2 = DecisionTreeClassifier(criterion = 'gini')\n",
    "model2.fit(x_train,y_train)\n",
    "accuracy2 = model2.score(x_test,y_test)\n",
    "accuracy.append(accuracy2)\n",
    "print('Decision Tree Accuracy -->',((accuracy2)*100))"
   ]
  },
  {
   "cell_type": "code",
   "execution_count": 25,
   "metadata": {},
   "outputs": [
    {
     "ename": "NameError",
     "evalue": "name 'skplt' is not defined",
     "output_type": "error",
     "traceback": [
      "\u001b[1;31m---------------------------------------------------------------------------\u001b[0m",
      "\u001b[1;31mNameError\u001b[0m                                 Traceback (most recent call last)",
      "\u001b[1;32m<ipython-input-25-fbd4b9ed0490>\u001b[0m in \u001b[0;36m<module>\u001b[1;34m()\u001b[0m\n\u001b[0;32m      1\u001b[0m \u001b[0mpred2\u001b[0m \u001b[1;33m=\u001b[0m \u001b[0mmodel2\u001b[0m\u001b[1;33m.\u001b[0m\u001b[0mpredict\u001b[0m\u001b[1;33m(\u001b[0m\u001b[0mx_test\u001b[0m\u001b[1;33m)\u001b[0m\u001b[1;33m\u001b[0m\u001b[0m\n\u001b[0;32m      2\u001b[0m \u001b[0mmatrix2\u001b[0m \u001b[1;33m=\u001b[0m \u001b[1;33m(\u001b[0m\u001b[0my_test\u001b[0m\u001b[1;33m,\u001b[0m\u001b[0mpred2\u001b[0m\u001b[1;33m)\u001b[0m\u001b[1;33m\u001b[0m\u001b[0m\n\u001b[1;32m----> 3\u001b[1;33m \u001b[0mskplt\u001b[0m\u001b[1;33m.\u001b[0m\u001b[0mmetrics\u001b[0m\u001b[1;33m.\u001b[0m\u001b[0mplot_confusion_matrix\u001b[0m\u001b[1;33m(\u001b[0m\u001b[0my_test\u001b[0m \u001b[1;33m,\u001b[0m\u001b[0mpred2\u001b[0m \u001b[1;33m,\u001b[0m\u001b[0mfigsize\u001b[0m\u001b[1;33m=\u001b[0m\u001b[1;33m(\u001b[0m\u001b[1;36m10\u001b[0m\u001b[1;33m,\u001b[0m\u001b[1;36m5\u001b[0m\u001b[1;33m)\u001b[0m\u001b[1;33m)\u001b[0m\u001b[1;33m\u001b[0m\u001b[0m\n\u001b[0m",
      "\u001b[1;31mNameError\u001b[0m: name 'skplt' is not defined"
     ]
    }
   ],
   "source": [
    "pred2 = model2.predict(x_test)\n",
    "matrix2 = (y_test,pred2)\n",
    "skplt.metrics.plot_confusion_matrix(y_test ,pred2 ,figsize=(10,5))"
   ]
  },
  {
   "cell_type": "markdown",
   "metadata": {},
   "source": [
    "This shows there were problem in 10 values, otherwise all the values were predicted right."
   ]
  },
  {
   "cell_type": "markdown",
   "metadata": {},
   "source": [
    "# Support Vector Machine"
   ]
  },
  {
   "cell_type": "code",
   "execution_count": 26,
   "metadata": {},
   "outputs": [
    {
     "data": {
      "text/plain": [
       "{'C': 0.01, 'loss': 'squared_hinge', 'penalty': 'l2'}"
      ]
     },
     "execution_count": 26,
     "metadata": {},
     "output_type": "execute_result"
    }
   ],
   "source": [
    "penalty = ['l1','l2']\n",
    "C = [0.01,0.1,1,5,10,15,20]\n",
    "loss = ['hinge','squared_hinge']\n",
    "\n",
    "SVM = LinearSVC()\n",
    "\n",
    "parameters = {'penalty':['l1','l2'],'C': [.01,.1,1,5,10,15,20],'loss':['hinge','squared_hinge']}\n",
    "\n",
    "SVM_classifier = GridSearchCV(SVM, parameters, scoring='neg_mean_squared_error' ,cv =5)\n",
    "SVM_classifier.fit(x_train, y_train)\n",
    "SVM_classifier.best_params_"
   ]
  },
  {
   "cell_type": "code",
   "execution_count": 27,
   "metadata": {},
   "outputs": [
    {
     "name": "stdout",
     "output_type": "stream",
     "text": [
      "SVM Classifier Accuracy --> 85.24590163934425\n"
     ]
    }
   ],
   "source": [
    "model3 = LinearSVC(C = 15,loss = 'hinge',penalty = 'l2')\n",
    "model3.fit(x_train,y_train)\n",
    "accuracy3 = model3.score(x_test,y_test)\n",
    "accuracy.append(accuracy3)\n",
    "print('SVM Classifier Accuracy -->',((accuracy3)*100))"
   ]
  },
  {
   "cell_type": "code",
   "execution_count": null,
   "metadata": {},
   "outputs": [],
   "source": [
    "pred3 = model3.predict(x_test)\n",
    "matrix3 = (y_test,pred3)\n",
    "skplt.metrics.plot_confusion_matrix(y_test ,pred3 ,figsize=(10,5))"
   ]
  },
  {
   "cell_type": "markdown",
   "metadata": {},
   "source": [
    "This shows there were problem in 9 values, otherwise all the values were predicted right."
   ]
  },
  {
   "cell_type": "markdown",
   "metadata": {},
   "source": [
    "# Gaussian Naive Bayes"
   ]
  },
  {
   "cell_type": "code",
   "execution_count": 28,
   "metadata": {},
   "outputs": [
    {
     "name": "stdout",
     "output_type": "stream",
     "text": [
      "Gaussian NB Accuracy --> 85.24590163934425\n"
     ]
    }
   ],
   "source": [
    "model4 = GaussianNB()\n",
    "\n",
    "model4.fit(x_train, y_train)\n",
    "accuracy4 = model4.score(x_test,y_test)\n",
    "accuracy.append(accuracy4)\n",
    "print('Gaussian NB Accuracy -->',((accuracy4)*100))"
   ]
  },
  {
   "cell_type": "code",
   "execution_count": 29,
   "metadata": {},
   "outputs": [
    {
     "ename": "NameError",
     "evalue": "name 'skplt' is not defined",
     "output_type": "error",
     "traceback": [
      "\u001b[1;31m---------------------------------------------------------------------------\u001b[0m",
      "\u001b[1;31mNameError\u001b[0m                                 Traceback (most recent call last)",
      "\u001b[1;32m<ipython-input-29-3c590e54850f>\u001b[0m in \u001b[0;36m<module>\u001b[1;34m()\u001b[0m\n\u001b[0;32m      1\u001b[0m \u001b[0mpred4\u001b[0m \u001b[1;33m=\u001b[0m \u001b[0mmodel4\u001b[0m\u001b[1;33m.\u001b[0m\u001b[0mpredict\u001b[0m\u001b[1;33m(\u001b[0m\u001b[0mx_test\u001b[0m\u001b[1;33m)\u001b[0m\u001b[1;33m\u001b[0m\u001b[0m\n\u001b[0;32m      2\u001b[0m \u001b[0mmatrix4\u001b[0m \u001b[1;33m=\u001b[0m \u001b[1;33m(\u001b[0m\u001b[0my_test\u001b[0m\u001b[1;33m,\u001b[0m\u001b[0mpred4\u001b[0m\u001b[1;33m)\u001b[0m\u001b[1;33m\u001b[0m\u001b[0m\n\u001b[1;32m----> 3\u001b[1;33m \u001b[0mskplt\u001b[0m\u001b[1;33m.\u001b[0m\u001b[0mmetrics\u001b[0m\u001b[1;33m.\u001b[0m\u001b[0mplot_confusion_matrix\u001b[0m\u001b[1;33m(\u001b[0m\u001b[0my_test\u001b[0m \u001b[1;33m,\u001b[0m\u001b[0mpred4\u001b[0m \u001b[1;33m,\u001b[0m\u001b[0mfigsize\u001b[0m\u001b[1;33m=\u001b[0m\u001b[1;33m(\u001b[0m\u001b[1;36m10\u001b[0m\u001b[1;33m,\u001b[0m\u001b[1;36m5\u001b[0m\u001b[1;33m)\u001b[0m\u001b[1;33m)\u001b[0m\u001b[1;33m\u001b[0m\u001b[0m\n\u001b[0m",
      "\u001b[1;31mNameError\u001b[0m: name 'skplt' is not defined"
     ]
    }
   ],
   "source": [
    "pred4 = model4.predict(x_test)\n",
    "matrix4 = (y_test,pred4)\n",
    "skplt.metrics.plot_confusion_matrix(y_test ,pred4 ,figsize=(10,5))"
   ]
  },
  {
   "cell_type": "markdown",
   "metadata": {},
   "source": [
    "This shows there were problem in 9 values, otherwise all the values were predicted right."
   ]
  },
  {
   "cell_type": "markdown",
   "metadata": {},
   "source": [
    "# Multinomial Naive Bayes"
   ]
  },
  {
   "cell_type": "code",
   "execution_count": 30,
   "metadata": {},
   "outputs": [
    {
     "name": "stdout",
     "output_type": "stream",
     "text": [
      "Multinomial NB Accuracy --> 88.52459016393442\n"
     ]
    }
   ],
   "source": [
    "model5 = MultinomialNB()\n",
    "\n",
    "model5.fit(x_train, y_train)\n",
    "accuracy5 = model5.score(x_test,y_test)\n",
    "accuracy.append(accuracy5)\n",
    "print('Multinomial NB Accuracy -->',((accuracy5)*100))"
   ]
  },
  {
   "cell_type": "code",
   "execution_count": null,
   "metadata": {},
   "outputs": [],
   "source": [
    "pred5 = model5.predict(x_test)\n",
    "matrix5 = (y_test,pred5)\n",
    "skplt.metrics.plot_confusion_matrix(y_test ,pred5 ,figsize=(10,5))"
   ]
  },
  {
   "cell_type": "markdown",
   "metadata": {},
   "source": [
    "This shows there were problem in only 7 values, otherwise all the values were predicted right."
   ]
  },
  {
   "cell_type": "markdown",
   "metadata": {},
   "source": [
    "# Random Forest Classifier"
   ]
  },
  {
   "cell_type": "code",
   "execution_count": 31,
   "metadata": {},
   "outputs": [
    {
     "data": {
      "text/plain": [
       "{'criterion': 'entropy', 'max_features': 'sqrt', 'n_estimators': 250}"
      ]
     },
     "execution_count": 31,
     "metadata": {},
     "output_type": "execute_result"
    }
   ],
   "source": [
    "n_estimators = [250,500,750,1000]\n",
    "criterion = ['gini','entropy']\n",
    "max_features = ['auto','sqrt','log2']\n",
    "random_state = [5]\n",
    "\n",
    "RF = RandomForestClassifier()\n",
    "\n",
    "parameters = {'n_estimators': [250,500,750,1000],'criterion': ['gini','entropy'],'max_features':['auto','sqrt','log2']}\n",
    "\n",
    "RFClassifier = GridSearchCV(RF, parameters, scoring='neg_mean_squared_error' ,cv =5)\n",
    "RFClassifier.fit(x_train, y_train)\n",
    "RFClassifier.best_params_"
   ]
  },
  {
   "cell_type": "code",
   "execution_count": 32,
   "metadata": {},
   "outputs": [
    {
     "name": "stdout",
     "output_type": "stream",
     "text": [
      "Random Forest Classifier Accuracy --> 93.44262295081968\n"
     ]
    }
   ],
   "source": [
    "model6 = RandomForestClassifier(criterion = 'entropy',max_features = 'log2',n_estimators = 250, random_state = 5)\n",
    "model6.fit(x_train,y_train)\n",
    "accuracy6 = model6.score(x_test,y_test)\n",
    "accuracy.append(accuracy6)\n",
    "print('Random Forest Classifier Accuracy -->',((accuracy6)*100))"
   ]
  },
  {
   "cell_type": "code",
   "execution_count": null,
   "metadata": {},
   "outputs": [],
   "source": [
    "pred6 = model6.predict(x_test)\n",
    "matrix6 = (y_test,pred6)\n",
    "skplt.metrics.plot_confusion_matrix(y_test ,pred6 ,figsize=(10,5))"
   ]
  },
  {
   "cell_type": "markdown",
   "metadata": {},
   "source": [
    "This shows there were problem in only 4 values, otherwise all the values were predicted right."
   ]
  },
  {
   "cell_type": "markdown",
   "metadata": {},
   "source": [
    "# Gradient Boosting Classifier\n"
   ]
  },
  {
   "cell_type": "code",
   "execution_count": 33,
   "metadata": {},
   "outputs": [
    {
     "data": {
      "text/plain": [
       "{'loss': 'exponential', 'max_features': 'log2', 'n_estimators': 250}"
      ]
     },
     "execution_count": 33,
     "metadata": {},
     "output_type": "execute_result"
    }
   ],
   "source": [
    "n_estimators = [250,500,750,1000]\n",
    "loss = ['deviance','exponential']\n",
    "max_features = ['auto','sqrt','log2']\n",
    "\n",
    "GB = GradientBoostingClassifier()\n",
    "\n",
    "parameters = {'n_estimators': [250,500,750,1000],'loss': ['deviance','exponential'],'max_features':['auto','sqrt','log2']}\n",
    "\n",
    "GBClassifier = GridSearchCV(GB, parameters, scoring='neg_mean_squared_error' ,cv =5)\n",
    "GBClassifier.fit(x_train, y_train)\n",
    "GBClassifier.best_params_"
   ]
  },
  {
   "cell_type": "code",
   "execution_count": 34,
   "metadata": {},
   "outputs": [
    {
     "name": "stdout",
     "output_type": "stream",
     "text": [
      "Gradient Boosting Classifier Accuracy --> 85.24590163934425\n"
     ]
    }
   ],
   "source": [
    "model7 = GradientBoostingClassifier(loss = 'deviance',max_features = 'log2',n_estimators = 500, random_state = 5)\n",
    "model7.fit(x_train,y_train)\n",
    "accuracy7 = model7.score(x_test,y_test)\n",
    "accuracy.append(accuracy7)\n",
    "print('Gradient Boosting Classifier Accuracy -->',((accuracy7)*100))"
   ]
  },
  {
   "cell_type": "code",
   "execution_count": null,
   "metadata": {},
   "outputs": [],
   "source": [
    "pred7 = model7.predict(x_test)\n",
    "matrix7 = (y_test,pred7)\n",
    "skplt.metrics.plot_confusion_matrix(y_test ,pred7 ,figsize=(10,5))"
   ]
  },
  {
   "cell_type": "markdown",
   "metadata": {},
   "source": [
    "This shows there were problem in 9 values, otherwise all the values were predicted right."
   ]
  },
  {
   "cell_type": "markdown",
   "metadata": {},
   "source": [
    "# K-Nearest Neighbors"
   ]
  },
  {
   "cell_type": "code",
   "execution_count": null,
   "metadata": {},
   "outputs": [],
   "source": [
    "Krange = range(1,20)\n",
    "scores = {}\n",
    "scores_list = []\n",
    "for k in Krange:\n",
    "    knn = KNeighborsClassifier(n_neighbors = k)\n",
    "    knn.fit(x_train,y_train)\n",
    "    y_pred = knn.predict(x_test)\n",
    "    scores[k] = metrics.accuracy_score(y_test,y_pred)\n",
    "    scores_list.append(metrics.accuracy_score(y_test,y_pred))\n",
    "    \n",
    "plt.plot(Krange,scores_list)\n",
    "plt.xlabel(\"Value of K\")\n",
    "plt.ylabel(\"Accuracy\")"
   ]
  },
  {
   "cell_type": "code",
   "execution_count": 35,
   "metadata": {},
   "outputs": [
    {
     "name": "stdout",
     "output_type": "stream",
     "text": [
      "Gradient Boosting Classifier Accuracy --> 91.80327868852459\n"
     ]
    }
   ],
   "source": [
    "model8 = KNeighborsClassifier(n_neighbors = 5)\n",
    "model8.fit(x_train,y_train)\n",
    "accuracy8 = model8.score(x_test,y_test)\n",
    "accuracy.append(accuracy8)\n",
    "print('Gradient Boosting Classifier Accuracy -->',((accuracy8)*100))"
   ]
  },
  {
   "cell_type": "code",
   "execution_count": null,
   "metadata": {},
   "outputs": [],
   "source": [
    "pred8 = model8.predict(x_test)\n",
    "matrix8 = (y_test,pred8)\n",
    "skplt.metrics.plot_confusion_matrix(y_test ,pred8 ,figsize=(10,5))"
   ]
  },
  {
   "cell_type": "markdown",
   "metadata": {},
   "source": [
    "This shows there were problem in only 5 values, otherwise all the values were predicted right."
   ]
  },
  {
   "cell_type": "markdown",
   "metadata": {},
   "source": [
    "# Overall accuracies obtained by the models"
   ]
  },
  {
   "cell_type": "code",
   "execution_count": 36,
   "metadata": {},
   "outputs": [],
   "source": [
    "Models = ['Logistic Regression','Decision Tree','SVM Classifier','Gaussian NB','Multinomial NB','Random Forest Classifier','Gradient Boost Classifier','K-Nearest Neighbors']\n",
    "total = list(zip(Models,accuracy))\n",
    "output = pd.DataFrame(total, columns = ['Models','Accuracy'])"
   ]
  },
  {
   "cell_type": "code",
   "execution_count": 37,
   "metadata": {},
   "outputs": [
    {
     "data": {
      "text/html": [
       "<style  type=\"text/css\" >\n",
       "    #T_14f05998_197f_11eb_82d3_48e244d40c44row0_col1 {\n",
       "            background-color:  #67000d;\n",
       "            color:  #f1f1f1;\n",
       "        }    #T_14f05998_197f_11eb_82d3_48e244d40c44row1_col1 {\n",
       "            background-color:  #bc141a;\n",
       "            color:  #f1f1f1;\n",
       "        }    #T_14f05998_197f_11eb_82d3_48e244d40c44row2_col1 {\n",
       "            background-color:  #fc8a6a;\n",
       "            color:  #000000;\n",
       "        }    #T_14f05998_197f_11eb_82d3_48e244d40c44row3_col1 {\n",
       "            background-color:  #fc8a6a;\n",
       "            color:  #000000;\n",
       "        }    #T_14f05998_197f_11eb_82d3_48e244d40c44row4_col1 {\n",
       "            background-color:  #fff5f0;\n",
       "            color:  #000000;\n",
       "        }    #T_14f05998_197f_11eb_82d3_48e244d40c44row5_col1 {\n",
       "            background-color:  #fff5f0;\n",
       "            color:  #000000;\n",
       "        }    #T_14f05998_197f_11eb_82d3_48e244d40c44row6_col1 {\n",
       "            background-color:  #fff5f0;\n",
       "            color:  #000000;\n",
       "        }    #T_14f05998_197f_11eb_82d3_48e244d40c44row7_col1 {\n",
       "            background-color:  #fff5f0;\n",
       "            color:  #000000;\n",
       "        }</style><table id=\"T_14f05998_197f_11eb_82d3_48e244d40c44\" ><thead>    <tr>        <th class=\"blank level0\" ></th>        <th class=\"col_heading level0 col0\" >Models</th>        <th class=\"col_heading level0 col1\" >Accuracy</th>    </tr></thead><tbody>\n",
       "                <tr>\n",
       "                        <th id=\"T_14f05998_197f_11eb_82d3_48e244d40c44level0_row0\" class=\"row_heading level0 row0\" >6</th>\n",
       "                        <td id=\"T_14f05998_197f_11eb_82d3_48e244d40c44row0_col0\" class=\"data row0 col0\" >Random Forest Classifier</td>\n",
       "                        <td id=\"T_14f05998_197f_11eb_82d3_48e244d40c44row0_col1\" class=\"data row0 col1\" >0.934426</td>\n",
       "            </tr>\n",
       "            <tr>\n",
       "                        <th id=\"T_14f05998_197f_11eb_82d3_48e244d40c44level0_row1\" class=\"row_heading level0 row1\" >3</th>\n",
       "                        <td id=\"T_14f05998_197f_11eb_82d3_48e244d40c44row1_col0\" class=\"data row1 col0\" >K-Nearest Neighbors</td>\n",
       "                        <td id=\"T_14f05998_197f_11eb_82d3_48e244d40c44row1_col1\" class=\"data row1 col1\" >0.918033</td>\n",
       "            </tr>\n",
       "            <tr>\n",
       "                        <th id=\"T_14f05998_197f_11eb_82d3_48e244d40c44level0_row2\" class=\"row_heading level0 row2\" >4</th>\n",
       "                        <td id=\"T_14f05998_197f_11eb_82d3_48e244d40c44row2_col0\" class=\"data row2 col0\" >Logistic Regression</td>\n",
       "                        <td id=\"T_14f05998_197f_11eb_82d3_48e244d40c44row2_col1\" class=\"data row2 col1\" >0.885246</td>\n",
       "            </tr>\n",
       "            <tr>\n",
       "                        <th id=\"T_14f05998_197f_11eb_82d3_48e244d40c44level0_row3\" class=\"row_heading level0 row3\" >5</th>\n",
       "                        <td id=\"T_14f05998_197f_11eb_82d3_48e244d40c44row3_col0\" class=\"data row3 col0\" >Multinomial NB</td>\n",
       "                        <td id=\"T_14f05998_197f_11eb_82d3_48e244d40c44row3_col1\" class=\"data row3 col1\" >0.885246</td>\n",
       "            </tr>\n",
       "            <tr>\n",
       "                        <th id=\"T_14f05998_197f_11eb_82d3_48e244d40c44level0_row4\" class=\"row_heading level0 row4\" >0</th>\n",
       "                        <td id=\"T_14f05998_197f_11eb_82d3_48e244d40c44row4_col0\" class=\"data row4 col0\" >Decision Tree</td>\n",
       "                        <td id=\"T_14f05998_197f_11eb_82d3_48e244d40c44row4_col1\" class=\"data row4 col1\" >0.852459</td>\n",
       "            </tr>\n",
       "            <tr>\n",
       "                        <th id=\"T_14f05998_197f_11eb_82d3_48e244d40c44level0_row5\" class=\"row_heading level0 row5\" >1</th>\n",
       "                        <td id=\"T_14f05998_197f_11eb_82d3_48e244d40c44row5_col0\" class=\"data row5 col0\" >Gaussian NB</td>\n",
       "                        <td id=\"T_14f05998_197f_11eb_82d3_48e244d40c44row5_col1\" class=\"data row5 col1\" >0.852459</td>\n",
       "            </tr>\n",
       "            <tr>\n",
       "                        <th id=\"T_14f05998_197f_11eb_82d3_48e244d40c44level0_row6\" class=\"row_heading level0 row6\" >2</th>\n",
       "                        <td id=\"T_14f05998_197f_11eb_82d3_48e244d40c44row6_col0\" class=\"data row6 col0\" >Gradient Boost Classifier</td>\n",
       "                        <td id=\"T_14f05998_197f_11eb_82d3_48e244d40c44row6_col1\" class=\"data row6 col1\" >0.852459</td>\n",
       "            </tr>\n",
       "            <tr>\n",
       "                        <th id=\"T_14f05998_197f_11eb_82d3_48e244d40c44level0_row7\" class=\"row_heading level0 row7\" >7</th>\n",
       "                        <td id=\"T_14f05998_197f_11eb_82d3_48e244d40c44row7_col0\" class=\"data row7 col0\" >SVM Classifier</td>\n",
       "                        <td id=\"T_14f05998_197f_11eb_82d3_48e244d40c44row7_col1\" class=\"data row7 col1\" >0.852459</td>\n",
       "            </tr>\n",
       "    </tbody></table>"
      ],
      "text/plain": [
       "<pandas.io.formats.style.Styler at 0x211acfe70f0>"
      ]
     },
     "execution_count": 37,
     "metadata": {},
     "output_type": "execute_result"
    }
   ],
   "source": [
    "s = output.groupby(['Models'])['Accuracy'].mean().reset_index().sort_values(by='Accuracy',ascending=False)\n",
    "s.head(10).style.background_gradient(cmap='Reds')"
   ]
  },
  {
   "cell_type": "markdown",
   "metadata": {},
   "source": [
    "This shows the accuracy of all the models that were obtained in a descending format."
   ]
  },
  {
   "cell_type": "code",
   "execution_count": null,
   "metadata": {},
   "outputs": [],
   "source": [
    "sns.lineplot(x = 'Models',y = 'Accuracy',data = output, color = 'Green' )"
   ]
  },
  {
   "cell_type": "markdown",
   "metadata": {},
   "source": [
    "The lineplot of various models and their accuracy obtained."
   ]
  },
  {
   "cell_type": "markdown",
   "metadata": {},
   "source": [
    "<h3><font color ='green'>The Random Forest Classifier has the highest accuracy and it went up to 93% accuracy in several random_state cases.<br>\n",
    "    The KNN Classifier showed the second higest accuracy and third came the Logisic Regression classifier.\n",
    "</font></h3>"
   ]
  },
  {
   "cell_type": "code",
   "execution_count": null,
   "metadata": {},
   "outputs": [],
   "source": []
  }
 ],
 "metadata": {
  "kernelspec": {
   "display_name": "Python 3",
   "language": "python",
   "name": "python3"
  },
  "language_info": {
   "codemirror_mode": {
    "name": "ipython",
    "version": 3
   },
   "file_extension": ".py",
   "mimetype": "text/x-python",
   "name": "python",
   "nbconvert_exporter": "python",
   "pygments_lexer": "ipython3",
   "version": "3.5.6"
  }
 },
 "nbformat": 4,
 "nbformat_minor": 4
}
