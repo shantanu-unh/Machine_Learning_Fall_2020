{
 "cells": [
  {
   "cell_type": "markdown",
   "metadata": {},
   "source": [
    "#  Homework #1\n",
    " Work to be done in this Jupyter Notebook and .pynb file turned in.   \n",
    " For full credit, all work must be shown.  \n",
    " Helpful Pandas Documentation: https://pandas.pydata.org/pandas-docs/stable/"
   ]
  },
  {
   "cell_type": "markdown",
   "metadata": {},
   "source": [
    "### 1. Download Kaggle Titanic Data\n",
    "https://www.kaggle.com/c/titanic/data"
   ]
  },
  {
   "cell_type": "code",
   "execution_count": 1,
   "metadata": {},
   "outputs": [
    {
     "name": "stdout",
     "output_type": "stream",
     "text": [
      "titanic.zip: Skipping, found more recently modified local copy (use --force to force download)\n"
     ]
    }
   ],
   "source": [
    "!kaggle competitions download -c titanic"
   ]
  },
  {
   "cell_type": "code",
   "execution_count": 2,
   "metadata": {},
   "outputs": [],
   "source": [
    "from zipfile import *\n",
    "\n",
    "with ZipFile('titanic.zip' , 'r') as zip:\n",
    "    zip.extractall()"
   ]
  },
  {
   "cell_type": "markdown",
   "metadata": {},
   "source": [
    "### 2. Create a Pandas DataFrame from the train.csv file"
   ]
  },
  {
   "cell_type": "code",
   "execution_count": 6,
   "metadata": {},
   "outputs": [
    {
     "name": "stdout",
     "output_type": "stream",
     "text": [
      "   PassengerId  Survived  Pclass  \\\n",
      "0            1         0       3   \n",
      "1            2         1       1   \n",
      "2            3         1       3   \n",
      "3            4         1       1   \n",
      "4            5         0       3   \n",
      "\n",
      "                                                Name     Sex   Age  SibSp  \\\n",
      "0                            Braund, Mr. Owen Harris    male  22.0      1   \n",
      "1  Cumings, Mrs. John Bradley (Florence Briggs Th...  female  38.0      1   \n",
      "2                             Heikkinen, Miss. Laina  female  26.0      0   \n",
      "3       Futrelle, Mrs. Jacques Heath (Lily May Peel)  female  35.0      1   \n",
      "4                           Allen, Mr. William Henry    male  35.0      0   \n",
      "\n",
      "   Parch            Ticket     Fare Cabin Embarked  \n",
      "0      0         A/5 21171   7.2500   NaN        S  \n",
      "1      0          PC 17599  71.2833   C85        C  \n",
      "2      0  STON/O2. 3101282   7.9250   NaN        S  \n",
      "3      0            113803  53.1000  C123        S  \n",
      "4      0            373450   8.0500   NaN        S  \n"
     ]
    }
   ],
   "source": [
    "import pandas as pd\n",
    "\n",
    "# Creating pandas dataframe name dataframe\n",
    "dataFrame = pd.read_csv('train.csv')\n",
    "print(dataFrame.head())"
   ]
  },
  {
   "cell_type": "markdown",
   "metadata": {},
   "source": [
    "### 3. How many rows are in the DataFrame ?"
   ]
  },
  {
   "cell_type": "code",
   "execution_count": 8,
   "metadata": {},
   "outputs": [
    {
     "name": "stdout",
     "output_type": "stream",
     "text": [
      "Rows per column in the Dataframe is :\n",
      "\n",
      "PassengerId    891\n",
      "Survived       891\n",
      "Pclass         891\n",
      "Name           891\n",
      "Sex            891\n",
      "Age            714\n",
      "SibSp          891\n",
      "Parch          891\n",
      "Ticket         891\n",
      "Fare           891\n",
      "Cabin          204\n",
      "Embarked       889\n",
      "dtype: int64\n"
     ]
    }
   ],
   "source": [
    "print(\"Rows per column in the Dataframe is :\\n\")\n",
    "print(dataFrame.count())"
   ]
  },
  {
   "cell_type": "markdown",
   "metadata": {},
   "source": [
    "### 4. Using pandas, determine the min, max, median, and mean age of passengers in the training dataset?"
   ]
  },
  {
   "cell_type": "code",
   "execution_count": 10,
   "metadata": {},
   "outputs": [
    {
     "name": "stdout",
     "output_type": "stream",
     "text": [
      "The Minimum Age of Passangers is : 0.42\n"
     ]
    }
   ],
   "source": [
    "# Printing the Minimum age of passangers\n",
    "print(\"The Minimum Age of Passangers is :\",dataFrame.Age.min())"
   ]
  },
  {
   "cell_type": "code",
   "execution_count": 11,
   "metadata": {},
   "outputs": [
    {
     "name": "stdout",
     "output_type": "stream",
     "text": [
      "The Maximum Age of Passangers is : 80.0\n"
     ]
    }
   ],
   "source": [
    "# Printing the Maximum Age of Passangers\n",
    "print(\"The Maximum Age of Passangers is :\",dataFrame.Age.max())"
   ]
  },
  {
   "cell_type": "code",
   "execution_count": 12,
   "metadata": {},
   "outputs": [
    {
     "name": "stdout",
     "output_type": "stream",
     "text": [
      "The Median Age of Passangers is : 28.0\n"
     ]
    }
   ],
   "source": [
    "# Printing the Median Age of Passangers\n",
    "print(\"The Median Age of Passangers is :\",dataFrame.Age.median())"
   ]
  },
  {
   "cell_type": "code",
   "execution_count": 15,
   "metadata": {},
   "outputs": [
    {
     "name": "stdout",
     "output_type": "stream",
     "text": [
      "The Mean Age of Passangers is: 30.0\n"
     ]
    }
   ],
   "source": [
    "# Printing the Mean Age of Passangers\n",
    "print(\"The Mean Age of Passangers is:\",dataFrame.Age.mean().round())"
   ]
  },
  {
   "cell_type": "markdown",
   "metadata": {},
   "source": [
    "### 5. Using pandas, determine the average age and fare paid for males?  Females?"
   ]
  },
  {
   "cell_type": "code",
   "execution_count": 16,
   "metadata": {},
   "outputs": [
    {
     "name": "stdout",
     "output_type": "stream",
     "text": [
      "The Avergae Age of Male Passanger is  31.0\n",
      "The Average Fare Paid by Male Passenger is  26.0\n",
      "\n",
      "\n",
      "The Average Age of Female Passanger is  28.0\n",
      "The Average Fare paid by Female Passanger is  44.0\n"
     ]
    }
   ],
   "source": [
    "# m_age = (dataFrame.Age.mean() if dataFrame.Sex == 'male')\n",
    "m_age = dataFrame.groupby('Sex').mean().reset_index()\n",
    "# print(m_age)\n",
    "\n",
    "#average age of males\n",
    "print(\"The Avergae Age of Male Passanger is \",m_age.Age[1].round())\n",
    "\n",
    "#average fare paid by males\n",
    "print(\"The Average Fare Paid by Male Passenger is \",m_age.Fare[1].round())\n",
    "\n",
    "\n",
    "#average age of females\n",
    "print(\"\\n\\nThe Average Age of Female Passanger is \",m_age.Age[0].round())\n",
    "\n",
    "#average fare paid by females\n",
    "print(\"The Average Fare paid by Female Passanger is \",m_age.Fare[0].round())"
   ]
  },
  {
   "cell_type": "markdown",
   "metadata": {},
   "source": [
    "### 6. Who was more likely to have survived the disaster, a male or female passenger?"
   ]
  },
  {
   "cell_type": "code",
   "execution_count": 22,
   "metadata": {},
   "outputs": [
    {
     "name": "stdout",
     "output_type": "stream",
     "text": [
      "Female Passanger were more likely to be survived in the disaster\n"
     ]
    }
   ],
   "source": [
    "# Finding the more likley survived gender\n",
    "survival = dataFrame.groupby('Sex').sum().reset_index()\n",
    "survival = survival['Survived']\n",
    "# print(survival)\n",
    "# Comparision of the survival addition of male and female and printing out the Gender\n",
    "if survival[0] < survival[1]:\n",
    "    print(\"Male Passanger were more likely to be survived in the disaster\")\n",
    "else:\n",
    "    print(\"Female Passanger were more likely to be survived in the disaster\")"
   ]
  }
 ],
 "metadata": {
  "kernelspec": {
   "display_name": "Python 3",
   "language": "python",
   "name": "python3"
  },
  "language_info": {
   "codemirror_mode": {
    "name": "ipython",
    "version": 3
   },
   "file_extension": ".py",
   "mimetype": "text/x-python",
   "name": "python",
   "nbconvert_exporter": "python",
   "pygments_lexer": "ipython3",
   "version": "3.5.6"
  }
 },
 "nbformat": 4,
 "nbformat_minor": 2
}
