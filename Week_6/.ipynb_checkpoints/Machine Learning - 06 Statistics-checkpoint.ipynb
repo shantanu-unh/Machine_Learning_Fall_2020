{
 "cells": [
  {
   "cell_type": "markdown",
   "metadata": {},
   "source": [
    "<h2 align=\"center\">Machine Learning</h2> \n",
    "<h3 align=\"center\">Travis Millburn<br>Fall 2020</h3> \n",
    "\n",
    "<center>\n",
    "<img src=\"../images/logo.png\" alt=\"drawing\" style=\"width: 300px;\"/>\n",
    "</center>\n",
    "\n",
    "<h3 align=\"center\">Class 6: Statistics Fundaments for Data Science</h3> \n"
   ]
  },
  {
   "cell_type": "code",
   "execution_count": null,
   "metadata": {},
   "outputs": [],
   "source": []
  },
  {
   "cell_type": "markdown",
   "metadata": {},
   "source": [
    "### Outline\n",
    "\n",
    "1. Exam Next Class\n",
    "\n",
    "2. Review Today\n",
    "\n",
    "2. Sampling\n",
    "\n",
    "3. Mean & Variance\n"
   ]
  },
  {
   "cell_type": "code",
   "execution_count": 1,
   "metadata": {},
   "outputs": [],
   "source": [
    "import numpy as np\n",
    "from matplotlib import pyplot as plt\n",
    "%matplotlib inline"
   ]
  },
  {
   "cell_type": "markdown",
   "metadata": {},
   "source": [
    "### Key Statistics Concepts\n",
    "\n",
    "* Mean & Variance (and related estimates)\n",
    "* Distributions\n",
    "* Sampling & Inference\n",
    "* Correlation (& Causation)"
   ]
  },
  {
   "cell_type": "markdown",
   "metadata": {},
   "source": [
    "### Statistics PRE-QUIZ\n",
    "\n",
    "Define these terms:\n",
    "    \n",
    "1. Mean & Variance\n",
    "2. Distribution\n",
    "3. Sample"
   ]
  },
  {
   "cell_type": "markdown",
   "metadata": {},
   "source": [
    "### Good versus Bad Sampling\n",
    "\n",
    "Is polling this class a good way to estimate the average age of US college students? Why or why not?\n",
    "\n",
    "<center>\n",
    "<img src=\"../images/sampling_clouds_2.png\" alt=\"drawing\" style=\"width: 700px;\" />\n",
    "</center>\n",
    "\n"
   ]
  },
  {
   "cell_type": "markdown",
   "metadata": {},
   "source": [
    "<center>\n",
    "<img src=\"../images/pop_vs_sample.JPG\" alt=\"drawing\" style=\"width: 700px;\" />\n",
    "</center>"
   ]
  },
  {
   "cell_type": "markdown",
   "metadata": {},
   "source": [
    "### Random Sampling\n",
    "\n",
    "A central concept in Statistics. If a sample is randomly taken where every member is equally likely to be chosen, then a concept called the _Central Limit Theorem_ (CLT) (generally known by the related _Law of Large Numbers_), allows us to compute confidence intervals, \"$p$-values, etc., describing how good our estimate is.   \n",
    "\n",
    "Ex: If you sample 100 students randomly, your estimate of the average, e.g., 30.5 years, will have a confidence interval of $\\pm 3.5$ years. Meaning the estimate is 63% likely to be within the interval [30.5-3.5, 30.5+3.5].\n",
    "\n",
    "_HOWEVER_: it all goes out the window if we do a bad job of sampling. "
   ]
  },
  {
   "cell_type": "markdown",
   "metadata": {},
   "source": [
    "### \"Real-World Sampling\"\n",
    "\n",
    "* Psychology studies that use psychology students.\n",
    "* Several hours spent recording info on cars that drive on street through campus.\n",
    "* Internet searches, youtube searches. \n",
    "* Study that uses patients who come into their clinic.\n",
    "* Online polls.\n",
    "\n",
    "Sampling Bias - error in estimate due to sampling that is not sufficiently random. What kinds of biases might appear in the above list?"
   ]
  },
  {
   "cell_type": "markdown",
   "metadata": {},
   "source": [
    "### Most basic things to do in statistics:\n",
    "\n",
    "<ol start=\"0\">\n",
    "  <li> Data display - _plots, histograms, ..._ </li>\n",
    "  <li> Compute averages $\\rightarrow$ _the mean_</li>\n",
    "  <li> Quantify variability $\\rightarrow$ _variance_, _standard deviation_</li>\n",
    "</ol>"
   ]
  },
  {
   "cell_type": "markdown",
   "metadata": {},
   "source": [
    "<center>\n",
    "<img src=\"../images/key_terms.JPG\" alt=\"drawing\" style=\"width: 700px;\" />\n",
    "</center>"
   ]
  },
  {
   "cell_type": "markdown",
   "metadata": {},
   "source": [
    "### Means... Simple averages\n",
    "\n",
    "<img src=\"../images/population_and_sample_Nn.png\" alt=\"drawing\"  width=\"30%\"  align=\"right\"/>\n",
    "\n",
    "#### Population mean: $\\mu = \\frac{\\sum_{i=1}^N x_i}{N}$ \n",
    "\n",
    "   ...As in _the whole population_\n",
    "\n",
    "#### Sample mean: $ \\bar{x} = \\frac{\\sum_{i=1}^n x_i}{n}$ \n",
    "\n",
    "   ...As in _just the sample_\n",
    "\n"
   ]
  },
  {
   "cell_type": "markdown",
   "metadata": {},
   "source": [
    "### Sample Mean (a.k.a. \"Mean\")\n",
    "\n",
    "The arithmetic average of the data values\n",
    "\n",
    "$$ \\bar{x} = \\frac{\\sum_{i=1}^n x_i}{n} = \\frac{x_1 + x_2 + \\ldots + x_n}{n} $$\n",
    "    where n is the sample size.\n",
    "    \n",
    "* The most common measure of center\n",
    "* Can be affected by extreme data values (outliers)\n",
    "\n",
    "<center><img src=\"../images/mean.png\" width=\"600\"></center>"
   ]
  },
  {
   "cell_type": "code",
   "execution_count": 2,
   "metadata": {},
   "outputs": [
    {
     "name": "stdout",
     "output_type": "stream",
     "text": [
      "3.0 3.0 4.0 4.0\n"
     ]
    }
   ],
   "source": [
    "print( (1+2+3+4+5)/5, np.mean((1,2,3,4,5)), (1+2+3+4+10)/5, np.mean((1,2,3,4,10)) )"
   ]
  },
  {
   "cell_type": "markdown",
   "metadata": {},
   "source": [
    "### Mode\n",
    "\n",
    "The most frequently occurred value\n",
    "\n",
    "* There may be no mode or several modes. \"Multimodal\" implies multiple peaks in histogram.\n",
    "* Not affected by extreme values (outliers)\n",
    "    \n",
    "<center><img src=\"../images/mode.png\" width=\"600\"></center>"
   ]
  },
  {
   "cell_type": "markdown",
   "metadata": {},
   "source": [
    "### Percentile\n",
    "\n",
    "The $p^{th}$ percentile - $p\\%$ of the values in the data are less than or equal to this value ($0 \\leq p \\leq 100$)\n",
    "\n",
    "#### Quartile: \n",
    "* $1^{st}$ quartile = $25^{th}$ percentile\n",
    "* $2^{nd}$ quartile = $50^{th}$ percentile = median\n",
    "* $3^{rd}$ quartile = $75^{th}$ percentile\n",
    "    \n",
    "<center><img src=\"../images/quartile.png\" width=\"500\"></center>\n",
    "\n",
    "How might you compute this?"
   ]
  },
  {
   "cell_type": "markdown",
   "metadata": {},
   "source": [
    "### Variance... trickier\n",
    "\n",
    "<img src=\"../images/population_and_sample_Nn.png\" alt=\"drawing\"  width=\"30%\"  align=\"right\"/>\n",
    "    \n",
    "#### Population variance: $\\sigma^2 = \\frac{\\sum_{i=1}^N (x_i - \\mu)^2}{N}$ \n",
    "\n",
    "   ...As in _the whole population_\n",
    "\n",
    "#### Sample variance: $ s^2 = \\frac{\\sum_{i=1}^n (x_i - \\bar{x})^2}{n - 1}$ \n",
    "\n",
    "   ...As in _just the sample_\n",
    "    \n",
    "Note that sneaky $n-1$ denominator. \n",
    "\n",
    "#### Standard deviation = $\\sqrt{\\text{Variance}}$ \n",
    "\n",
    "Variance is a kind of average too."
   ]
  },
  {
   "cell_type": "markdown",
   "metadata": {},
   "source": [
    "### Exercise\n",
    "\n",
    "\n",
    "#### Sample variance: $ s^2 = \\frac{\\sum_{i=1}^n (x_i - \\bar{x})^2}{n - 1}$ \n",
    "    \n",
    "#### Standard deviation = $\\sqrt{\\text{Variance}}$ \n",
    "\n",
    "How do these relate to the norms we covered?\n",
    "\n",
    "Do these by hand..."
   ]
  },
  {
   "cell_type": "code",
   "execution_count": 3,
   "metadata": {},
   "outputs": [
    {
     "data": {
      "text/html": [
       "<div>\n",
       "<style scoped>\n",
       "    .dataframe tbody tr th:only-of-type {\n",
       "        vertical-align: middle;\n",
       "    }\n",
       "\n",
       "    .dataframe tbody tr th {\n",
       "        vertical-align: top;\n",
       "    }\n",
       "\n",
       "    .dataframe thead th {\n",
       "        text-align: right;\n",
       "    }\n",
       "</style>\n",
       "<table border=\"1\" class=\"dataframe\">\n",
       "  <thead>\n",
       "    <tr style=\"text-align: right;\">\n",
       "      <th></th>\n",
       "      <th>value</th>\n",
       "    </tr>\n",
       "  </thead>\n",
       "  <tbody>\n",
       "    <tr>\n",
       "      <th>0</th>\n",
       "      <td>1</td>\n",
       "    </tr>\n",
       "    <tr>\n",
       "      <th>1</th>\n",
       "      <td>2</td>\n",
       "    </tr>\n",
       "    <tr>\n",
       "      <th>2</th>\n",
       "      <td>5</td>\n",
       "    </tr>\n",
       "    <tr>\n",
       "      <th>3</th>\n",
       "      <td>10</td>\n",
       "    </tr>\n",
       "    <tr>\n",
       "      <th>4</th>\n",
       "      <td>11</td>\n",
       "    </tr>\n",
       "    <tr>\n",
       "      <th>5</th>\n",
       "      <td>12</td>\n",
       "    </tr>\n",
       "    <tr>\n",
       "      <th>6</th>\n",
       "      <td>13</td>\n",
       "    </tr>\n",
       "    <tr>\n",
       "      <th>7</th>\n",
       "      <td>18</td>\n",
       "    </tr>\n",
       "  </tbody>\n",
       "</table>\n",
       "</div>"
      ],
      "text/plain": [
       "   value\n",
       "0      1\n",
       "1      2\n",
       "2      5\n",
       "3     10\n",
       "4     11\n",
       "5     12\n",
       "6     13\n",
       "7     18"
      ]
     },
     "execution_count": 3,
     "metadata": {},
     "output_type": "execute_result"
    }
   ],
   "source": [
    "import numpy\n",
    "import pandas\n",
    "vals = [1, 2, 5, 10, 11, 12, 13, 18]\n",
    "vals_df = pandas.DataFrame(vals, columns=['value'])\n",
    "vals_df"
   ]
  },
  {
   "cell_type": "code",
   "execution_count": 4,
   "metadata": {},
   "outputs": [
    {
     "data": {
      "text/html": [
       "<div>\n",
       "<style scoped>\n",
       "    .dataframe tbody tr th:only-of-type {\n",
       "        vertical-align: middle;\n",
       "    }\n",
       "\n",
       "    .dataframe tbody tr th {\n",
       "        vertical-align: top;\n",
       "    }\n",
       "\n",
       "    .dataframe thead th {\n",
       "        text-align: right;\n",
       "    }\n",
       "</style>\n",
       "<table border=\"1\" class=\"dataframe\">\n",
       "  <thead>\n",
       "    <tr style=\"text-align: right;\">\n",
       "      <th></th>\n",
       "      <th>value</th>\n",
       "      <th>delta</th>\n",
       "      <th>delta_sq</th>\n",
       "    </tr>\n",
       "  </thead>\n",
       "  <tbody>\n",
       "    <tr>\n",
       "      <th>0</th>\n",
       "      <td>1</td>\n",
       "      <td>-8.0</td>\n",
       "      <td>64.0</td>\n",
       "    </tr>\n",
       "    <tr>\n",
       "      <th>1</th>\n",
       "      <td>2</td>\n",
       "      <td>-7.0</td>\n",
       "      <td>49.0</td>\n",
       "    </tr>\n",
       "    <tr>\n",
       "      <th>2</th>\n",
       "      <td>5</td>\n",
       "      <td>-4.0</td>\n",
       "      <td>16.0</td>\n",
       "    </tr>\n",
       "    <tr>\n",
       "      <th>3</th>\n",
       "      <td>10</td>\n",
       "      <td>1.0</td>\n",
       "      <td>1.0</td>\n",
       "    </tr>\n",
       "    <tr>\n",
       "      <th>4</th>\n",
       "      <td>11</td>\n",
       "      <td>2.0</td>\n",
       "      <td>4.0</td>\n",
       "    </tr>\n",
       "    <tr>\n",
       "      <th>5</th>\n",
       "      <td>12</td>\n",
       "      <td>3.0</td>\n",
       "      <td>9.0</td>\n",
       "    </tr>\n",
       "    <tr>\n",
       "      <th>6</th>\n",
       "      <td>13</td>\n",
       "      <td>4.0</td>\n",
       "      <td>16.0</td>\n",
       "    </tr>\n",
       "    <tr>\n",
       "      <th>7</th>\n",
       "      <td>18</td>\n",
       "      <td>9.0</td>\n",
       "      <td>81.0</td>\n",
       "    </tr>\n",
       "  </tbody>\n",
       "</table>\n",
       "</div>"
      ],
      "text/plain": [
       "   value  delta  delta_sq\n",
       "0      1   -8.0      64.0\n",
       "1      2   -7.0      49.0\n",
       "2      5   -4.0      16.0\n",
       "3     10    1.0       1.0\n",
       "4     11    2.0       4.0\n",
       "5     12    3.0       9.0\n",
       "6     13    4.0      16.0\n",
       "7     18    9.0      81.0"
      ]
     },
     "execution_count": 4,
     "metadata": {},
     "output_type": "execute_result"
    }
   ],
   "source": [
    "vals_df['delta'] = vals_df['value'] - vals_df['value'].mean()\n",
    "vals_df['delta_sq'] = vals_df['delta'] **2\n",
    "vals_df"
   ]
  },
  {
   "cell_type": "code",
   "execution_count": 5,
   "metadata": {},
   "outputs": [
    {
     "data": {
      "text/plain": [
       "34.285714285714285"
      ]
     },
     "execution_count": 5,
     "metadata": {},
     "output_type": "execute_result"
    }
   ],
   "source": [
    "#variance:\n",
    "vals_df['delta_sq'].sum() / (vals_df['delta_sq'].count()  - 1)"
   ]
  },
  {
   "cell_type": "code",
   "execution_count": 6,
   "metadata": {},
   "outputs": [
    {
     "data": {
      "text/plain": [
       "5.855400437691199"
      ]
     },
     "execution_count": 6,
     "metadata": {},
     "output_type": "execute_result"
    }
   ],
   "source": [
    "#std deviation by hand\n",
    "(vals_df['delta_sq'].sum() / (vals_df['delta_sq'].count()  - 1) ) ** (1/2)"
   ]
  },
  {
   "cell_type": "code",
   "execution_count": 7,
   "metadata": {},
   "outputs": [
    {
     "data": {
      "text/plain": [
       "34.285714285714285"
      ]
     },
     "execution_count": 7,
     "metadata": {},
     "output_type": "execute_result"
    }
   ],
   "source": [
    "#What if we just ask pandas for the variance?\n",
    "vals_df['value'].var()"
   ]
  },
  {
   "cell_type": "code",
   "execution_count": 8,
   "metadata": {},
   "outputs": [
    {
     "data": {
      "text/plain": [
       "5.855400437691199"
      ]
     },
     "execution_count": 8,
     "metadata": {},
     "output_type": "execute_result"
    }
   ],
   "source": [
    "#What if we just ask pandas for the std_deviation ?\n",
    "vals_df['value'].std()"
   ]
  },
  {
   "cell_type": "markdown",
   "metadata": {},
   "source": [
    "## What is the mean?\n",
    "\n",
    "<center><img src=\"../images/dot_diagram_0.png\" alt=\"drawing\" style=\"width: 700px;\"/></center>\n",
    "\n",
    "       x = [1048 1059 1047 1066 1040 1070 1037 1073]\n"
   ]
  },
  {
   "cell_type": "markdown",
   "metadata": {},
   "source": [
    "## <center>What is the mean?</center>\n",
    "\n",
    "<center>\n",
    "<img src=\"../images/fig2-2.png\" alt=\"drawing\" style=\"width: 800px;\"/>\n",
    "</center>\n",
    "\n",
    "\n",
    "\n"
   ]
  },
  {
   "cell_type": "code",
   "execution_count": 9,
   "metadata": {},
   "outputs": [
    {
     "data": {
      "text/plain": [
       "1055.0"
      ]
     },
     "execution_count": 9,
     "metadata": {},
     "output_type": "execute_result"
    }
   ],
   "source": [
    "#Calculate by hand\n",
    "(1048 + 1059 + 1047 + 1066 + 1040 + 1070 + 1037 + 1073)/8"
   ]
  },
  {
   "cell_type": "code",
   "execution_count": 10,
   "metadata": {},
   "outputs": [
    {
     "data": {
      "text/plain": [
       "0    1055.0\n",
       "dtype: float64"
      ]
     },
     "execution_count": 10,
     "metadata": {},
     "output_type": "execute_result"
    }
   ],
   "source": [
    "x_df = pandas.DataFrame([1048, 1059, 1047, 1066, 1040, 1070, 1037, 1073])\n",
    "x_df.mean()"
   ]
  },
  {
   "cell_type": "markdown",
   "metadata": {},
   "source": [
    "## What is the Variance & Standard Deviation?\n",
    "\n",
    "<center>\n",
    "<img src=\"../images/fig2-2.png\" alt=\"drawing\" style=\"width: 800px;\"/>    \n",
    "</center>\n",
    "\n",
    "... how much are these points _spread out_ from the mean?\n"
   ]
  },
  {
   "cell_type": "markdown",
   "metadata": {},
   "source": [
    "## What is the Variance & Standard Deviation?\n",
    "\n",
    "* ## Sample variance: $ s^2 = \\frac{\\sum_{i=1}^n (x_i - \\bar{x})^2}{n - 1}$ \n",
    "\n",
    "<center><img src=\"../images/fig2-3.png\" alt=\"drawing\" style=\"width: 800px;\"/></center>\n",
    "\n",
    "* what are the units of variance and standard deviation?"
   ]
  },
  {
   "cell_type": "markdown",
   "metadata": {},
   "source": [
    "## Recap\n",
    "\n",
    "\\begin{align}\n",
    " \\text{Population mean} &= \\mu = \\frac{\\sum_{i=1}^N x_i}{N} \\\\\n",
    " \\text{Sample mean}     &= \\bar{x} = \\frac{\\sum_{i=1}^n x_i}{n} \\\\ \n",
    " \\text{Population variance} &= \\sigma^2 = \\frac{\\sum_{i=1}^N (x_i - \\mu)^2}{N} \\\\\n",
    " \\text{Sample variance}     &= s^2 = \\frac{\\sum_{i=1}^n (x_i - \\bar{x})^2}{n - 1} = \\frac{\\sum_{i=1}^n x_i^2  - \\frac{1}{n}(\\sum_{i=1}^n x_i)^2}{n - 1} \\\\ \n",
    " \\text{Standard deviation} &= \\sqrt{\\text{Variance}}\n",
    "\\end{align}"
   ]
  },
  {
   "cell_type": "markdown",
   "metadata": {},
   "source": [
    "#### The normal distribution is also referred to as a Gaussian distribution after Carl Friedrich Gauss, a prodigious German mathematician from the late 18th and early 19th century. Another name previously used for the normal distribution was the “error” distribution. Statistically speaking, an error is the difference between an actual value and a statistical estimate like the sample mean."
   ]
  },
  {
   "cell_type": "markdown",
   "metadata": {},
   "source": [
    "<center><img src=\"../images/normal_dist.JPG\" alt=\"drawing\" style=\"width: 800px;\"/></center>"
   ]
  },
  {
   "cell_type": "code",
   "execution_count": null,
   "metadata": {},
   "outputs": [],
   "source": []
  },
  {
   "cell_type": "code",
   "execution_count": null,
   "metadata": {},
   "outputs": [],
   "source": []
  }
 ],
 "metadata": {
  "kernelspec": {
   "display_name": "Python 3",
   "language": "python",
   "name": "python3"
  },
  "language_info": {
   "codemirror_mode": {
    "name": "ipython",
    "version": 3
   },
   "file_extension": ".py",
   "mimetype": "text/x-python",
   "name": "python",
   "nbconvert_exporter": "python",
   "pygments_lexer": "ipython3",
   "version": "3.5.6"
  }
 },
 "nbformat": 4,
 "nbformat_minor": 2
}
